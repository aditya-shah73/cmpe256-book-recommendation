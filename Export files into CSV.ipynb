{
 "cells": [
  {
   "cell_type": "markdown",
   "metadata": {},
   "source": [
    "# Export json.gz files to csv files"
   ]
  },
  {
   "cell_type": "code",
   "execution_count": 44,
   "metadata": {},
   "outputs": [],
   "source": [
    "import gzip\n",
    "import json\n",
    "import re\n",
    "import os\n",
    "import sys\n",
    "import numpy as np\n",
    "import pandas as pd"
   ]
  },
  {
   "cell_type": "code",
   "execution_count": 45,
   "metadata": {},
   "outputs": [],
   "source": [
    "DIR = './'"
   ]
  },
  {
   "cell_type": "code",
   "execution_count": 46,
   "metadata": {},
   "outputs": [],
   "source": [
    "#goodreads_books_mystery_thriller_crime.json.gz\n",
    "#goodreads_interactions_mystery_thriller_crime.json.gz\n",
    "#goodreads_reviews_mystery_thriller_crime.json.gz\n",
    "\n",
    "def load_data(file_name):\n",
    "    data = []\n",
    "    with gzip.open(file_name) as fin:\n",
    "        for l in fin:\n",
    "            d = json.loads(l)\n",
    "            data.append(d)        \n",
    "    return data"
   ]
  },
  {
   "cell_type": "code",
   "execution_count": 27,
   "metadata": {},
   "outputs": [],
   "source": [
    "books = load_data(os.path.join(DIR, 'goodreads_books_mystery_thriller_crime.json.gz'))\n",
    "interactions = load_data(os.path.join(DIR, 'goodreads_interactions_mystery_thriller_crime.json.gz'))\n",
    "reviews = load_data(os.path.join(DIR, 'goodreads_reviews_mystery_thriller_crime.json.gz'))\n",
    "authors = load_data(os.path.join(DIR, 'goodreads_book_authors.json.gz'))"
   ]
  },
  {
   "cell_type": "code",
   "execution_count": 41,
   "metadata": {},
   "outputs": [],
   "source": [
    "books_df = pd.DataFrame.from_dict(books, orient='columns')\n",
    "interactions_df = pd.DataFrame.from_dict(interactions, orient='columns')\n",
    "reviews_df = pd.DataFrame.from_dict(reviews, orient='columns')\n",
    "authors_df = pd.DataFrame.from_dict(authors, orient='columns')"
   ]
  },
  {
   "cell_type": "code",
   "execution_count": 43,
   "metadata": {},
   "outputs": [],
   "source": [
    "books_df.to_csv(r'goodreads_books_mystery_thriller_crime.csv', index=False)\n",
    "interactions_df.to_csv(r'goodreads_interactions_mystery_thriller_crime.csv', index=False)\n",
    "reviews_df.to_csv(r'goodreads_reviews_mystery_thriller_crime.csv', index=False)\n",
    "authors_df.to_csv(r'goodreads_book_authors.csv', index=False)"
   ]
  }
 ],
 "metadata": {
  "kernelspec": {
   "display_name": "Python 3",
   "language": "python",
   "name": "python3"
  },
  "language_info": {
   "codemirror_mode": {
    "name": "ipython",
    "version": 3
   },
   "file_extension": ".py",
   "mimetype": "text/x-python",
   "name": "python",
   "nbconvert_exporter": "python",
   "pygments_lexer": "ipython3",
   "version": "3.6.6"
  }
 },
 "nbformat": 4,
 "nbformat_minor": 2
}
