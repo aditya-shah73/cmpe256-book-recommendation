{
 "cells": [
  {
   "cell_type": "markdown",
   "metadata": {},
   "source": [
    "# CF based recommender system using multi-layered neural networks\n",
    "## Books for mystery, thriller, and crime\n",
    "https://sites.google.com/eng.ucsd.edu/ucsdbookgraph/home"
   ]
  },
  {
   "cell_type": "code",
   "execution_count": 1,
   "metadata": {},
   "outputs": [],
   "source": [
    "import sys\n",
    "sys.path.append('/home/014521052/venv-3.6.6-gpu/lib/python3.6/site-packages')\n",
    "\n",
    "import warnings\n",
    "if not sys.warnoptions:\n",
    "    warnings.simplefilter(\"ignore\")\n",
    "\n",
    "import pandas as pd\n",
    "import numpy as np\n",
    "\n",
    "import matplotlib as mpl\n",
    "import matplotlib.pyplot as plt"
   ]
  },
  {
   "cell_type": "markdown",
   "metadata": {},
   "source": [
    "### Load Data"
   ]
  },
  {
   "cell_type": "code",
   "execution_count": 2,
   "metadata": {},
   "outputs": [
    {
     "name": "stdout",
     "output_type": "stream",
     "text": [
      "(876145, 2)\n"
     ]
    },
    {
     "data": {
      "text/html": [
       "<div>\n",
       "<style scoped>\n",
       "    .dataframe tbody tr th:only-of-type {\n",
       "        vertical-align: middle;\n",
       "    }\n",
       "\n",
       "    .dataframe tbody tr th {\n",
       "        vertical-align: top;\n",
       "    }\n",
       "\n",
       "    .dataframe thead th {\n",
       "        text-align: right;\n",
       "    }\n",
       "</style>\n",
       "<table border=\"1\" class=\"dataframe\">\n",
       "  <thead>\n",
       "    <tr style=\"text-align: right;\">\n",
       "      <th></th>\n",
       "      <th>user_id_csv</th>\n",
       "      <th>user_id</th>\n",
       "    </tr>\n",
       "  </thead>\n",
       "  <tbody>\n",
       "    <tr>\n",
       "      <th>0</th>\n",
       "      <td>0</td>\n",
       "      <td>8842281e1d1347389f2ab93d60773d4d</td>\n",
       "    </tr>\n",
       "    <tr>\n",
       "      <th>1</th>\n",
       "      <td>1</td>\n",
       "      <td>72fb0d0087d28c832f15776b0d936598</td>\n",
       "    </tr>\n",
       "    <tr>\n",
       "      <th>2</th>\n",
       "      <td>2</td>\n",
       "      <td>ab2923b738ea3082f5f3efcbbfacb218</td>\n",
       "    </tr>\n",
       "  </tbody>\n",
       "</table>\n",
       "</div>"
      ],
      "text/plain": [
       "   user_id_csv                           user_id\n",
       "0            0  8842281e1d1347389f2ab93d60773d4d\n",
       "1            1  72fb0d0087d28c832f15776b0d936598\n",
       "2            2  ab2923b738ea3082f5f3efcbbfacb218"
      ]
     },
     "execution_count": 2,
     "metadata": {},
     "output_type": "execute_result"
    }
   ],
   "source": [
    "user_id_df = pd.read_csv('user_id_map.csv')\n",
    "print(user_id_df.shape)\n",
    "user_id_df.head(3)"
   ]
  },
  {
   "cell_type": "code",
   "execution_count": 3,
   "metadata": {},
   "outputs": [
    {
     "name": "stdout",
     "output_type": "stream",
     "text": [
      "(2360650, 2)\n"
     ]
    },
    {
     "data": {
      "text/html": [
       "<div>\n",
       "<style scoped>\n",
       "    .dataframe tbody tr th:only-of-type {\n",
       "        vertical-align: middle;\n",
       "    }\n",
       "\n",
       "    .dataframe tbody tr th {\n",
       "        vertical-align: top;\n",
       "    }\n",
       "\n",
       "    .dataframe thead th {\n",
       "        text-align: right;\n",
       "    }\n",
       "</style>\n",
       "<table border=\"1\" class=\"dataframe\">\n",
       "  <thead>\n",
       "    <tr style=\"text-align: right;\">\n",
       "      <th></th>\n",
       "      <th>book_id_csv</th>\n",
       "      <th>book_id</th>\n",
       "    </tr>\n",
       "  </thead>\n",
       "  <tbody>\n",
       "    <tr>\n",
       "      <th>0</th>\n",
       "      <td>0</td>\n",
       "      <td>34684622</td>\n",
       "    </tr>\n",
       "    <tr>\n",
       "      <th>1</th>\n",
       "      <td>1</td>\n",
       "      <td>34536488</td>\n",
       "    </tr>\n",
       "    <tr>\n",
       "      <th>2</th>\n",
       "      <td>2</td>\n",
       "      <td>34017076</td>\n",
       "    </tr>\n",
       "  </tbody>\n",
       "</table>\n",
       "</div>"
      ],
      "text/plain": [
       "   book_id_csv   book_id\n",
       "0            0  34684622\n",
       "1            1  34536488\n",
       "2            2  34017076"
      ]
     },
     "execution_count": 3,
     "metadata": {},
     "output_type": "execute_result"
    }
   ],
   "source": [
    "book_id_df = pd.read_csv('book_id_map.csv')\n",
    "print(book_id_df.shape)\n",
    "book_id_df.head(3)"
   ]
  },
  {
   "cell_type": "code",
   "execution_count": 107,
   "metadata": {},
   "outputs": [
    {
     "name": "stdout",
     "output_type": "stream",
     "text": [
      "(219235, 29)\n"
     ]
    },
    {
     "data": {
      "text/html": [
       "<div>\n",
       "<style scoped>\n",
       "    .dataframe tbody tr th:only-of-type {\n",
       "        vertical-align: middle;\n",
       "    }\n",
       "\n",
       "    .dataframe tbody tr th {\n",
       "        vertical-align: top;\n",
       "    }\n",
       "\n",
       "    .dataframe thead th {\n",
       "        text-align: right;\n",
       "    }\n",
       "</style>\n",
       "<table border=\"1\" class=\"dataframe\">\n",
       "  <thead>\n",
       "    <tr style=\"text-align: right;\">\n",
       "      <th></th>\n",
       "      <th>asin</th>\n",
       "      <th>author_id</th>\n",
       "      <th>average_rating</th>\n",
       "      <th>book_id</th>\n",
       "      <th>country_code</th>\n",
       "      <th>description</th>\n",
       "      <th>edition_information</th>\n",
       "      <th>format</th>\n",
       "      <th>image_url</th>\n",
       "      <th>is_ebook</th>\n",
       "      <th>...</th>\n",
       "      <th>publication_year</th>\n",
       "      <th>publisher</th>\n",
       "      <th>ratings_count</th>\n",
       "      <th>series</th>\n",
       "      <th>similar_books</th>\n",
       "      <th>text_reviews_count</th>\n",
       "      <th>title</th>\n",
       "      <th>title_without_series</th>\n",
       "      <th>url</th>\n",
       "      <th>work_id</th>\n",
       "    </tr>\n",
       "  </thead>\n",
       "  <tbody>\n",
       "    <tr>\n",
       "      <th>0</th>\n",
       "      <td>NaN</td>\n",
       "      <td>37778</td>\n",
       "      <td>3.93</td>\n",
       "      <td>6066814</td>\n",
       "      <td>US</td>\n",
       "      <td>London, 1196. At the command of Richard the Li...</td>\n",
       "      <td>NaN</td>\n",
       "      <td>Hardcover</td>\n",
       "      <td>https://images.gr-assets.com/books/1328724803m...</td>\n",
       "      <td>False</td>\n",
       "      <td>...</td>\n",
       "      <td>2009.0</td>\n",
       "      <td>Simon &amp; Schuster UK</td>\n",
       "      <td>186</td>\n",
       "      <td>['169353']</td>\n",
       "      <td>'439108', '522621', '116770', '1275927', '6202...</td>\n",
       "      <td>15</td>\n",
       "      <td>Crowner Royal (Crowner John Mystery, #13)</td>\n",
       "      <td>Crowner Royal (Crowner John Mystery, #13)</td>\n",
       "      <td>https://www.goodreads.com/book/show/6066814-cr...</td>\n",
       "      <td>6243149</td>\n",
       "    </tr>\n",
       "    <tr>\n",
       "      <th>1</th>\n",
       "      <td>B01NCIKAQX</td>\n",
       "      <td>242185</td>\n",
       "      <td>4.33</td>\n",
       "      <td>33394837</td>\n",
       "      <td>US</td>\n",
       "      <td>NaN</td>\n",
       "      <td>NaN</td>\n",
       "      <td>NaN</td>\n",
       "      <td>https://images.gr-assets.com/books/1493114742m...</td>\n",
       "      <td>True</td>\n",
       "      <td>...</td>\n",
       "      <td>NaN</td>\n",
       "      <td>NaN</td>\n",
       "      <td>269</td>\n",
       "      <td>['1052227']</td>\n",
       "      <td></td>\n",
       "      <td>60</td>\n",
       "      <td>The House of Memory (Pluto's Snitch #2)</td>\n",
       "      <td>The House of Memory (Pluto's Snitch #2)</td>\n",
       "      <td>https://www.goodreads.com/book/show/33394837-t...</td>\n",
       "      <td>54143148</td>\n",
       "    </tr>\n",
       "    <tr>\n",
       "      <th>2</th>\n",
       "      <td>B01ALOWJN0</td>\n",
       "      <td>15104629</td>\n",
       "      <td>3.49</td>\n",
       "      <td>29074697</td>\n",
       "      <td>US</td>\n",
       "      <td>BATHS, BANKS AND ROMAN INSURRECTION\\nDetective...</td>\n",
       "      <td>NaN</td>\n",
       "      <td>NaN</td>\n",
       "      <td>https://s.gr-assets.com/assets/nophoto/book/11...</td>\n",
       "      <td>True</td>\n",
       "      <td>...</td>\n",
       "      <td>NaN</td>\n",
       "      <td>Amazon Digital Services</td>\n",
       "      <td>192</td>\n",
       "      <td>['953679']</td>\n",
       "      <td></td>\n",
       "      <td>23</td>\n",
       "      <td>The Slaughtered Virgin of Zenopolis (Inspector...</td>\n",
       "      <td>The Slaughtered Virgin of Zenopolis (Inspector...</td>\n",
       "      <td>https://www.goodreads.com/book/show/29074697-t...</td>\n",
       "      <td>49305010</td>\n",
       "    </tr>\n",
       "  </tbody>\n",
       "</table>\n",
       "<p>3 rows × 29 columns</p>\n",
       "</div>"
      ],
      "text/plain": [
       "         asin author_id  average_rating   book_id country_code  \\\n",
       "0         NaN     37778            3.93   6066814           US   \n",
       "1  B01NCIKAQX    242185            4.33  33394837           US   \n",
       "2  B01ALOWJN0  15104629            3.49  29074697           US   \n",
       "\n",
       "                                         description edition_information  \\\n",
       "0  London, 1196. At the command of Richard the Li...                 NaN   \n",
       "1                                                NaN                 NaN   \n",
       "2  BATHS, BANKS AND ROMAN INSURRECTION\\nDetective...                 NaN   \n",
       "\n",
       "      format                                          image_url  is_ebook  \\\n",
       "0  Hardcover  https://images.gr-assets.com/books/1328724803m...     False   \n",
       "1        NaN  https://images.gr-assets.com/books/1493114742m...      True   \n",
       "2        NaN  https://s.gr-assets.com/assets/nophoto/book/11...      True   \n",
       "\n",
       "     ...    publication_year                publisher ratings_count  \\\n",
       "0    ...              2009.0      Simon & Schuster UK           186   \n",
       "1    ...                 NaN                      NaN           269   \n",
       "2    ...                 NaN  Amazon Digital Services           192   \n",
       "\n",
       "        series                                      similar_books  \\\n",
       "0   ['169353']  '439108', '522621', '116770', '1275927', '6202...   \n",
       "1  ['1052227']                                                      \n",
       "2   ['953679']                                                      \n",
       "\n",
       "   text_reviews_count                                              title  \\\n",
       "0                  15          Crowner Royal (Crowner John Mystery, #13)   \n",
       "1                  60            The House of Memory (Pluto's Snitch #2)   \n",
       "2                  23  The Slaughtered Virgin of Zenopolis (Inspector...   \n",
       "\n",
       "                                title_without_series  \\\n",
       "0          Crowner Royal (Crowner John Mystery, #13)   \n",
       "1            The House of Memory (Pluto's Snitch #2)   \n",
       "2  The Slaughtered Virgin of Zenopolis (Inspector...   \n",
       "\n",
       "                                                 url   work_id  \n",
       "0  https://www.goodreads.com/book/show/6066814-cr...   6243149  \n",
       "1  https://www.goodreads.com/book/show/33394837-t...  54143148  \n",
       "2  https://www.goodreads.com/book/show/29074697-t...  49305010  \n",
       "\n",
       "[3 rows x 29 columns]"
      ]
     },
     "execution_count": 107,
     "metadata": {},
     "output_type": "execute_result"
    }
   ],
   "source": [
    "books_df = pd.read_csv('goodreads_books_mystery_thriller_crime.csv')\n",
    "books_df.authors = books_df.authors.str.split(pat = \",\").str[0].str.split(pat=\":\").str[1].str.split(pat=\"'\").str[1]\n",
    "books_df = books_df.rename(columns={'authors': 'author_id'})\n",
    "books_df.similar_books = books_df.similar_books.str.replace(\"^\\[|\\]$\",\"\")\n",
    "print(books_df.shape)\n",
    "books_df.head(3)"
   ]
  },
  {
   "cell_type": "code",
   "execution_count": 4,
   "metadata": {},
   "outputs": [
    {
     "name": "stdout",
     "output_type": "stream",
     "text": [
      "(9876021, 3)\n"
     ]
    },
    {
     "data": {
      "text/html": [
       "<div>\n",
       "<style scoped>\n",
       "    .dataframe tbody tr th:only-of-type {\n",
       "        vertical-align: middle;\n",
       "    }\n",
       "\n",
       "    .dataframe tbody tr th {\n",
       "        vertical-align: top;\n",
       "    }\n",
       "\n",
       "    .dataframe thead th {\n",
       "        text-align: right;\n",
       "    }\n",
       "</style>\n",
       "<table border=\"1\" class=\"dataframe\">\n",
       "  <thead>\n",
       "    <tr style=\"text-align: right;\">\n",
       "      <th></th>\n",
       "      <th>user_id</th>\n",
       "      <th>book_id</th>\n",
       "      <th>rating</th>\n",
       "    </tr>\n",
       "  </thead>\n",
       "  <tbody>\n",
       "    <tr>\n",
       "      <th>0</th>\n",
       "      <td>eabd6e8c6dc181d8fb5bd65573e9b51b</td>\n",
       "      <td>25365</td>\n",
       "      <td>3</td>\n",
       "    </tr>\n",
       "    <tr>\n",
       "      <th>1</th>\n",
       "      <td>f6bf54164ddeba9eb812c024aff1902c</td>\n",
       "      <td>8467921</td>\n",
       "      <td>3</td>\n",
       "    </tr>\n",
       "    <tr>\n",
       "      <th>2</th>\n",
       "      <td>7322c5cb2d2dc8a289374e8ae5c4903a</td>\n",
       "      <td>29960804</td>\n",
       "      <td>2</td>\n",
       "    </tr>\n",
       "  </tbody>\n",
       "</table>\n",
       "</div>"
      ],
      "text/plain": [
       "                            user_id   book_id  rating\n",
       "0  eabd6e8c6dc181d8fb5bd65573e9b51b     25365       3\n",
       "1  f6bf54164ddeba9eb812c024aff1902c   8467921       3\n",
       "2  7322c5cb2d2dc8a289374e8ae5c4903a  29960804       2"
      ]
     },
     "execution_count": 4,
     "metadata": {},
     "output_type": "execute_result"
    }
   ],
   "source": [
    "train_df = pd.read_csv('data/train.csv')\n",
    "print(train_df.shape)\n",
    "train_df.head(3)"
   ]
  },
  {
   "cell_type": "code",
   "execution_count": 5,
   "metadata": {},
   "outputs": [
    {
     "name": "stdout",
     "output_type": "stream",
     "text": [
      "(2549129, 3)\n"
     ]
    },
    {
     "data": {
      "text/html": [
       "<div>\n",
       "<style scoped>\n",
       "    .dataframe tbody tr th:only-of-type {\n",
       "        vertical-align: middle;\n",
       "    }\n",
       "\n",
       "    .dataframe tbody tr th {\n",
       "        vertical-align: top;\n",
       "    }\n",
       "\n",
       "    .dataframe thead th {\n",
       "        text-align: right;\n",
       "    }\n",
       "</style>\n",
       "<table border=\"1\" class=\"dataframe\">\n",
       "  <thead>\n",
       "    <tr style=\"text-align: right;\">\n",
       "      <th></th>\n",
       "      <th>user_id</th>\n",
       "      <th>book_id</th>\n",
       "      <th>rating</th>\n",
       "    </tr>\n",
       "  </thead>\n",
       "  <tbody>\n",
       "    <tr>\n",
       "      <th>0</th>\n",
       "      <td>4374ea549de7ab51ce7ef59311babfee</td>\n",
       "      <td>17185496</td>\n",
       "      <td>4</td>\n",
       "    </tr>\n",
       "    <tr>\n",
       "      <th>1</th>\n",
       "      <td>f2fd8750f9b4b167e2eea57def6b0657</td>\n",
       "      <td>5349974</td>\n",
       "      <td>0</td>\n",
       "    </tr>\n",
       "    <tr>\n",
       "      <th>2</th>\n",
       "      <td>0e836dfd49f285f2e564145cd7ab245e</td>\n",
       "      <td>105992</td>\n",
       "      <td>5</td>\n",
       "    </tr>\n",
       "  </tbody>\n",
       "</table>\n",
       "</div>"
      ],
      "text/plain": [
       "                            user_id   book_id  rating\n",
       "0  4374ea549de7ab51ce7ef59311babfee  17185496       4\n",
       "1  f2fd8750f9b4b167e2eea57def6b0657   5349974       0\n",
       "2  0e836dfd49f285f2e564145cd7ab245e    105992       5"
      ]
     },
     "execution_count": 5,
     "metadata": {},
     "output_type": "execute_result"
    }
   ],
   "source": [
    "test_df = pd.read_csv('data/test.csv')\n",
    "print(test_df.shape)\n",
    "test_df.head(3)"
   ]
  },
  {
   "cell_type": "markdown",
   "metadata": {},
   "source": [
    "### Data merge with user_id and book_id map"
   ]
  },
  {
   "cell_type": "code",
   "execution_count": 6,
   "metadata": {},
   "outputs": [
    {
     "name": "stdout",
     "output_type": "stream",
     "text": [
      "(9876021, 5)\n"
     ]
    },
    {
     "data": {
      "text/html": [
       "<div>\n",
       "<style scoped>\n",
       "    .dataframe tbody tr th:only-of-type {\n",
       "        vertical-align: middle;\n",
       "    }\n",
       "\n",
       "    .dataframe tbody tr th {\n",
       "        vertical-align: top;\n",
       "    }\n",
       "\n",
       "    .dataframe thead th {\n",
       "        text-align: right;\n",
       "    }\n",
       "</style>\n",
       "<table border=\"1\" class=\"dataframe\">\n",
       "  <thead>\n",
       "    <tr style=\"text-align: right;\">\n",
       "      <th></th>\n",
       "      <th>user_id</th>\n",
       "      <th>book_id</th>\n",
       "      <th>rating</th>\n",
       "      <th>user_id_csv</th>\n",
       "      <th>book_id_csv</th>\n",
       "    </tr>\n",
       "  </thead>\n",
       "  <tbody>\n",
       "    <tr>\n",
       "      <th>2558176</th>\n",
       "      <td>9b9d1449546f1499c5b17f02a67adf4e</td>\n",
       "      <td>23014593</td>\n",
       "      <td>5</td>\n",
       "      <td>373394</td>\n",
       "      <td>33245</td>\n",
       "    </tr>\n",
       "    <tr>\n",
       "      <th>9725844</th>\n",
       "      <td>7b54379b95867bf85011a689f14f71dd</td>\n",
       "      <td>26760189</td>\n",
       "      <td>5</td>\n",
       "      <td>399636</td>\n",
       "      <td>2301630</td>\n",
       "    </tr>\n",
       "    <tr>\n",
       "      <th>7504997</th>\n",
       "      <td>ae14b278a26b529a7977ff686cd23e63</td>\n",
       "      <td>1075595</td>\n",
       "      <td>2</td>\n",
       "      <td>653191</td>\n",
       "      <td>499112</td>\n",
       "    </tr>\n",
       "  </tbody>\n",
       "</table>\n",
       "</div>"
      ],
      "text/plain": [
       "                                  user_id   book_id  rating  user_id_csv  \\\n",
       "2558176  9b9d1449546f1499c5b17f02a67adf4e  23014593       5       373394   \n",
       "9725844  7b54379b95867bf85011a689f14f71dd  26760189       5       399636   \n",
       "7504997  ae14b278a26b529a7977ff686cd23e63   1075595       2       653191   \n",
       "\n",
       "         book_id_csv  \n",
       "2558176        33245  \n",
       "9725844      2301630  \n",
       "7504997       499112  "
      ]
     },
     "execution_count": 6,
     "metadata": {},
     "output_type": "execute_result"
    }
   ],
   "source": [
    "temp = pd.merge(train_df[['user_id', 'book_id', 'rating']], user_id_df[['user_id','user_id_csv']], on='user_id' )\n",
    "trainSet = pd.merge(temp[['user_id', 'book_id', 'rating', 'user_id_csv']], book_id_df[['book_id','book_id_csv']], on='book_id' )\n",
    "print(trainSet.shape)\n",
    "trainSet.sample(3)"
   ]
  },
  {
   "cell_type": "code",
   "execution_count": 7,
   "metadata": {},
   "outputs": [
    {
     "name": "stdout",
     "output_type": "stream",
     "text": [
      "(2549129, 5)\n"
     ]
    },
    {
     "data": {
      "text/html": [
       "<div>\n",
       "<style scoped>\n",
       "    .dataframe tbody tr th:only-of-type {\n",
       "        vertical-align: middle;\n",
       "    }\n",
       "\n",
       "    .dataframe tbody tr th {\n",
       "        vertical-align: top;\n",
       "    }\n",
       "\n",
       "    .dataframe thead th {\n",
       "        text-align: right;\n",
       "    }\n",
       "</style>\n",
       "<table border=\"1\" class=\"dataframe\">\n",
       "  <thead>\n",
       "    <tr style=\"text-align: right;\">\n",
       "      <th></th>\n",
       "      <th>user_id</th>\n",
       "      <th>book_id</th>\n",
       "      <th>rating</th>\n",
       "      <th>user_id_csv</th>\n",
       "      <th>book_id_csv</th>\n",
       "    </tr>\n",
       "  </thead>\n",
       "  <tbody>\n",
       "    <tr>\n",
       "      <th>553649</th>\n",
       "      <td>def264aa828e429d883d626532bc6ff7</td>\n",
       "      <td>6587879</td>\n",
       "      <td>4</td>\n",
       "      <td>295818</td>\n",
       "      <td>5757</td>\n",
       "    </tr>\n",
       "    <tr>\n",
       "      <th>30667</th>\n",
       "      <td>8aefe752c1b2cfd791e78993c8bb3ab7</td>\n",
       "      <td>5358</td>\n",
       "      <td>5</td>\n",
       "      <td>60831</td>\n",
       "      <td>834</td>\n",
       "    </tr>\n",
       "    <tr>\n",
       "      <th>326713</th>\n",
       "      <td>ff0ed9f550956c8f632328f48e361fe6</td>\n",
       "      <td>968</td>\n",
       "      <td>3</td>\n",
       "      <td>31735</td>\n",
       "      <td>1203</td>\n",
       "    </tr>\n",
       "  </tbody>\n",
       "</table>\n",
       "</div>"
      ],
      "text/plain": [
       "                                 user_id  book_id  rating  user_id_csv  \\\n",
       "553649  def264aa828e429d883d626532bc6ff7  6587879       4       295818   \n",
       "30667   8aefe752c1b2cfd791e78993c8bb3ab7     5358       5        60831   \n",
       "326713  ff0ed9f550956c8f632328f48e361fe6      968       3        31735   \n",
       "\n",
       "        book_id_csv  \n",
       "553649         5757  \n",
       "30667           834  \n",
       "326713         1203  "
      ]
     },
     "execution_count": 7,
     "metadata": {},
     "output_type": "execute_result"
    }
   ],
   "source": [
    "temp = pd.merge(test_df[['user_id', 'book_id', 'rating']], user_id_df[['user_id','user_id_csv']], on='user_id' )\n",
    "testSet = pd.merge(temp[['user_id', 'book_id', 'rating', 'user_id_csv']], book_id_df[['book_id','book_id_csv']], on='book_id' )\n",
    "print(testSet.shape)\n",
    "testSet.sample(3)"
   ]
  },
  {
   "cell_type": "markdown",
   "metadata": {},
   "source": [
    "### Data Exploration"
   ]
  },
  {
   "cell_type": "code",
   "execution_count": 8,
   "metadata": {},
   "outputs": [
    {
     "data": {
      "text/html": [
       "<div>\n",
       "<style scoped>\n",
       "    .dataframe tbody tr th:only-of-type {\n",
       "        vertical-align: middle;\n",
       "    }\n",
       "\n",
       "    .dataframe tbody tr th {\n",
       "        vertical-align: top;\n",
       "    }\n",
       "\n",
       "    .dataframe thead th {\n",
       "        text-align: right;\n",
       "    }\n",
       "</style>\n",
       "<table border=\"1\" class=\"dataframe\">\n",
       "  <thead>\n",
       "    <tr style=\"text-align: right;\">\n",
       "      <th></th>\n",
       "      <th>book_id</th>\n",
       "      <th>rating</th>\n",
       "    </tr>\n",
       "  </thead>\n",
       "  <tbody>\n",
       "    <tr>\n",
       "      <th>count</th>\n",
       "      <td>9.876021e+06</td>\n",
       "      <td>9.876021e+06</td>\n",
       "    </tr>\n",
       "    <tr>\n",
       "      <th>mean</th>\n",
       "      <td>8.298135e+06</td>\n",
       "      <td>3.605505e+00</td>\n",
       "    </tr>\n",
       "    <tr>\n",
       "      <th>std</th>\n",
       "      <td>9.922950e+06</td>\n",
       "      <td>1.311846e+00</td>\n",
       "    </tr>\n",
       "    <tr>\n",
       "      <th>min</th>\n",
       "      <td>1.640000e+02</td>\n",
       "      <td>0.000000e+00</td>\n",
       "    </tr>\n",
       "    <tr>\n",
       "      <th>25%</th>\n",
       "      <td>9.829300e+04</td>\n",
       "      <td>3.000000e+00</td>\n",
       "    </tr>\n",
       "    <tr>\n",
       "      <th>50%</th>\n",
       "      <td>2.429135e+06</td>\n",
       "      <td>4.000000e+00</td>\n",
       "    </tr>\n",
       "    <tr>\n",
       "      <th>75%</th>\n",
       "      <td>1.608548e+07</td>\n",
       "      <td>5.000000e+00</td>\n",
       "    </tr>\n",
       "    <tr>\n",
       "      <th>max</th>\n",
       "      <td>3.649449e+07</td>\n",
       "      <td>5.000000e+00</td>\n",
       "    </tr>\n",
       "  </tbody>\n",
       "</table>\n",
       "</div>"
      ],
      "text/plain": [
       "            book_id        rating\n",
       "count  9.876021e+06  9.876021e+06\n",
       "mean   8.298135e+06  3.605505e+00\n",
       "std    9.922950e+06  1.311846e+00\n",
       "min    1.640000e+02  0.000000e+00\n",
       "25%    9.829300e+04  3.000000e+00\n",
       "50%    2.429135e+06  4.000000e+00\n",
       "75%    1.608548e+07  5.000000e+00\n",
       "max    3.649449e+07  5.000000e+00"
      ]
     },
     "execution_count": 8,
     "metadata": {},
     "output_type": "execute_result"
    }
   ],
   "source": [
    "train_df.describe()"
   ]
  },
  {
   "cell_type": "code",
   "execution_count": 9,
   "metadata": {},
   "outputs": [
    {
     "name": "stdout",
     "output_type": "stream",
     "text": [
      "<class 'pandas.core.frame.DataFrame'>\n",
      "RangeIndex: 9876021 entries, 0 to 9876020\n",
      "Data columns (total 3 columns):\n",
      "user_id    object\n",
      "book_id    int64\n",
      "rating     int64\n",
      "dtypes: int64(2), object(1)\n",
      "memory usage: 226.0+ MB\n"
     ]
    }
   ],
   "source": [
    "train_df.info()"
   ]
  },
  {
   "cell_type": "code",
   "execution_count": 10,
   "metadata": {},
   "outputs": [
    {
     "data": {
      "text/plain": [
       "user_id    0\n",
       "book_id    0\n",
       "rating     0\n",
       "dtype: int64"
      ]
     },
     "execution_count": 10,
     "metadata": {},
     "output_type": "execute_result"
    }
   ],
   "source": [
    "train_df.isnull().sum(axis=0)"
   ]
  },
  {
   "cell_type": "code",
   "execution_count": 11,
   "metadata": {},
   "outputs": [
    {
     "name": "stdout",
     "output_type": "stream",
     "text": [
      "Number of users:  211013\n",
      "Number of books:  497178\n"
     ]
    }
   ],
   "source": [
    "num_users = train_df.book_id.nunique()\n",
    "num_books = train_df.user_id.nunique()\n",
    "\n",
    "print(\"Number of users: \", num_users)\n",
    "print(\"Number of books: \", num_books)"
   ]
  },
  {
   "cell_type": "code",
   "execution_count": 12,
   "metadata": {},
   "outputs": [
    {
     "name": "stdout",
     "output_type": "stream",
     "text": [
      "rating=0, n=627848 (6.357%)\n",
      "rating=1, n=153336 (1.553%)\n",
      "rating=2, n=549580 (5.565%)\n",
      "rating=3, n=2367284 (23.970%)\n",
      "rating=4, n=3636165 (36.818%)\n",
      "rating=5, n=2541808 (25.737%)\n"
     ]
    },
    {
     "data": {
      "image/png": "[encoded data removed]",
      "text/plain": [
       "<Figure size 720x360 with 1 Axes>"
      ]
     },
     "metadata": {
      "needs_background": "light"
     },
     "output_type": "display_data"
    }
   ],
   "source": [
    "from collections import Counter\n",
    "\n",
    "counter = Counter(sorted(train_df.rating))\n",
    "\n",
    "for k,v in counter.items():\n",
    "    per = v/len(train_df.rating)*100\n",
    "    print('rating=%d, n=%d (%.3f%%)'%(k, v, per))\n",
    "\n",
    "#plot class distribution\n",
    "plt.figure(figsize=(10, 5))\n",
    "plt.title('Distribution of ratings')\n",
    "plt.bar(counter.keys(), counter.values())\n",
    "plt.xlabel('rating')\n",
    "plt.ylabel('number of ratings')\n",
    "plt.show()"
   ]
  },
  {
   "cell_type": "code",
   "execution_count": 13,
   "metadata": {},
   "outputs": [
    {
     "data": {
      "text/plain": [
       "((7900816, 5), (1975205, 5))"
      ]
     },
     "execution_count": 13,
     "metadata": {},
     "output_type": "execute_result"
    }
   ],
   "source": [
    "# split dataset into train and test dataset\n",
    "from sklearn.model_selection import train_test_split\n",
    "X_train, X_test = train_test_split(trainSet, test_size=0.2, random_state=42)\n",
    "X_train.shape, X_test.shape"
   ]
  },
  {
   "cell_type": "markdown",
   "metadata": {},
   "source": [
    "### Model Creation"
   ]
  },
  {
   "cell_type": "code",
   "execution_count": 14,
   "metadata": {},
   "outputs": [
    {
     "name": "stdout",
     "output_type": "stream",
     "text": [
      "Tensorflow Version:  1.14.0\n",
      "Keras Version:  2.2.4-tf\n"
     ]
    }
   ],
   "source": [
    "import tensorflow as tf\n",
    "print(\"Tensorflow Version: \", tf.__version__)\n",
    "print(\"Keras Version: \", tf.keras.__version__)"
   ]
  },
  {
   "cell_type": "code",
   "execution_count": 15,
   "metadata": {},
   "outputs": [],
   "source": [
    "from tensorflow.keras.models import Sequential, Model\n",
    "from tensorflow.keras.layers import Input, Embedding, Concatenate\n",
    "from tensorflow.keras.layers import Activation, Dropout, Flatten, Dense\n",
    "from tensorflow.keras.layers import BatchNormalization\n",
    "from tensorflow.keras.regularizers import l2\n",
    "from tensorflow.keras.optimizers import Adam\n",
    "from tensorflow.keras.layers import Dot\n",
    "from tensorflow.keras.layers import dot"
   ]
  },
  {
   "cell_type": "code",
   "execution_count": 83,
   "metadata": {},
   "outputs": [],
   "source": [
    "def gen_MLP_model(n_factors, lr):\n",
    "    #user input network\n",
    "    input_users = Input(shape=[1])\n",
    "    embed_users = Embedding(num_users + 1, \n",
    "                            n_factors,\n",
    "                            embeddings_initializer='glorot_uniform',\n",
    "                            embeddings_regularizer=l2(1e-6))(input_users)\n",
    "    users_out = Flatten()(embed_users)\n",
    "    \n",
    "    #book input network\n",
    "    input_books = Input(shape=[1])\n",
    "    embed_books = Embedding(num_books + 1, \n",
    "                            n_factors,\n",
    "                            embeddings_initializer='glorot_uniform',\n",
    "                            embeddings_regularizer=l2(1e-6))(input_books)\n",
    "    books_out = Flatten()(embed_books)\n",
    "\n",
    "    conc_layer = Concatenate()([users_out, books_out])\n",
    "    x = Dense(64, activation='relu')(conc_layer)\n",
    "    x = Dropout(0.05)(x)   \n",
    "    x = Dense(32, activation='relu')(x)\n",
    "    x = Dense(16, activation='relu')(x)\n",
    "    x = Dense(16, activation='relu')(x)\n",
    "    x = Dense(8, activation='relu')(x)\n",
    "    x = BatchNormalization()(x) \n",
    "    x_out = x = Dense(1, activation='relu')(x)\n",
    "    model = Model([input_users, input_books], x_out)\n",
    "    \n",
    "    model.compile(\n",
    "        optimizer=Adam(learning_rate=lr),\n",
    "        loss='mean_squared_error',\n",
    "        metrics = [tf.keras.metrics.RootMeanSquaredError(name='RMSE')]\n",
    "    )\n",
    "      \n",
    "    return model"
   ]
  },
  {
   "cell_type": "code",
   "execution_count": 84,
   "metadata": {},
   "outputs": [],
   "source": [
    "def gen_MF_NN_model(n_factors, lr):\n",
    "    #user input network\n",
    "    input_users = Input(shape=(1,))\n",
    "    embed_users = Embedding(num_users + 1, \n",
    "                            n_factors,\n",
    "                            embeddings_initializer='glorot_uniform',\n",
    "                            embeddings_regularizer=l2(1e-4))(input_users)\n",
    "\n",
    "    #book input network\n",
    "    input_books = Input(shape=(1,))\n",
    "    embed_books = Embedding(num_books + 1, \n",
    "                            n_factors,\n",
    "                            embeddings_initializer='glorot_uniform',\n",
    "                            embeddings_regularizer=l2(1e-4))(input_books)\n",
    "    \n",
    "    x_dot = Dot(2)([embed_users, embed_books])\n",
    "    x = Flatten()(x_dot)\n",
    "    x = Dense(128, activation='relu')(x)\n",
    "    x = Dropout(0.2)(x)   \n",
    "    x = Dense(32, activation='relu')(x)\n",
    "    x = Dense(16, activation='relu')(x)\n",
    "    x = Dense(16, activation='relu')(x)\n",
    "    x = Dense(8, activation='relu')(x)\n",
    "    x = BatchNormalization()(x) \n",
    "    x_out = x = Dense(1, activation='relu')(x)\n",
    "    model = Model([input_users, input_books], x_out)\n",
    "    \n",
    "    model.compile(\n",
    "        optimizer=Adam(learning_rate=lr),\n",
    "        loss='mean_squared_error',\n",
    "        metrics = [tf.keras.metrics.RootMeanSquaredError(name='RMSE')]\n",
    "    )\n",
    "      \n",
    "    return model"
   ]
  },
  {
   "cell_type": "code",
   "execution_count": 85,
   "metadata": {},
   "outputs": [],
   "source": [
    "early_stopping = tf.keras.callbacks.EarlyStopping(\n",
    "    monitor='val_loss',\n",
    "    verbose=1,\n",
    "    patience=10,\n",
    "    mode='auto',\n",
    "    restore_best_weights=True\n",
    "    )"
   ]
  },
  {
   "cell_type": "markdown",
   "metadata": {},
   "source": [
    "### Model Training and Validation"
   ]
  },
  {
   "cell_type": "code",
   "execution_count": 96,
   "metadata": {},
   "outputs": [],
   "source": [
    "#set parameters\n",
    "EmbedSize = 15 #30\n",
    "Op_lr = 1e-1\n",
    "\n",
    "BATCH_SIZE = 20000"
   ]
  },
  {
   "cell_type": "code",
   "execution_count": 102,
   "metadata": {},
   "outputs": [
    {
     "name": "stdout",
     "output_type": "stream",
     "text": [
      "Model: \"model_9\"\n",
      "__________________________________________________________________________________________________\n",
      "Layer (type)                    Output Shape         Param #     Connected to                     \n",
      "==================================================================================================\n",
      "input_19 (InputLayer)           [(None, 1)]          0                                            \n",
      "__________________________________________________________________________________________________\n",
      "input_20 (InputLayer)           [(None, 1)]          0                                            \n",
      "__________________________________________________________________________________________________\n",
      "embedding_18 (Embedding)        (None, 1, 32)        6752448     input_19[0][0]                   \n",
      "__________________________________________________________________________________________________\n",
      "embedding_19 (Embedding)        (None, 1, 32)        15909728    input_20[0][0]                   \n",
      "__________________________________________________________________________________________________\n",
      "flatten_27 (Flatten)            (None, 32)           0           embedding_18[0][0]               \n",
      "__________________________________________________________________________________________________\n",
      "flatten_28 (Flatten)            (None, 32)           0           embedding_19[0][0]               \n",
      "__________________________________________________________________________________________________\n",
      "concatenate_9 (Concatenate)     (None, 64)           0           flatten_27[0][0]                 \n",
      "                                                                 flatten_28[0][0]                 \n",
      "__________________________________________________________________________________________________\n",
      "dense_126 (Dense)               (None, 64)           4160        concatenate_9[0][0]              \n",
      "__________________________________________________________________________________________________\n",
      "dropout_33 (Dropout)            (None, 64)           0           dense_126[0][0]                  \n",
      "__________________________________________________________________________________________________\n",
      "dense_127 (Dense)               (None, 32)           2080        dropout_33[0][0]                 \n",
      "__________________________________________________________________________________________________\n",
      "dense_128 (Dense)               (None, 16)           528         dense_127[0][0]                  \n",
      "__________________________________________________________________________________________________\n",
      "dense_129 (Dense)               (None, 16)           272         dense_128[0][0]                  \n",
      "__________________________________________________________________________________________________\n",
      "dense_130 (Dense)               (None, 8)            136         dense_129[0][0]                  \n",
      "__________________________________________________________________________________________________\n",
      "batch_normalization_9 (BatchNor (None, 8)            32          dense_130[0][0]                  \n",
      "__________________________________________________________________________________________________\n",
      "dense_131 (Dense)               (None, 1)            9           batch_normalization_9[0][0]      \n",
      "==================================================================================================\n",
      "Total params: 22,669,393\n",
      "Trainable params: 22,669,377\n",
      "Non-trainable params: 16\n",
      "__________________________________________________________________________________________________\n"
     ]
    }
   ],
   "source": [
    "#model = gen_MLP_model(n_factors=EmbedSize, lr=Op_lr)\n",
    "#model.summary()\n",
    "model = tf.keras.models.load_model('saved_model/RecSys_NN_model(n_epoch160).h5')\n",
    "model.summary()"
   ]
  },
  {
   "cell_type": "code",
   "execution_count": 103,
   "metadata": {},
   "outputs": [],
   "source": [
    "#set training condition\n",
    "#----------------------\n",
    "ENABLE = False\n",
    "#----------------------\n",
    "\n",
    "if ENABLE == True:\n",
    "    n_start = 161\n",
    "    n_iter = n_start+50\n",
    "\n",
    "    for i in range(n_start, n_iter):\n",
    "        history = model.fit(\n",
    "            [X_train.user_id_csv, X_train.book_id_csv], X_train.rating,\n",
    "            batch_size=BATCH_SIZE,\n",
    "            epochs=1,\n",
    "            validation_data=([X_test.user_id_csv, X_test.book_id_csv], X_test.rating)\n",
    "        ) \n",
    "\n",
    "        model_name = 'RecSys_MLP_model(n_epoch%s)'%(i) + '.h5'\n",
    "        print(model_name)\n",
    "        model.save('saved_model/'+ model_name)\n"
   ]
  },
  {
   "cell_type": "markdown",
   "metadata": {},
   "source": [
    "### Model Evaluation using test dataset"
   ]
  },
  {
   "cell_type": "code",
   "execution_count": 104,
   "metadata": {},
   "outputs": [
    {
     "name": "stdout",
     "output_type": "stream",
     "text": [
      "loss :  1.0767313566239578\n",
      "RMSE :  1.0190487\n"
     ]
    }
   ],
   "source": [
    "train_results = model.evaluate([X_train.user_id_csv, X_train.book_id_csv], X_train.rating, batch_size=BATCH_SIZE, verbose=0)\n",
    "\n",
    "for name, value in zip(model.metrics_names, train_results):\n",
    "  print(name, ': ', value)"
   ]
  },
  {
   "cell_type": "code",
   "execution_count": 106,
   "metadata": {},
   "outputs": [
    {
     "name": "stdout",
     "output_type": "stream",
     "text": [
      "loss :  1.6847285656658986\n",
      "RMSE :  1.2831435\n"
     ]
    }
   ],
   "source": [
    "val_results = model.evaluate([X_test.user_id_csv, X_test.book_id_csv], X_test.rating, batch_size=BATCH_SIZE, verbose=0)\n",
    "\n",
    "for name, value in zip(model.metrics_names, val_results):\n",
    "  print(name, ': ', value)"
   ]
  },
  {
   "cell_type": "code",
   "execution_count": 105,
   "metadata": {},
   "outputs": [
    {
     "name": "stdout",
     "output_type": "stream",
     "text": [
      "loss :  1.706030526445323\n",
      "RMSE :  1.2914176\n"
     ]
    }
   ],
   "source": [
    "test_results = model.evaluate([testSet.user_id_csv, testSet.book_id_csv], testSet.rating, batch_size=BATCH_SIZE, verbose=0)\n",
    "\n",
    "for name, value in zip(model.metrics_names, test_results):\n",
    "  print(name, ': ', value)"
   ]
  },
  {
   "cell_type": "markdown",
   "metadata": {},
   "source": [
    "### Create Recommendation System with Model Prediction"
   ]
  },
  {
   "cell_type": "code",
   "execution_count": 109,
   "metadata": {},
   "outputs": [
    {
     "data": {
      "text/html": [
       "<div>\n",
       "<style scoped>\n",
       "    .dataframe tbody tr th:only-of-type {\n",
       "        vertical-align: middle;\n",
       "    }\n",
       "\n",
       "    .dataframe tbody tr th {\n",
       "        vertical-align: top;\n",
       "    }\n",
       "\n",
       "    .dataframe thead th {\n",
       "        text-align: right;\n",
       "    }\n",
       "</style>\n",
       "<table border=\"1\" class=\"dataframe\">\n",
       "  <thead>\n",
       "    <tr style=\"text-align: right;\">\n",
       "      <th></th>\n",
       "      <th>book_id</th>\n",
       "      <th>author_id</th>\n",
       "      <th>average_rating</th>\n",
       "      <th>num_pages</th>\n",
       "      <th>description</th>\n",
       "      <th>similar_books</th>\n",
       "      <th>title</th>\n",
       "    </tr>\n",
       "  </thead>\n",
       "  <tbody>\n",
       "    <tr>\n",
       "      <th>132826</th>\n",
       "      <td>7029473</td>\n",
       "      <td>161054</td>\n",
       "      <td>3.74</td>\n",
       "      <td>336.0</td>\n",
       "      <td>Internationally bestselling author Hakan Nesse...</td>\n",
       "      <td>'7738807', '571526', '2538053', '913882', '612...</td>\n",
       "      <td>Borkmann's Point (Inspector Van Veeteren, #2)</td>\n",
       "    </tr>\n",
       "    <tr>\n",
       "      <th>104031</th>\n",
       "      <td>23566802</td>\n",
       "      <td>12470</td>\n",
       "      <td>4.05</td>\n",
       "      <td>10.0</td>\n",
       "      <td>The new thriller from #1 New York Times bestse...</td>\n",
       "      <td>'20820995', '22169495', '22609483', '20575424'...</td>\n",
       "      <td>The Burning Room (Harry Bosch, #19)</td>\n",
       "    </tr>\n",
       "    <tr>\n",
       "      <th>29596</th>\n",
       "      <td>13482422</td>\n",
       "      <td>21678</td>\n",
       "      <td>3.97</td>\n",
       "      <td>720.0</td>\n",
       "      <td>A page-turning adaptation of the first season ...</td>\n",
       "      <td>'18778285', '7331136', '8109216', '13022628', ...</td>\n",
       "      <td>The Killing (The Killing, #1)</td>\n",
       "    </tr>\n",
       "  </tbody>\n",
       "</table>\n",
       "</div>"
      ],
      "text/plain": [
       "         book_id author_id  average_rating  num_pages  \\\n",
       "132826   7029473    161054            3.74      336.0   \n",
       "104031  23566802     12470            4.05       10.0   \n",
       "29596   13482422     21678            3.97      720.0   \n",
       "\n",
       "                                              description  \\\n",
       "132826  Internationally bestselling author Hakan Nesse...   \n",
       "104031  The new thriller from #1 New York Times bestse...   \n",
       "29596   A page-turning adaptation of the first season ...   \n",
       "\n",
       "                                            similar_books  \\\n",
       "132826  '7738807', '571526', '2538053', '913882', '612...   \n",
       "104031  '20820995', '22169495', '22609483', '20575424'...   \n",
       "29596   '18778285', '7331136', '8109216', '13022628', ...   \n",
       "\n",
       "                                                title  \n",
       "132826  Borkmann's Point (Inspector Van Veeteren, #2)  \n",
       "104031            The Burning Room (Harry Bosch, #19)  \n",
       "29596                   The Killing (The Killing, #1)  "
      ]
     },
     "execution_count": 109,
     "metadata": {},
     "output_type": "execute_result"
    }
   ],
   "source": [
    "books = books_df[['book_id', 'author_id', 'average_rating', 'num_pages', 'description', 'similar_books', 'title']]\n",
    "books_table = pd.merge(books[['book_id', 'author_id', 'average_rating', 'num_pages', 'description', 'similar_books', 'title']], book_id_df[['book_id','book_id_csv']], on='book_id' )\n",
    "print(books_table.shape)\n",
    "books_table.sample(3)"
   ]
  },
  {
   "cell_type": "markdown",
   "metadata": {},
   "source": [
    "#### User based book recommendation"
   ]
  },
  {
   "cell_type": "code",
   "execution_count": null,
   "metadata": {},
   "outputs": [],
   "source": [
    "def user_based_recommendation(u_id=USER_ID, n_top=N_TOP):\n",
    "    #create user array\n",
    "    user_id = np.array([u_id for i in range(len(book_ids))])\n",
    "    \n",
    "    #get book list from books_table\n",
    "    book_list = list(books_table.book_id_csv.unique())\n",
    "    \n",
    "    #predict ratings for user\n",
    "    pred = model.predict([user, np.array(book_list)])\n",
    "    pred = prediction.reshape(-1)\n",
    "    \n",
    "    #sort the array and get the index of N_TOP books\n",
    "    rec_books = (-pred).argsort()[0:n_top]\n",
    "\n",
    "    return rec_books"
   ]
  },
  {
   "cell_type": "code",
   "execution_count": null,
   "metadata": {},
   "outputs": [],
   "source": [
    "USER_ID = 1\n",
    "N_TOP = 5\n",
    "\n",
    "rec_books = user_based_recommendation(u_id=USER_ID, n_top=N_TOP)\n",
    "books_table.iloc[rec_books]"
   ]
  }
 ],
 "metadata": {
  "kernelspec": {
   "display_name": "Python 3",
   "language": "python",
   "name": "python3"
  },
  "language_info": {
   "codemirror_mode": {
    "name": "ipython",
    "version": 3
   },
   "file_extension": ".py",
   "mimetype": "text/x-python",
   "name": "python",
   "nbconvert_exporter": "python",
   "pygments_lexer": "ipython3",
   "version": "3.6.6"
  }
 },
 "nbformat": 4,
 "nbformat_minor": 2
}
