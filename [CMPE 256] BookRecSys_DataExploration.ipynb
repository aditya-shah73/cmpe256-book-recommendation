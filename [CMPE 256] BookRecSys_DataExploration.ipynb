{
 "cells": [
  {
   "cell_type": "markdown",
   "metadata": {},
   "source": [
    "# Recommender system\n",
    "## Books for mystery, thriller, and crime\n",
    "https://sites.google.com/eng.ucsd.edu/ucsdbookgraph/home"
   ]
  },
  {
   "cell_type": "code",
   "execution_count": 21,
   "metadata": {},
   "outputs": [],
   "source": [
    "import sys\n",
    "import warnings\n",
    "\n",
    "if not sys.warnoptions:\n",
    "    warnings.simplefilter(\"ignore\")\n",
    "\n",
    "import pandas as pd\n",
    "import numpy as np"
   ]
  },
  {
   "cell_type": "markdown",
   "metadata": {},
   "source": [
    "### Load Data"
   ]
  },
  {
   "cell_type": "markdown",
   "metadata": {},
   "source": [
    "#### 1) General information for all books"
   ]
  },
  {
   "cell_type": "code",
   "execution_count": 2,
   "metadata": {},
   "outputs": [
    {
     "name": "stdout",
     "output_type": "stream",
     "text": [
      "(2360650, 2)\n"
     ]
    },
    {
     "data": {
      "text/html": [
       "<div>\n",
       "<style scoped>\n",
       "    .dataframe tbody tr th:only-of-type {\n",
       "        vertical-align: middle;\n",
       "    }\n",
       "\n",
       "    .dataframe tbody tr th {\n",
       "        vertical-align: top;\n",
       "    }\n",
       "\n",
       "    .dataframe thead th {\n",
       "        text-align: right;\n",
       "    }\n",
       "</style>\n",
       "<table border=\"1\" class=\"dataframe\">\n",
       "  <thead>\n",
       "    <tr style=\"text-align: right;\">\n",
       "      <th></th>\n",
       "      <th>book_id_csv</th>\n",
       "      <th>book_id</th>\n",
       "    </tr>\n",
       "  </thead>\n",
       "  <tbody>\n",
       "    <tr>\n",
       "      <th>0</th>\n",
       "      <td>0</td>\n",
       "      <td>34684622</td>\n",
       "    </tr>\n",
       "    <tr>\n",
       "      <th>1</th>\n",
       "      <td>1</td>\n",
       "      <td>34536488</td>\n",
       "    </tr>\n",
       "    <tr>\n",
       "      <th>2</th>\n",
       "      <td>2</td>\n",
       "      <td>34017076</td>\n",
       "    </tr>\n",
       "  </tbody>\n",
       "</table>\n",
       "</div>"
      ],
      "text/plain": [
       "   book_id_csv   book_id\n",
       "0            0  34684622\n",
       "1            1  34536488\n",
       "2            2  34017076"
      ]
     },
     "execution_count": 2,
     "metadata": {},
     "output_type": "execute_result"
    }
   ],
   "source": [
    "book_id_df = pd.read_csv('book_id_map.csv')\n",
    "print(book_id_df.shape)\n",
    "book_id_df.head(3)"
   ]
  },
  {
   "cell_type": "code",
   "execution_count": 3,
   "metadata": {},
   "outputs": [
    {
     "name": "stdout",
     "output_type": "stream",
     "text": [
      "(876145, 2)\n"
     ]
    },
    {
     "data": {
      "text/html": [
       "<div>\n",
       "<style scoped>\n",
       "    .dataframe tbody tr th:only-of-type {\n",
       "        vertical-align: middle;\n",
       "    }\n",
       "\n",
       "    .dataframe tbody tr th {\n",
       "        vertical-align: top;\n",
       "    }\n",
       "\n",
       "    .dataframe thead th {\n",
       "        text-align: right;\n",
       "    }\n",
       "</style>\n",
       "<table border=\"1\" class=\"dataframe\">\n",
       "  <thead>\n",
       "    <tr style=\"text-align: right;\">\n",
       "      <th></th>\n",
       "      <th>user_id_csv</th>\n",
       "      <th>user_id</th>\n",
       "    </tr>\n",
       "  </thead>\n",
       "  <tbody>\n",
       "    <tr>\n",
       "      <th>0</th>\n",
       "      <td>0</td>\n",
       "      <td>8842281e1d1347389f2ab93d60773d4d</td>\n",
       "    </tr>\n",
       "    <tr>\n",
       "      <th>1</th>\n",
       "      <td>1</td>\n",
       "      <td>72fb0d0087d28c832f15776b0d936598</td>\n",
       "    </tr>\n",
       "    <tr>\n",
       "      <th>2</th>\n",
       "      <td>2</td>\n",
       "      <td>ab2923b738ea3082f5f3efcbbfacb218</td>\n",
       "    </tr>\n",
       "  </tbody>\n",
       "</table>\n",
       "</div>"
      ],
      "text/plain": [
       "   user_id_csv                           user_id\n",
       "0            0  8842281e1d1347389f2ab93d60773d4d\n",
       "1            1  72fb0d0087d28c832f15776b0d936598\n",
       "2            2  ab2923b738ea3082f5f3efcbbfacb218"
      ]
     },
     "execution_count": 3,
     "metadata": {},
     "output_type": "execute_result"
    }
   ],
   "source": [
    "user_id_df = pd.read_csv('user_id_map.csv')\n",
    "print(user_id_df.shape)\n",
    "user_id_df.head(3)"
   ]
  },
  {
   "cell_type": "code",
   "execution_count": 4,
   "metadata": {},
   "outputs": [
    {
     "name": "stdout",
     "output_type": "stream",
     "text": [
      "(829529, 5)\n"
     ]
    },
    {
     "data": {
      "text/html": [
       "<div>\n",
       "<style scoped>\n",
       "    .dataframe tbody tr th:only-of-type {\n",
       "        vertical-align: middle;\n",
       "    }\n",
       "\n",
       "    .dataframe tbody tr th {\n",
       "        vertical-align: top;\n",
       "    }\n",
       "\n",
       "    .dataframe thead th {\n",
       "        text-align: right;\n",
       "    }\n",
       "</style>\n",
       "<table border=\"1\" class=\"dataframe\">\n",
       "  <thead>\n",
       "    <tr style=\"text-align: right;\">\n",
       "      <th></th>\n",
       "      <th>author_id</th>\n",
       "      <th>average_rating</th>\n",
       "      <th>name</th>\n",
       "      <th>ratings_count</th>\n",
       "      <th>text_reviews_count</th>\n",
       "    </tr>\n",
       "  </thead>\n",
       "  <tbody>\n",
       "    <tr>\n",
       "      <th>0</th>\n",
       "      <td>604031</td>\n",
       "      <td>3.98</td>\n",
       "      <td>Ronald J. Fields</td>\n",
       "      <td>49</td>\n",
       "      <td>7</td>\n",
       "    </tr>\n",
       "    <tr>\n",
       "      <th>1</th>\n",
       "      <td>626222</td>\n",
       "      <td>4.08</td>\n",
       "      <td>Anita Diamant</td>\n",
       "      <td>546796</td>\n",
       "      <td>28716</td>\n",
       "    </tr>\n",
       "    <tr>\n",
       "      <th>2</th>\n",
       "      <td>10333</td>\n",
       "      <td>3.92</td>\n",
       "      <td>Barbara Hambly</td>\n",
       "      <td>122118</td>\n",
       "      <td>5075</td>\n",
       "    </tr>\n",
       "  </tbody>\n",
       "</table>\n",
       "</div>"
      ],
      "text/plain": [
       "   author_id  average_rating              name  ratings_count  \\\n",
       "0     604031            3.98  Ronald J. Fields             49   \n",
       "1     626222            4.08     Anita Diamant         546796   \n",
       "2      10333            3.92    Barbara Hambly         122118   \n",
       "\n",
       "   text_reviews_count  \n",
       "0                   7  \n",
       "1               28716  \n",
       "2                5075  "
      ]
     },
     "execution_count": 4,
     "metadata": {},
     "output_type": "execute_result"
    }
   ],
   "source": [
    "authors_df = pd.read_csv('goodreads_book_authors.csv')\n",
    "print(authors_df.shape)\n",
    "authors_df.head(3)"
   ]
  },
  {
   "cell_type": "code",
   "execution_count": 5,
   "metadata": {},
   "outputs": [
    {
     "name": "stdout",
     "output_type": "stream",
     "text": [
      "(228170405, 5)\n"
     ]
    },
    {
     "data": {
      "text/html": [
       "<div>\n",
       "<style scoped>\n",
       "    .dataframe tbody tr th:only-of-type {\n",
       "        vertical-align: middle;\n",
       "    }\n",
       "\n",
       "    .dataframe tbody tr th {\n",
       "        vertical-align: top;\n",
       "    }\n",
       "\n",
       "    .dataframe thead th {\n",
       "        text-align: right;\n",
       "    }\n",
       "</style>\n",
       "<table border=\"1\" class=\"dataframe\">\n",
       "  <thead>\n",
       "    <tr style=\"text-align: right;\">\n",
       "      <th></th>\n",
       "      <th>user_id</th>\n",
       "      <th>book_id</th>\n",
       "      <th>is_read</th>\n",
       "      <th>rating</th>\n",
       "      <th>is_reviewed</th>\n",
       "    </tr>\n",
       "  </thead>\n",
       "  <tbody>\n",
       "    <tr>\n",
       "      <th>0</th>\n",
       "      <td>0</td>\n",
       "      <td>948</td>\n",
       "      <td>1</td>\n",
       "      <td>5.0</td>\n",
       "      <td>0.0</td>\n",
       "    </tr>\n",
       "    <tr>\n",
       "      <th>1</th>\n",
       "      <td>0</td>\n",
       "      <td>947</td>\n",
       "      <td>1</td>\n",
       "      <td>5.0</td>\n",
       "      <td>1.0</td>\n",
       "    </tr>\n",
       "    <tr>\n",
       "      <th>2</th>\n",
       "      <td>0</td>\n",
       "      <td>946</td>\n",
       "      <td>1</td>\n",
       "      <td>5.0</td>\n",
       "      <td>0.0</td>\n",
       "    </tr>\n",
       "  </tbody>\n",
       "</table>\n",
       "</div>"
      ],
      "text/plain": [
       "   user_id  book_id  is_read  rating  is_reviewed\n",
       "0        0      948        1     5.0          0.0\n",
       "1        0      947        1     5.0          1.0\n",
       "2        0      946        1     5.0          0.0"
      ]
     },
     "execution_count": 5,
     "metadata": {},
     "output_type": "execute_result"
    }
   ],
   "source": [
    "all_interactions_df = pd.read_csv('goodreads_interactions.csv')\n",
    "print(all_interactions_df.shape)\n",
    "all_interactions_df.head(3)"
   ]
  },
  {
   "cell_type": "markdown",
   "metadata": {},
   "source": [
    "#### 2) Specific information for mystery, thriller, and crim books"
   ]
  },
  {
   "cell_type": "code",
   "execution_count": 24,
   "metadata": {},
   "outputs": [
    {
     "name": "stdout",
     "output_type": "stream",
     "text": [
      "(219235, 29)\n"
     ]
    },
    {
     "data": {
      "text/html": [
       "<div>\n",
       "<style scoped>\n",
       "    .dataframe tbody tr th:only-of-type {\n",
       "        vertical-align: middle;\n",
       "    }\n",
       "\n",
       "    .dataframe tbody tr th {\n",
       "        vertical-align: top;\n",
       "    }\n",
       "\n",
       "    .dataframe thead th {\n",
       "        text-align: right;\n",
       "    }\n",
       "</style>\n",
       "<table border=\"1\" class=\"dataframe\">\n",
       "  <thead>\n",
       "    <tr style=\"text-align: right;\">\n",
       "      <th></th>\n",
       "      <th>asin</th>\n",
       "      <th>author_id</th>\n",
       "      <th>average_rating</th>\n",
       "      <th>book_id</th>\n",
       "      <th>country_code</th>\n",
       "      <th>description</th>\n",
       "      <th>edition_information</th>\n",
       "      <th>format</th>\n",
       "      <th>image_url</th>\n",
       "      <th>is_ebook</th>\n",
       "      <th>...</th>\n",
       "      <th>publication_year</th>\n",
       "      <th>publisher</th>\n",
       "      <th>ratings_count</th>\n",
       "      <th>series</th>\n",
       "      <th>similar_books</th>\n",
       "      <th>text_reviews_count</th>\n",
       "      <th>title</th>\n",
       "      <th>title_without_series</th>\n",
       "      <th>url</th>\n",
       "      <th>work_id</th>\n",
       "    </tr>\n",
       "  </thead>\n",
       "  <tbody>\n",
       "    <tr>\n",
       "      <th>0</th>\n",
       "      <td>NaN</td>\n",
       "      <td>37778</td>\n",
       "      <td>3.93</td>\n",
       "      <td>6066814</td>\n",
       "      <td>US</td>\n",
       "      <td>London, 1196. At the command of Richard the Li...</td>\n",
       "      <td>NaN</td>\n",
       "      <td>Hardcover</td>\n",
       "      <td>https://images.gr-assets.com/books/1328724803m...</td>\n",
       "      <td>False</td>\n",
       "      <td>...</td>\n",
       "      <td>2009.0</td>\n",
       "      <td>Simon &amp; Schuster UK</td>\n",
       "      <td>186</td>\n",
       "      <td>['169353']</td>\n",
       "      <td>'439108', '522621', '116770', '1275927', '6202...</td>\n",
       "      <td>15</td>\n",
       "      <td>Crowner Royal (Crowner John Mystery, #13)</td>\n",
       "      <td>Crowner Royal (Crowner John Mystery, #13)</td>\n",
       "      <td>https://www.goodreads.com/book/show/6066814-cr...</td>\n",
       "      <td>6243149</td>\n",
       "    </tr>\n",
       "    <tr>\n",
       "      <th>1</th>\n",
       "      <td>B01NCIKAQX</td>\n",
       "      <td>242185</td>\n",
       "      <td>4.33</td>\n",
       "      <td>33394837</td>\n",
       "      <td>US</td>\n",
       "      <td>NaN</td>\n",
       "      <td>NaN</td>\n",
       "      <td>NaN</td>\n",
       "      <td>https://images.gr-assets.com/books/1493114742m...</td>\n",
       "      <td>True</td>\n",
       "      <td>...</td>\n",
       "      <td>NaN</td>\n",
       "      <td>NaN</td>\n",
       "      <td>269</td>\n",
       "      <td>['1052227']</td>\n",
       "      <td></td>\n",
       "      <td>60</td>\n",
       "      <td>The House of Memory (Pluto's Snitch #2)</td>\n",
       "      <td>The House of Memory (Pluto's Snitch #2)</td>\n",
       "      <td>https://www.goodreads.com/book/show/33394837-t...</td>\n",
       "      <td>54143148</td>\n",
       "    </tr>\n",
       "    <tr>\n",
       "      <th>2</th>\n",
       "      <td>B01ALOWJN0</td>\n",
       "      <td>15104629</td>\n",
       "      <td>3.49</td>\n",
       "      <td>29074697</td>\n",
       "      <td>US</td>\n",
       "      <td>BATHS, BANKS AND ROMAN INSURRECTION\\nDetective...</td>\n",
       "      <td>NaN</td>\n",
       "      <td>NaN</td>\n",
       "      <td>https://s.gr-assets.com/assets/nophoto/book/11...</td>\n",
       "      <td>True</td>\n",
       "      <td>...</td>\n",
       "      <td>NaN</td>\n",
       "      <td>Amazon Digital Services</td>\n",
       "      <td>192</td>\n",
       "      <td>['953679']</td>\n",
       "      <td></td>\n",
       "      <td>23</td>\n",
       "      <td>The Slaughtered Virgin of Zenopolis (Inspector...</td>\n",
       "      <td>The Slaughtered Virgin of Zenopolis (Inspector...</td>\n",
       "      <td>https://www.goodreads.com/book/show/29074697-t...</td>\n",
       "      <td>49305010</td>\n",
       "    </tr>\n",
       "  </tbody>\n",
       "</table>\n",
       "<p>3 rows × 29 columns</p>\n",
       "</div>"
      ],
      "text/plain": [
       "         asin author_id  average_rating   book_id country_code  \\\n",
       "0         NaN     37778            3.93   6066814           US   \n",
       "1  B01NCIKAQX    242185            4.33  33394837           US   \n",
       "2  B01ALOWJN0  15104629            3.49  29074697           US   \n",
       "\n",
       "                                         description edition_information  \\\n",
       "0  London, 1196. At the command of Richard the Li...                 NaN   \n",
       "1                                                NaN                 NaN   \n",
       "2  BATHS, BANKS AND ROMAN INSURRECTION\\nDetective...                 NaN   \n",
       "\n",
       "      format                                          image_url  is_ebook  \\\n",
       "0  Hardcover  https://images.gr-assets.com/books/1328724803m...     False   \n",
       "1        NaN  https://images.gr-assets.com/books/1493114742m...      True   \n",
       "2        NaN  https://s.gr-assets.com/assets/nophoto/book/11...      True   \n",
       "\n",
       "     ...    publication_year                publisher ratings_count  \\\n",
       "0    ...              2009.0      Simon & Schuster UK           186   \n",
       "1    ...                 NaN                      NaN           269   \n",
       "2    ...                 NaN  Amazon Digital Services           192   \n",
       "\n",
       "        series                                      similar_books  \\\n",
       "0   ['169353']  '439108', '522621', '116770', '1275927', '6202...   \n",
       "1  ['1052227']                                                      \n",
       "2   ['953679']                                                      \n",
       "\n",
       "   text_reviews_count                                              title  \\\n",
       "0                  15          Crowner Royal (Crowner John Mystery, #13)   \n",
       "1                  60            The House of Memory (Pluto's Snitch #2)   \n",
       "2                  23  The Slaughtered Virgin of Zenopolis (Inspector...   \n",
       "\n",
       "                                title_without_series  \\\n",
       "0          Crowner Royal (Crowner John Mystery, #13)   \n",
       "1            The House of Memory (Pluto's Snitch #2)   \n",
       "2  The Slaughtered Virgin of Zenopolis (Inspector...   \n",
       "\n",
       "                                                 url   work_id  \n",
       "0  https://www.goodreads.com/book/show/6066814-cr...   6243149  \n",
       "1  https://www.goodreads.com/book/show/33394837-t...  54143148  \n",
       "2  https://www.goodreads.com/book/show/29074697-t...  49305010  \n",
       "\n",
       "[3 rows x 29 columns]"
      ]
     },
     "execution_count": 24,
     "metadata": {},
     "output_type": "execute_result"
    }
   ],
   "source": [
    "books_df = pd.read_csv('goodreads_books_mystery_thriller_crime.csv')\n",
    "books_df.authors = books_df.authors.str.split(pat = \",\").str[0].str.split(pat=\":\").str[1].str.split(pat=\"'\").str[1]\n",
    "books_df = books_df.rename(columns={'authors': 'author_id'})\n",
    "books_df.similar_books = books_df.similar_books.str.replace(\"^\\[|\\]$\",\"\")\n",
    "print(books_df.shape)\n",
    "books_df.head(3)"
   ]
  },
  {
   "cell_type": "code",
   "execution_count": 7,
   "metadata": {},
   "outputs": [
    {
     "name": "stdout",
     "output_type": "stream",
     "text": [
      "(24799896, 10)\n"
     ]
    },
    {
     "data": {
      "text/html": [
       "<div>\n",
       "<style scoped>\n",
       "    .dataframe tbody tr th:only-of-type {\n",
       "        vertical-align: middle;\n",
       "    }\n",
       "\n",
       "    .dataframe tbody tr th {\n",
       "        vertical-align: top;\n",
       "    }\n",
       "\n",
       "    .dataframe thead th {\n",
       "        text-align: right;\n",
       "    }\n",
       "</style>\n",
       "<table border=\"1\" class=\"dataframe\">\n",
       "  <thead>\n",
       "    <tr style=\"text-align: right;\">\n",
       "      <th></th>\n",
       "      <th>book_id</th>\n",
       "      <th>date_added</th>\n",
       "      <th>date_updated</th>\n",
       "      <th>is_read</th>\n",
       "      <th>rating</th>\n",
       "      <th>read_at</th>\n",
       "      <th>review_id</th>\n",
       "      <th>review_text_incomplete</th>\n",
       "      <th>started_at</th>\n",
       "      <th>user_id</th>\n",
       "    </tr>\n",
       "  </thead>\n",
       "  <tbody>\n",
       "    <tr>\n",
       "      <th>0</th>\n",
       "      <td>6392944</td>\n",
       "      <td>Mon Jul 24 02:48:17 -0700 2017</td>\n",
       "      <td>Sun Jul 30 09:28:03 -0700 2017</td>\n",
       "      <td>True</td>\n",
       "      <td>3</td>\n",
       "      <td>Tue Jul 25 00:00:00 -0700 2017</td>\n",
       "      <td>5e212a62bced17b4dbe41150e5bb9037</td>\n",
       "      <td>I haven't read a fun mystery book in a while a...</td>\n",
       "      <td>Mon Jul 24 00:00:00 -0700 2017</td>\n",
       "      <td>8842281e1d1347389f2ab93d60773d4d</td>\n",
       "    </tr>\n",
       "    <tr>\n",
       "      <th>1</th>\n",
       "      <td>2279538</td>\n",
       "      <td>Wed Mar 29 00:27:14 -0700 2017</td>\n",
       "      <td>Wed Mar 29 00:27:14 -0700 2017</td>\n",
       "      <td>False</td>\n",
       "      <td>0</td>\n",
       "      <td>NaN</td>\n",
       "      <td>556e9e3f00fb5b7e4eaa116764b771b0</td>\n",
       "      <td>NaN</td>\n",
       "      <td>NaN</td>\n",
       "      <td>8842281e1d1347389f2ab93d60773d4d</td>\n",
       "    </tr>\n",
       "    <tr>\n",
       "      <th>2</th>\n",
       "      <td>20821043</td>\n",
       "      <td>Mon Mar 27 22:52:11 -0700 2017</td>\n",
       "      <td>Mon Mar 27 22:52:12 -0700 2017</td>\n",
       "      <td>False</td>\n",
       "      <td>0</td>\n",
       "      <td>NaN</td>\n",
       "      <td>4b15f8a08f04a17f9a47f2b76fec21e5</td>\n",
       "      <td>NaN</td>\n",
       "      <td>NaN</td>\n",
       "      <td>8842281e1d1347389f2ab93d60773d4d</td>\n",
       "    </tr>\n",
       "  </tbody>\n",
       "</table>\n",
       "</div>"
      ],
      "text/plain": [
       "    book_id                      date_added                    date_updated  \\\n",
       "0   6392944  Mon Jul 24 02:48:17 -0700 2017  Sun Jul 30 09:28:03 -0700 2017   \n",
       "1   2279538  Wed Mar 29 00:27:14 -0700 2017  Wed Mar 29 00:27:14 -0700 2017   \n",
       "2  20821043  Mon Mar 27 22:52:11 -0700 2017  Mon Mar 27 22:52:12 -0700 2017   \n",
       "\n",
       "   is_read  rating                         read_at  \\\n",
       "0     True       3  Tue Jul 25 00:00:00 -0700 2017   \n",
       "1    False       0                             NaN   \n",
       "2    False       0                             NaN   \n",
       "\n",
       "                          review_id  \\\n",
       "0  5e212a62bced17b4dbe41150e5bb9037   \n",
       "1  556e9e3f00fb5b7e4eaa116764b771b0   \n",
       "2  4b15f8a08f04a17f9a47f2b76fec21e5   \n",
       "\n",
       "                              review_text_incomplete  \\\n",
       "0  I haven't read a fun mystery book in a while a...   \n",
       "1                                                NaN   \n",
       "2                                                NaN   \n",
       "\n",
       "                       started_at                           user_id  \n",
       "0  Mon Jul 24 00:00:00 -0700 2017  8842281e1d1347389f2ab93d60773d4d  \n",
       "1                             NaN  8842281e1d1347389f2ab93d60773d4d  \n",
       "2                             NaN  8842281e1d1347389f2ab93d60773d4d  "
      ]
     },
     "execution_count": 7,
     "metadata": {},
     "output_type": "execute_result"
    }
   ],
   "source": [
    "interactions_df = pd.read_csv('goodreads_interactions_mystery_thriller_crime.csv')\n",
    "print(interactions_df.shape)\n",
    "interactions_df.head(3)"
   ]
  },
  {
   "cell_type": "code",
   "execution_count": 8,
   "metadata": {},
   "outputs": [
    {
     "name": "stdout",
     "output_type": "stream",
     "text": [
      "(1849236, 11)\n"
     ]
    },
    {
     "data": {
      "text/html": [
       "<div>\n",
       "<style scoped>\n",
       "    .dataframe tbody tr th:only-of-type {\n",
       "        vertical-align: middle;\n",
       "    }\n",
       "\n",
       "    .dataframe tbody tr th {\n",
       "        vertical-align: top;\n",
       "    }\n",
       "\n",
       "    .dataframe thead th {\n",
       "        text-align: right;\n",
       "    }\n",
       "</style>\n",
       "<table border=\"1\" class=\"dataframe\">\n",
       "  <thead>\n",
       "    <tr style=\"text-align: right;\">\n",
       "      <th></th>\n",
       "      <th>book_id</th>\n",
       "      <th>date_added</th>\n",
       "      <th>date_updated</th>\n",
       "      <th>n_comments</th>\n",
       "      <th>n_votes</th>\n",
       "      <th>rating</th>\n",
       "      <th>read_at</th>\n",
       "      <th>review_id</th>\n",
       "      <th>review_text</th>\n",
       "      <th>started_at</th>\n",
       "      <th>user_id</th>\n",
       "    </tr>\n",
       "  </thead>\n",
       "  <tbody>\n",
       "    <tr>\n",
       "      <th>0</th>\n",
       "      <td>6392944</td>\n",
       "      <td>Mon Jul 24 02:48:17 -0700 2017</td>\n",
       "      <td>Sun Jul 30 09:28:03 -0700 2017</td>\n",
       "      <td>0</td>\n",
       "      <td>6</td>\n",
       "      <td>3</td>\n",
       "      <td>Tue Jul 25 00:00:00 -0700 2017</td>\n",
       "      <td>5e212a62bced17b4dbe41150e5bb9037</td>\n",
       "      <td>I haven't read a fun mystery book in a while a...</td>\n",
       "      <td>Mon Jul 24 00:00:00 -0700 2017</td>\n",
       "      <td>8842281e1d1347389f2ab93d60773d4d</td>\n",
       "    </tr>\n",
       "    <tr>\n",
       "      <th>1</th>\n",
       "      <td>28684704</td>\n",
       "      <td>Tue Nov 15 11:29:22 -0800 2016</td>\n",
       "      <td>Mon Mar 20 23:40:27 -0700 2017</td>\n",
       "      <td>0</td>\n",
       "      <td>22</td>\n",
       "      <td>3</td>\n",
       "      <td>Sat Mar 18 23:22:42 -0700 2017</td>\n",
       "      <td>2ede853b14dc4583f96cf5d120af636f</td>\n",
       "      <td>A fun, fast paced science fiction thriller. I ...</td>\n",
       "      <td>Fri Mar 17 23:45:40 -0700 2017</td>\n",
       "      <td>8842281e1d1347389f2ab93d60773d4d</td>\n",
       "    </tr>\n",
       "    <tr>\n",
       "      <th>2</th>\n",
       "      <td>32283133</td>\n",
       "      <td>Tue Nov 01 11:09:18 -0700 2016</td>\n",
       "      <td>Tue Nov 01 11:09:44 -0700 2016</td>\n",
       "      <td>0</td>\n",
       "      <td>9</td>\n",
       "      <td>0</td>\n",
       "      <td>NaN</td>\n",
       "      <td>8e4d61801907e591018bdc3442a9cf2b</td>\n",
       "      <td>http://www.telegraph.co.uk/culture/10...</td>\n",
       "      <td>NaN</td>\n",
       "      <td>8842281e1d1347389f2ab93d60773d4d</td>\n",
       "    </tr>\n",
       "  </tbody>\n",
       "</table>\n",
       "</div>"
      ],
      "text/plain": [
       "    book_id                      date_added                    date_updated  \\\n",
       "0   6392944  Mon Jul 24 02:48:17 -0700 2017  Sun Jul 30 09:28:03 -0700 2017   \n",
       "1  28684704  Tue Nov 15 11:29:22 -0800 2016  Mon Mar 20 23:40:27 -0700 2017   \n",
       "2  32283133  Tue Nov 01 11:09:18 -0700 2016  Tue Nov 01 11:09:44 -0700 2016   \n",
       "\n",
       "   n_comments  n_votes  rating                         read_at  \\\n",
       "0           0        6       3  Tue Jul 25 00:00:00 -0700 2017   \n",
       "1           0       22       3  Sat Mar 18 23:22:42 -0700 2017   \n",
       "2           0        9       0                             NaN   \n",
       "\n",
       "                          review_id  \\\n",
       "0  5e212a62bced17b4dbe41150e5bb9037   \n",
       "1  2ede853b14dc4583f96cf5d120af636f   \n",
       "2  8e4d61801907e591018bdc3442a9cf2b   \n",
       "\n",
       "                                         review_text  \\\n",
       "0  I haven't read a fun mystery book in a while a...   \n",
       "1  A fun, fast paced science fiction thriller. I ...   \n",
       "2           http://www.telegraph.co.uk/culture/10...   \n",
       "\n",
       "                       started_at                           user_id  \n",
       "0  Mon Jul 24 00:00:00 -0700 2017  8842281e1d1347389f2ab93d60773d4d  \n",
       "1  Fri Mar 17 23:45:40 -0700 2017  8842281e1d1347389f2ab93d60773d4d  \n",
       "2                             NaN  8842281e1d1347389f2ab93d60773d4d  "
      ]
     },
     "execution_count": 8,
     "metadata": {},
     "output_type": "execute_result"
    }
   ],
   "source": [
    "reviews_df = pd.read_csv('goodreads_reviews_mystery_thriller_crime.csv')\n",
    "print(reviews_df.shape)\n",
    "reviews_df.head(3)"
   ]
  },
  {
   "cell_type": "markdown",
   "metadata": {},
   "source": [
    "### Data Exploration"
   ]
  },
  {
   "cell_type": "code",
   "execution_count": 25,
   "metadata": {},
   "outputs": [
    {
     "data": {
      "text/html": [
       "<div>\n",
       "<style scoped>\n",
       "    .dataframe tbody tr th:only-of-type {\n",
       "        vertical-align: middle;\n",
       "    }\n",
       "\n",
       "    .dataframe tbody tr th {\n",
       "        vertical-align: top;\n",
       "    }\n",
       "\n",
       "    .dataframe thead th {\n",
       "        text-align: right;\n",
       "    }\n",
       "</style>\n",
       "<table border=\"1\" class=\"dataframe\">\n",
       "  <thead>\n",
       "    <tr style=\"text-align: right;\">\n",
       "      <th></th>\n",
       "      <th>book_id</th>\n",
       "      <th>author_id</th>\n",
       "      <th>average_rating</th>\n",
       "      <th>num_pages</th>\n",
       "      <th>description</th>\n",
       "      <th>similar_books</th>\n",
       "      <th>title</th>\n",
       "    </tr>\n",
       "  </thead>\n",
       "  <tbody>\n",
       "    <tr>\n",
       "      <th>91273</th>\n",
       "      <td>12624023</td>\n",
       "      <td>26819</td>\n",
       "      <td>3.93</td>\n",
       "      <td>210.0</td>\n",
       "      <td>Nore Roberts didn't ask for a new life, but no...</td>\n",
       "      <td>'497769', '464102', '514108', '93783', '137964...</td>\n",
       "      <td>Locked in Time</td>\n",
       "    </tr>\n",
       "    <tr>\n",
       "      <th>1362</th>\n",
       "      <td>12372717</td>\n",
       "      <td>3912</td>\n",
       "      <td>4.09</td>\n",
       "      <td>352.0</td>\n",
       "      <td>The defenestration of a ruthless theatre impre...</td>\n",
       "      <td>'13531847', '122555', '8537082', '15715073', '...</td>\n",
       "      <td>Bryant &amp; May and the Memory of Blood (Bryant &amp;...</td>\n",
       "    </tr>\n",
       "    <tr>\n",
       "      <th>177059</th>\n",
       "      <td>1897049</td>\n",
       "      <td>43626</td>\n",
       "      <td>3.71</td>\n",
       "      <td>376.0</td>\n",
       "      <td>Para o Dr. Jeremy Carter, psicologo no City Ce...</td>\n",
       "      <td>'760054', '848962', '296960'</td>\n",
       "      <td>The Conspiracy Club</td>\n",
       "    </tr>\n",
       "    <tr>\n",
       "      <th>206230</th>\n",
       "      <td>823200</td>\n",
       "      <td>55948</td>\n",
       "      <td>4.00</td>\n",
       "      <td>48.0</td>\n",
       "      <td>With her series of books that feature the spir...</td>\n",
       "      <td>'710853', '166677', '1834583', '284368', '1525...</td>\n",
       "      <td>Blackwater Spirits (Glynis Tryon, #3)</td>\n",
       "    </tr>\n",
       "    <tr>\n",
       "      <th>184194</th>\n",
       "      <td>529285</td>\n",
       "      <td>50818</td>\n",
       "      <td>3.50</td>\n",
       "      <td>200.0</td>\n",
       "      <td>Many people in America think that gang violenc...</td>\n",
       "      <td></td>\n",
       "      <td>Gangbangers: Understanding the Deadly Minds of...</td>\n",
       "    </tr>\n",
       "  </tbody>\n",
       "</table>\n",
       "</div>"
      ],
      "text/plain": [
       "         book_id author_id  average_rating  num_pages  \\\n",
       "91273   12624023     26819            3.93      210.0   \n",
       "1362    12372717      3912            4.09      352.0   \n",
       "177059   1897049     43626            3.71      376.0   \n",
       "206230    823200     55948            4.00       48.0   \n",
       "184194    529285     50818            3.50      200.0   \n",
       "\n",
       "                                              description  \\\n",
       "91273   Nore Roberts didn't ask for a new life, but no...   \n",
       "1362    The defenestration of a ruthless theatre impre...   \n",
       "177059  Para o Dr. Jeremy Carter, psicologo no City Ce...   \n",
       "206230  With her series of books that feature the spir...   \n",
       "184194  Many people in America think that gang violenc...   \n",
       "\n",
       "                                            similar_books  \\\n",
       "91273   '497769', '464102', '514108', '93783', '137964...   \n",
       "1362    '13531847', '122555', '8537082', '15715073', '...   \n",
       "177059                       '760054', '848962', '296960'   \n",
       "206230  '710853', '166677', '1834583', '284368', '1525...   \n",
       "184194                                                      \n",
       "\n",
       "                                                    title  \n",
       "91273                                      Locked in Time  \n",
       "1362    Bryant & May and the Memory of Blood (Bryant &...  \n",
       "177059                                The Conspiracy Club  \n",
       "206230              Blackwater Spirits (Glynis Tryon, #3)  \n",
       "184194  Gangbangers: Understanding the Deadly Minds of...  "
      ]
     },
     "execution_count": 25,
     "metadata": {},
     "output_type": "execute_result"
    }
   ],
   "source": [
    "books = books_df[['book_id', 'author_id', 'average_rating', 'num_pages', 'description', 'similar_books', 'title']]\n",
    "books.sample(5)"
   ]
  },
  {
   "cell_type": "code",
   "execution_count": 27,
   "metadata": {},
   "outputs": [
    {
     "data": {
      "text/html": [
       "<div>\n",
       "<style scoped>\n",
       "    .dataframe tbody tr th:only-of-type {\n",
       "        vertical-align: middle;\n",
       "    }\n",
       "\n",
       "    .dataframe tbody tr th {\n",
       "        vertical-align: top;\n",
       "    }\n",
       "\n",
       "    .dataframe thead th {\n",
       "        text-align: right;\n",
       "    }\n",
       "</style>\n",
       "<table border=\"1\" class=\"dataframe\">\n",
       "  <thead>\n",
       "    <tr style=\"text-align: right;\">\n",
       "      <th></th>\n",
       "      <th>book_id</th>\n",
       "      <th>average_rating</th>\n",
       "      <th>num_pages</th>\n",
       "    </tr>\n",
       "  </thead>\n",
       "  <tbody>\n",
       "    <tr>\n",
       "      <th>count</th>\n",
       "      <td>2.192350e+05</td>\n",
       "      <td>219235.000000</td>\n",
       "      <td>149407.000000</td>\n",
       "    </tr>\n",
       "    <tr>\n",
       "      <th>mean</th>\n",
       "      <td>1.517214e+07</td>\n",
       "      <td>3.831517</td>\n",
       "      <td>317.769984</td>\n",
       "    </tr>\n",
       "    <tr>\n",
       "      <th>std</th>\n",
       "      <td>1.057262e+07</td>\n",
       "      <td>0.332023</td>\n",
       "      <td>224.919711</td>\n",
       "    </tr>\n",
       "    <tr>\n",
       "      <th>min</th>\n",
       "      <td>1.640000e+02</td>\n",
       "      <td>0.000000</td>\n",
       "      <td>0.000000</td>\n",
       "    </tr>\n",
       "    <tr>\n",
       "      <th>25%</th>\n",
       "      <td>6.339338e+06</td>\n",
       "      <td>3.650000</td>\n",
       "      <td>236.000000</td>\n",
       "    </tr>\n",
       "    <tr>\n",
       "      <th>50%</th>\n",
       "      <td>1.573438e+07</td>\n",
       "      <td>3.850000</td>\n",
       "      <td>313.000000</td>\n",
       "    </tr>\n",
       "    <tr>\n",
       "      <th>75%</th>\n",
       "      <td>2.360379e+07</td>\n",
       "      <td>4.040000</td>\n",
       "      <td>391.000000</td>\n",
       "    </tr>\n",
       "    <tr>\n",
       "      <th>max</th>\n",
       "      <td>3.651716e+07</td>\n",
       "      <td>5.000000</td>\n",
       "      <td>52015.000000</td>\n",
       "    </tr>\n",
       "  </tbody>\n",
       "</table>\n",
       "</div>"
      ],
      "text/plain": [
       "            book_id  average_rating      num_pages\n",
       "count  2.192350e+05   219235.000000  149407.000000\n",
       "mean   1.517214e+07        3.831517     317.769984\n",
       "std    1.057262e+07        0.332023     224.919711\n",
       "min    1.640000e+02        0.000000       0.000000\n",
       "25%    6.339338e+06        3.650000     236.000000\n",
       "50%    1.573438e+07        3.850000     313.000000\n",
       "75%    2.360379e+07        4.040000     391.000000\n",
       "max    3.651716e+07        5.000000   52015.000000"
      ]
     },
     "execution_count": 27,
     "metadata": {},
     "output_type": "execute_result"
    }
   ],
   "source": [
    "books.describe()"
   ]
  },
  {
   "cell_type": "code",
   "execution_count": 28,
   "metadata": {},
   "outputs": [
    {
     "name": "stdout",
     "output_type": "stream",
     "text": [
      "<class 'pandas.core.frame.DataFrame'>\n",
      "RangeIndex: 219235 entries, 0 to 219234\n",
      "Data columns (total 7 columns):\n",
      "book_id           219235 non-null int64\n",
      "author_id         219235 non-null object\n",
      "average_rating    219235 non-null float64\n",
      "num_pages         149407 non-null float64\n",
      "description       198488 non-null object\n",
      "similar_books     219235 non-null object\n",
      "title             219235 non-null object\n",
      "dtypes: float64(2), int64(1), object(4)\n",
      "memory usage: 11.7+ MB\n"
     ]
    }
   ],
   "source": [
    "books.info()"
   ]
  },
  {
   "cell_type": "code",
   "execution_count": 29,
   "metadata": {},
   "outputs": [
    {
     "data": {
      "text/plain": [
       "book_id               0\n",
       "author_id             0\n",
       "average_rating        0\n",
       "num_pages         69828\n",
       "description       20747\n",
       "similar_books         0\n",
       "title                 0\n",
       "dtype: int64"
      ]
     },
     "execution_count": 29,
     "metadata": {},
     "output_type": "execute_result"
    }
   ],
   "source": [
    "books.isnull().sum(axis=0)"
   ]
  },
  {
   "cell_type": "code",
   "execution_count": 30,
   "metadata": {},
   "outputs": [
    {
     "name": "stdout",
     "output_type": "stream",
     "text": [
      "Number of books:  219235\n",
      "Number of authors:  31761\n"
     ]
    }
   ],
   "source": [
    "print(\"Number of books: \", books.book_id.nunique())\n",
    "print(\"Number of authors: \", books.author_id.nunique())"
   ]
  },
  {
   "cell_type": "code",
   "execution_count": 53,
   "metadata": {},
   "outputs": [
    {
     "data": {
      "text/html": [
       "<div>\n",
       "<style scoped>\n",
       "    .dataframe tbody tr th:only-of-type {\n",
       "        vertical-align: middle;\n",
       "    }\n",
       "\n",
       "    .dataframe tbody tr th {\n",
       "        vertical-align: top;\n",
       "    }\n",
       "\n",
       "    .dataframe thead th {\n",
       "        text-align: right;\n",
       "    }\n",
       "</style>\n",
       "<table border=\"1\" class=\"dataframe\">\n",
       "  <thead>\n",
       "    <tr style=\"text-align: right;\">\n",
       "      <th></th>\n",
       "      <th>book_id</th>\n",
       "      <th>user_id</th>\n",
       "      <th>rating</th>\n",
       "      <th>is_read</th>\n",
       "      <th>started_at</th>\n",
       "    </tr>\n",
       "  </thead>\n",
       "  <tbody>\n",
       "    <tr>\n",
       "      <th>10230047</th>\n",
       "      <td>775346</td>\n",
       "      <td>142c34f9adb566019745273c0b1fc836</td>\n",
       "      <td>3</td>\n",
       "      <td>True</td>\n",
       "      <td>Fri Apr 08 05:47:47 -0700 2016</td>\n",
       "    </tr>\n",
       "    <tr>\n",
       "      <th>913094</th>\n",
       "      <td>25196498</td>\n",
       "      <td>a1d3f510b1c20c9f156f4f3d5da2ad69</td>\n",
       "      <td>0</td>\n",
       "      <td>False</td>\n",
       "      <td>NaN</td>\n",
       "    </tr>\n",
       "    <tr>\n",
       "      <th>23203667</th>\n",
       "      <td>12140024</td>\n",
       "      <td>b886fc11f088920fea65c7be44208080</td>\n",
       "      <td>0</td>\n",
       "      <td>False</td>\n",
       "      <td>NaN</td>\n",
       "    </tr>\n",
       "    <tr>\n",
       "      <th>11040132</th>\n",
       "      <td>3100718</td>\n",
       "      <td>02658f9d21744a7d9a8ccb370b78e25a</td>\n",
       "      <td>0</td>\n",
       "      <td>True</td>\n",
       "      <td>Mon Jul 15 14:22:48 -0700 2013</td>\n",
       "    </tr>\n",
       "    <tr>\n",
       "      <th>8499235</th>\n",
       "      <td>14889679</td>\n",
       "      <td>7dfab3ac4ac4b66bdd43532d628dd4d1</td>\n",
       "      <td>0</td>\n",
       "      <td>False</td>\n",
       "      <td>NaN</td>\n",
       "    </tr>\n",
       "  </tbody>\n",
       "</table>\n",
       "</div>"
      ],
      "text/plain": [
       "           book_id                           user_id  rating  is_read  \\\n",
       "10230047    775346  142c34f9adb566019745273c0b1fc836       3     True   \n",
       "913094    25196498  a1d3f510b1c20c9f156f4f3d5da2ad69       0    False   \n",
       "23203667  12140024  b886fc11f088920fea65c7be44208080       0    False   \n",
       "11040132   3100718  02658f9d21744a7d9a8ccb370b78e25a       0     True   \n",
       "8499235   14889679  7dfab3ac4ac4b66bdd43532d628dd4d1       0    False   \n",
       "\n",
       "                              started_at  \n",
       "10230047  Fri Apr 08 05:47:47 -0700 2016  \n",
       "913094                               NaN  \n",
       "23203667                             NaN  \n",
       "11040132  Mon Jul 15 14:22:48 -0700 2013  \n",
       "8499235                              NaN  "
      ]
     },
     "execution_count": 53,
     "metadata": {},
     "output_type": "execute_result"
    }
   ],
   "source": [
    "interactions = interactions_df[['book_id', 'user_id', 'rating', 'is_read', 'read_at']]\n",
    "interactions.sample(5)"
   ]
  },
  {
   "cell_type": "code",
   "execution_count": 54,
   "metadata": {},
   "outputs": [
    {
     "data": {
      "text/html": [
       "<div>\n",
       "<style scoped>\n",
       "    .dataframe tbody tr th:only-of-type {\n",
       "        vertical-align: middle;\n",
       "    }\n",
       "\n",
       "    .dataframe tbody tr th {\n",
       "        vertical-align: top;\n",
       "    }\n",
       "\n",
       "    .dataframe thead th {\n",
       "        text-align: right;\n",
       "    }\n",
       "</style>\n",
       "<table border=\"1\" class=\"dataframe\">\n",
       "  <thead>\n",
       "    <tr style=\"text-align: right;\">\n",
       "      <th></th>\n",
       "      <th>book_id</th>\n",
       "      <th>rating</th>\n",
       "    </tr>\n",
       "  </thead>\n",
       "  <tbody>\n",
       "    <tr>\n",
       "      <th>count</th>\n",
       "      <td>2.479990e+07</td>\n",
       "      <td>2.479990e+07</td>\n",
       "    </tr>\n",
       "    <tr>\n",
       "      <th>mean</th>\n",
       "      <td>1.075371e+07</td>\n",
       "      <td>1.819287e+00</td>\n",
       "    </tr>\n",
       "    <tr>\n",
       "      <th>std</th>\n",
       "      <td>1.081314e+07</td>\n",
       "      <td>2.029919e+00</td>\n",
       "    </tr>\n",
       "    <tr>\n",
       "      <th>min</th>\n",
       "      <td>1.640000e+02</td>\n",
       "      <td>0.000000e+00</td>\n",
       "    </tr>\n",
       "    <tr>\n",
       "      <th>25%</th>\n",
       "      <td>2.245200e+05</td>\n",
       "      <td>0.000000e+00</td>\n",
       "    </tr>\n",
       "    <tr>\n",
       "      <th>50%</th>\n",
       "      <td>7.738919e+06</td>\n",
       "      <td>0.000000e+00</td>\n",
       "    </tr>\n",
       "    <tr>\n",
       "      <th>75%</th>\n",
       "      <td>1.915523e+07</td>\n",
       "      <td>4.000000e+00</td>\n",
       "    </tr>\n",
       "    <tr>\n",
       "      <th>max</th>\n",
       "      <td>3.649690e+07</td>\n",
       "      <td>5.000000e+00</td>\n",
       "    </tr>\n",
       "  </tbody>\n",
       "</table>\n",
       "</div>"
      ],
      "text/plain": [
       "            book_id        rating\n",
       "count  2.479990e+07  2.479990e+07\n",
       "mean   1.075371e+07  1.819287e+00\n",
       "std    1.081314e+07  2.029919e+00\n",
       "min    1.640000e+02  0.000000e+00\n",
       "25%    2.245200e+05  0.000000e+00\n",
       "50%    7.738919e+06  0.000000e+00\n",
       "75%    1.915523e+07  4.000000e+00\n",
       "max    3.649690e+07  5.000000e+00"
      ]
     },
     "execution_count": 54,
     "metadata": {},
     "output_type": "execute_result"
    }
   ],
   "source": [
    "interactions.describe()"
   ]
  },
  {
   "cell_type": "code",
   "execution_count": 55,
   "metadata": {},
   "outputs": [
    {
     "name": "stdout",
     "output_type": "stream",
     "text": [
      "<class 'pandas.core.frame.DataFrame'>\n",
      "RangeIndex: 24799896 entries, 0 to 24799895\n",
      "Data columns (total 5 columns):\n",
      "book_id       int64\n",
      "user_id       object\n",
      "rating        int64\n",
      "is_read       bool\n",
      "started_at    object\n",
      "dtypes: bool(1), int64(2), object(2)\n",
      "memory usage: 780.5+ MB\n"
     ]
    }
   ],
   "source": [
    "interactions.info()"
   ]
  },
  {
   "cell_type": "code",
   "execution_count": 56,
   "metadata": {},
   "outputs": [
    {
     "data": {
      "text/plain": [
       "book_id              0\n",
       "user_id              0\n",
       "rating               0\n",
       "is_read              0\n",
       "started_at    20520521\n",
       "dtype: int64"
      ]
     },
     "execution_count": 56,
     "metadata": {},
     "output_type": "execute_result"
    }
   ],
   "source": [
    "interactions.isnull().sum(axis=0)"
   ]
  },
  {
   "cell_type": "code",
   "execution_count": 58,
   "metadata": {},
   "outputs": [
    {
     "name": "stdout",
     "output_type": "stream",
     "text": [
      "Number of books:  219234\n",
      "Number of users:  676075\n"
     ]
    }
   ],
   "source": [
    "print(\"Number of books: \", interactions.book_id.nunique())\n",
    "print(\"Number of users: \", interactions.user_id.nunique())"
   ]
  },
  {
   "cell_type": "code",
   "execution_count": 45,
   "metadata": {},
   "outputs": [
    {
     "data": {
      "text/html": [
       "<div>\n",
       "<style scoped>\n",
       "    .dataframe tbody tr th:only-of-type {\n",
       "        vertical-align: middle;\n",
       "    }\n",
       "\n",
       "    .dataframe tbody tr th {\n",
       "        vertical-align: top;\n",
       "    }\n",
       "\n",
       "    .dataframe thead th {\n",
       "        text-align: right;\n",
       "    }\n",
       "</style>\n",
       "<table border=\"1\" class=\"dataframe\">\n",
       "  <thead>\n",
       "    <tr style=\"text-align: right;\">\n",
       "      <th></th>\n",
       "      <th>book_id</th>\n",
       "      <th>user_id</th>\n",
       "      <th>rating</th>\n",
       "      <th>read_at</th>\n",
       "      <th>review_text</th>\n",
       "    </tr>\n",
       "  </thead>\n",
       "  <tbody>\n",
       "    <tr>\n",
       "      <th>1469301</th>\n",
       "      <td>102113</td>\n",
       "      <td>7e229fe18a9766316c78d2a8565189da</td>\n",
       "      <td>2</td>\n",
       "      <td>Sat Jul 22 10:31:02 -0700 2017</td>\n",
       "      <td>Decent book. It started off strong. It became ...</td>\n",
       "    </tr>\n",
       "    <tr>\n",
       "      <th>889201</th>\n",
       "      <td>32437</td>\n",
       "      <td>f64fb926050c4b6ffe96cebaeba8b58d</td>\n",
       "      <td>2</td>\n",
       "      <td>Thu May 24 22:06:48 -0700 2012</td>\n",
       "      <td>I have been a Koontz fan for many, many years ...</td>\n",
       "    </tr>\n",
       "    <tr>\n",
       "      <th>1153378</th>\n",
       "      <td>206196</td>\n",
       "      <td>43f0c04fe19f4b6864ef685fa0c69503</td>\n",
       "      <td>4</td>\n",
       "      <td>Mon Apr 29 00:00:00 -0700 2013</td>\n",
       "      <td>The writing and story improved as I read. I en...</td>\n",
       "    </tr>\n",
       "    <tr>\n",
       "      <th>412587</th>\n",
       "      <td>16101917</td>\n",
       "      <td>d8529650760407c9c48ee3190bc1cca1</td>\n",
       "      <td>4</td>\n",
       "      <td>Fri May 16 19:57:31 -0700 2014</td>\n",
       "      <td>I highly recommend this book, Sarah buys the h...</td>\n",
       "    </tr>\n",
       "    <tr>\n",
       "      <th>746852</th>\n",
       "      <td>28815474</td>\n",
       "      <td>4b114ef2d8f57c9d169446b5ffdf6b9d</td>\n",
       "      <td>3</td>\n",
       "      <td>Fri Aug 05 00:00:00 -0700 2016</td>\n",
       "      <td>My Summary: When Anne and Marco Conti decide t...</td>\n",
       "    </tr>\n",
       "  </tbody>\n",
       "</table>\n",
       "</div>"
      ],
      "text/plain": [
       "          book_id                           user_id  rating  \\\n",
       "1469301    102113  7e229fe18a9766316c78d2a8565189da       2   \n",
       "889201      32437  f64fb926050c4b6ffe96cebaeba8b58d       2   \n",
       "1153378    206196  43f0c04fe19f4b6864ef685fa0c69503       4   \n",
       "412587   16101917  d8529650760407c9c48ee3190bc1cca1       4   \n",
       "746852   28815474  4b114ef2d8f57c9d169446b5ffdf6b9d       3   \n",
       "\n",
       "                                read_at  \\\n",
       "1469301  Sat Jul 22 10:31:02 -0700 2017   \n",
       "889201   Thu May 24 22:06:48 -0700 2012   \n",
       "1153378  Mon Apr 29 00:00:00 -0700 2013   \n",
       "412587   Fri May 16 19:57:31 -0700 2014   \n",
       "746852   Fri Aug 05 00:00:00 -0700 2016   \n",
       "\n",
       "                                               review_text  \n",
       "1469301  Decent book. It started off strong. It became ...  \n",
       "889201   I have been a Koontz fan for many, many years ...  \n",
       "1153378  The writing and story improved as I read. I en...  \n",
       "412587   I highly recommend this book, Sarah buys the h...  \n",
       "746852   My Summary: When Anne and Marco Conti decide t...  "
      ]
     },
     "execution_count": 45,
     "metadata": {},
     "output_type": "execute_result"
    }
   ],
   "source": [
    "reviews = reviews_df[['book_id', 'user_id', 'rating', 'read_at', 'review_text']]\n",
    "reviews.sample(5)"
   ]
  },
  {
   "cell_type": "code",
   "execution_count": 46,
   "metadata": {},
   "outputs": [
    {
     "data": {
      "text/html": [
       "<div>\n",
       "<style scoped>\n",
       "    .dataframe tbody tr th:only-of-type {\n",
       "        vertical-align: middle;\n",
       "    }\n",
       "\n",
       "    .dataframe tbody tr th {\n",
       "        vertical-align: top;\n",
       "    }\n",
       "\n",
       "    .dataframe thead th {\n",
       "        text-align: right;\n",
       "    }\n",
       "</style>\n",
       "<table border=\"1\" class=\"dataframe\">\n",
       "  <thead>\n",
       "    <tr style=\"text-align: right;\">\n",
       "      <th></th>\n",
       "      <th>book_id</th>\n",
       "      <th>rating</th>\n",
       "    </tr>\n",
       "  </thead>\n",
       "  <tbody>\n",
       "    <tr>\n",
       "      <th>count</th>\n",
       "      <td>1.849236e+06</td>\n",
       "      <td>1.849236e+06</td>\n",
       "    </tr>\n",
       "    <tr>\n",
       "      <th>mean</th>\n",
       "      <td>1.335371e+07</td>\n",
       "      <td>3.683981e+00</td>\n",
       "    </tr>\n",
       "    <tr>\n",
       "      <th>std</th>\n",
       "      <td>1.063012e+07</td>\n",
       "      <td>1.208838e+00</td>\n",
       "    </tr>\n",
       "    <tr>\n",
       "      <th>min</th>\n",
       "      <td>1.640000e+02</td>\n",
       "      <td>0.000000e+00</td>\n",
       "    </tr>\n",
       "    <tr>\n",
       "      <th>25%</th>\n",
       "      <td>1.914973e+06</td>\n",
       "      <td>3.000000e+00</td>\n",
       "    </tr>\n",
       "    <tr>\n",
       "      <th>50%</th>\n",
       "      <td>1.309420e+07</td>\n",
       "      <td>4.000000e+00</td>\n",
       "    </tr>\n",
       "    <tr>\n",
       "      <th>75%</th>\n",
       "      <td>2.255727e+07</td>\n",
       "      <td>5.000000e+00</td>\n",
       "    </tr>\n",
       "    <tr>\n",
       "      <th>max</th>\n",
       "      <td>3.649690e+07</td>\n",
       "      <td>5.000000e+00</td>\n",
       "    </tr>\n",
       "  </tbody>\n",
       "</table>\n",
       "</div>"
      ],
      "text/plain": [
       "            book_id        rating\n",
       "count  1.849236e+06  1.849236e+06\n",
       "mean   1.335371e+07  3.683981e+00\n",
       "std    1.063012e+07  1.208838e+00\n",
       "min    1.640000e+02  0.000000e+00\n",
       "25%    1.914973e+06  3.000000e+00\n",
       "50%    1.309420e+07  4.000000e+00\n",
       "75%    2.255727e+07  5.000000e+00\n",
       "max    3.649690e+07  5.000000e+00"
      ]
     },
     "execution_count": 46,
     "metadata": {},
     "output_type": "execute_result"
    }
   ],
   "source": [
    "reviews.describe()"
   ]
  },
  {
   "cell_type": "code",
   "execution_count": 47,
   "metadata": {},
   "outputs": [
    {
     "name": "stdout",
     "output_type": "stream",
     "text": [
      "<class 'pandas.core.frame.DataFrame'>\n",
      "RangeIndex: 1849236 entries, 0 to 1849235\n",
      "Data columns (total 5 columns):\n",
      "book_id        int64\n",
      "user_id        object\n",
      "rating         int64\n",
      "read_at        object\n",
      "review_text    object\n",
      "dtypes: int64(2), object(3)\n",
      "memory usage: 70.5+ MB\n"
     ]
    }
   ],
   "source": [
    "reviews.info()"
   ]
  },
  {
   "cell_type": "code",
   "execution_count": 48,
   "metadata": {},
   "outputs": [
    {
     "data": {
      "text/plain": [
       "book_id             0\n",
       "user_id             0\n",
       "rating              0\n",
       "read_at        281802\n",
       "review_text       426\n",
       "dtype: int64"
      ]
     },
     "execution_count": 48,
     "metadata": {},
     "output_type": "execute_result"
    }
   ],
   "source": [
    "reviews.isnull().sum(axis=0)"
   ]
  },
  {
   "cell_type": "code",
   "execution_count": 59,
   "metadata": {},
   "outputs": [
    {
     "name": "stdout",
     "output_type": "stream",
     "text": [
      "Number of books:  218987\n",
      "Number of users:  203655\n"
     ]
    }
   ],
   "source": [
    "print(\"Number of books: \", reviews.book_id.nunique())\n",
    "print(\"Number of users: \", reviews.user_id.nunique())"
   ]
  },
  {
   "cell_type": "markdown",
   "metadata": {},
   "source": [
    "### Data Visualization"
   ]
  },
  {
   "cell_type": "code",
   "execution_count": 60,
   "metadata": {},
   "outputs": [],
   "source": [
    "import matplotlib as mpl\n",
    "import matplotlib.pyplot as plt\n",
    "%matplotlib inline\n",
    "\n",
    "import seaborn as sns"
   ]
  },
  {
   "cell_type": "code",
   "execution_count": null,
   "metadata": {},
   "outputs": [],
   "source": [
    "#Book information"
   ]
  },
  {
   "cell_type": "code",
   "execution_count": null,
   "metadata": {},
   "outputs": [],
   "source": [
    "#Interaction information"
   ]
  },
  {
   "cell_type": "code",
   "execution_count": 61,
   "metadata": {},
   "outputs": [],
   "source": [
    "#Review information"
   ]
  },
  {
   "cell_type": "code",
   "execution_count": null,
   "metadata": {},
   "outputs": [],
   "source": []
  }
 ],
 "metadata": {
  "kernelspec": {
   "display_name": "Python 3",
   "language": "python",
   "name": "python3"
  },
  "language_info": {
   "codemirror_mode": {
    "name": "ipython",
    "version": 3
   },
   "file_extension": ".py",
   "mimetype": "text/x-python",
   "name": "python",
   "nbconvert_exporter": "python",
   "pygments_lexer": "ipython3",
   "version": "3.6.6"
  }
 },
 "nbformat": 4,
 "nbformat_minor": 2
}
