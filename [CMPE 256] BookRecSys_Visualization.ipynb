{
 "cells": [
  {
   "cell_type": "markdown",
   "metadata": {},
   "source": [
    "# Recommender system\n",
    "## Books for mystery, thriller, and crime\n",
    "https://sites.google.com/eng.ucsd.edu/ucsdbookgraph/home"
   ]
  },
  {
   "cell_type": "code",
   "execution_count": 2,
   "metadata": {},
   "outputs": [],
   "source": [
    "import sys\n",
    "import warnings\n",
    "\n",
    "if not sys.warnoptions:\n",
    "    warnings.simplefilter(\"ignore\")\n",
    "\n",
    "import pandas as pd\n",
    "import numpy as np"
   ]
  },
  {
   "cell_type": "markdown",
   "metadata": {},
   "source": [
    "### Load Data"
   ]
  },
  {
   "cell_type": "markdown",
   "metadata": {},
   "source": [
    "#### 1) General information for all books"
   ]
  },
  {
   "cell_type": "code",
   "execution_count": 67,
   "metadata": {},
   "outputs": [
    {
     "name": "stdout",
     "output_type": "stream",
     "text": [
      "(2360650, 2)\n"
     ]
    },
    {
     "data": {
      "text/html": [
       "<div>\n",
       "<style scoped>\n",
       "    .dataframe tbody tr th:only-of-type {\n",
       "        vertical-align: middle;\n",
       "    }\n",
       "\n",
       "    .dataframe tbody tr th {\n",
       "        vertical-align: top;\n",
       "    }\n",
       "\n",
       "    .dataframe thead th {\n",
       "        text-align: right;\n",
       "    }\n",
       "</style>\n",
       "<table border=\"1\" class=\"dataframe\">\n",
       "  <thead>\n",
       "    <tr style=\"text-align: right;\">\n",
       "      <th></th>\n",
       "      <th>book_id_csv</th>\n",
       "      <th>book_id</th>\n",
       "    </tr>\n",
       "  </thead>\n",
       "  <tbody>\n",
       "    <tr>\n",
       "      <th>0</th>\n",
       "      <td>0</td>\n",
       "      <td>34684622</td>\n",
       "    </tr>\n",
       "    <tr>\n",
       "      <th>1</th>\n",
       "      <td>1</td>\n",
       "      <td>34536488</td>\n",
       "    </tr>\n",
       "    <tr>\n",
       "      <th>2</th>\n",
       "      <td>2</td>\n",
       "      <td>34017076</td>\n",
       "    </tr>\n",
       "  </tbody>\n",
       "</table>\n",
       "</div>"
      ],
      "text/plain": [
       "   book_id_csv   book_id\n",
       "0            0  34684622\n",
       "1            1  34536488\n",
       "2            2  34017076"
      ]
     },
     "execution_count": 67,
     "metadata": {},
     "output_type": "execute_result"
    }
   ],
   "source": [
    "book_id_df = pd.read_csv('book_id_map.csv')\n",
    "print(book_id_df.shape)\n",
    "book_id_df.head(3)"
   ]
  },
  {
   "cell_type": "code",
   "execution_count": 3,
   "metadata": {},
   "outputs": [
    {
     "name": "stdout",
     "output_type": "stream",
     "text": [
      "(876145, 2)\n"
     ]
    },
    {
     "data": {
      "text/html": [
       "<div>\n",
       "<style scoped>\n",
       "    .dataframe tbody tr th:only-of-type {\n",
       "        vertical-align: middle;\n",
       "    }\n",
       "\n",
       "    .dataframe tbody tr th {\n",
       "        vertical-align: top;\n",
       "    }\n",
       "\n",
       "    .dataframe thead th {\n",
       "        text-align: right;\n",
       "    }\n",
       "</style>\n",
       "<table border=\"1\" class=\"dataframe\">\n",
       "  <thead>\n",
       "    <tr style=\"text-align: right;\">\n",
       "      <th></th>\n",
       "      <th>user_id_csv</th>\n",
       "      <th>user_id</th>\n",
       "    </tr>\n",
       "  </thead>\n",
       "  <tbody>\n",
       "    <tr>\n",
       "      <th>0</th>\n",
       "      <td>0</td>\n",
       "      <td>8842281e1d1347389f2ab93d60773d4d</td>\n",
       "    </tr>\n",
       "    <tr>\n",
       "      <th>1</th>\n",
       "      <td>1</td>\n",
       "      <td>72fb0d0087d28c832f15776b0d936598</td>\n",
       "    </tr>\n",
       "    <tr>\n",
       "      <th>2</th>\n",
       "      <td>2</td>\n",
       "      <td>ab2923b738ea3082f5f3efcbbfacb218</td>\n",
       "    </tr>\n",
       "  </tbody>\n",
       "</table>\n",
       "</div>"
      ],
      "text/plain": [
       "   user_id_csv                           user_id\n",
       "0            0  8842281e1d1347389f2ab93d60773d4d\n",
       "1            1  72fb0d0087d28c832f15776b0d936598\n",
       "2            2  ab2923b738ea3082f5f3efcbbfacb218"
      ]
     },
     "execution_count": 3,
     "metadata": {},
     "output_type": "execute_result"
    }
   ],
   "source": [
    "user_id_df = pd.read_csv('user_id_map.csv')\n",
    "print(user_id_df.shape)\n",
    "user_id_df.head(3)"
   ]
  },
  {
   "cell_type": "code",
   "execution_count": 4,
   "metadata": {},
   "outputs": [
    {
     "name": "stdout",
     "output_type": "stream",
     "text": [
      "(829529, 5)\n"
     ]
    },
    {
     "data": {
      "text/html": [
       "<div>\n",
       "<style scoped>\n",
       "    .dataframe tbody tr th:only-of-type {\n",
       "        vertical-align: middle;\n",
       "    }\n",
       "\n",
       "    .dataframe tbody tr th {\n",
       "        vertical-align: top;\n",
       "    }\n",
       "\n",
       "    .dataframe thead th {\n",
       "        text-align: right;\n",
       "    }\n",
       "</style>\n",
       "<table border=\"1\" class=\"dataframe\">\n",
       "  <thead>\n",
       "    <tr style=\"text-align: right;\">\n",
       "      <th></th>\n",
       "      <th>author_id</th>\n",
       "      <th>average_rating</th>\n",
       "      <th>name</th>\n",
       "      <th>ratings_count</th>\n",
       "      <th>text_reviews_count</th>\n",
       "    </tr>\n",
       "  </thead>\n",
       "  <tbody>\n",
       "    <tr>\n",
       "      <th>0</th>\n",
       "      <td>604031</td>\n",
       "      <td>3.98</td>\n",
       "      <td>Ronald J. Fields</td>\n",
       "      <td>49</td>\n",
       "      <td>7</td>\n",
       "    </tr>\n",
       "    <tr>\n",
       "      <th>1</th>\n",
       "      <td>626222</td>\n",
       "      <td>4.08</td>\n",
       "      <td>Anita Diamant</td>\n",
       "      <td>546796</td>\n",
       "      <td>28716</td>\n",
       "    </tr>\n",
       "    <tr>\n",
       "      <th>2</th>\n",
       "      <td>10333</td>\n",
       "      <td>3.92</td>\n",
       "      <td>Barbara Hambly</td>\n",
       "      <td>122118</td>\n",
       "      <td>5075</td>\n",
       "    </tr>\n",
       "  </tbody>\n",
       "</table>\n",
       "</div>"
      ],
      "text/plain": [
       "   author_id  average_rating              name  ratings_count  \\\n",
       "0     604031            3.98  Ronald J. Fields             49   \n",
       "1     626222            4.08     Anita Diamant         546796   \n",
       "2      10333            3.92    Barbara Hambly         122118   \n",
       "\n",
       "   text_reviews_count  \n",
       "0                   7  \n",
       "1               28716  \n",
       "2                5075  "
      ]
     },
     "execution_count": 4,
     "metadata": {},
     "output_type": "execute_result"
    }
   ],
   "source": [
    "authors_df = pd.read_csv('goodreads_book_authors.csv')\n",
    "print(authors_df.shape)\n",
    "authors_df.head(3)"
   ]
  },
  {
   "cell_type": "code",
   "execution_count": 5,
   "metadata": {},
   "outputs": [
    {
     "name": "stdout",
     "output_type": "stream",
     "text": [
      "(228170405, 5)\n"
     ]
    },
    {
     "data": {
      "text/html": [
       "<div>\n",
       "<style scoped>\n",
       "    .dataframe tbody tr th:only-of-type {\n",
       "        vertical-align: middle;\n",
       "    }\n",
       "\n",
       "    .dataframe tbody tr th {\n",
       "        vertical-align: top;\n",
       "    }\n",
       "\n",
       "    .dataframe thead th {\n",
       "        text-align: right;\n",
       "    }\n",
       "</style>\n",
       "<table border=\"1\" class=\"dataframe\">\n",
       "  <thead>\n",
       "    <tr style=\"text-align: right;\">\n",
       "      <th></th>\n",
       "      <th>user_id</th>\n",
       "      <th>book_id</th>\n",
       "      <th>is_read</th>\n",
       "      <th>rating</th>\n",
       "      <th>is_reviewed</th>\n",
       "    </tr>\n",
       "  </thead>\n",
       "  <tbody>\n",
       "    <tr>\n",
       "      <th>0</th>\n",
       "      <td>0</td>\n",
       "      <td>948</td>\n",
       "      <td>1</td>\n",
       "      <td>5.0</td>\n",
       "      <td>0.0</td>\n",
       "    </tr>\n",
       "    <tr>\n",
       "      <th>1</th>\n",
       "      <td>0</td>\n",
       "      <td>947</td>\n",
       "      <td>1</td>\n",
       "      <td>5.0</td>\n",
       "      <td>1.0</td>\n",
       "    </tr>\n",
       "    <tr>\n",
       "      <th>2</th>\n",
       "      <td>0</td>\n",
       "      <td>946</td>\n",
       "      <td>1</td>\n",
       "      <td>5.0</td>\n",
       "      <td>0.0</td>\n",
       "    </tr>\n",
       "  </tbody>\n",
       "</table>\n",
       "</div>"
      ],
      "text/plain": [
       "   user_id  book_id  is_read  rating  is_reviewed\n",
       "0        0      948        1     5.0          0.0\n",
       "1        0      947        1     5.0          1.0\n",
       "2        0      946        1     5.0          0.0"
      ]
     },
     "execution_count": 5,
     "metadata": {},
     "output_type": "execute_result"
    }
   ],
   "source": [
    "all_interactions_df = pd.read_csv('goodreads_interactions.csv')\n",
    "print(all_interactions_df.shape)\n",
    "all_interactions_df.head(3)"
   ]
  },
  {
   "cell_type": "markdown",
   "metadata": {},
   "source": [
    "#### 2) Specific information for mystery, thriller, and crim books"
   ]
  },
  {
   "cell_type": "code",
   "execution_count": 96,
   "metadata": {},
   "outputs": [
    {
     "name": "stdout",
     "output_type": "stream",
     "text": [
      "(219235, 29)\n"
     ]
    },
    {
     "data": {
      "text/html": [
       "<div>\n",
       "<style scoped>\n",
       "    .dataframe tbody tr th:only-of-type {\n",
       "        vertical-align: middle;\n",
       "    }\n",
       "\n",
       "    .dataframe tbody tr th {\n",
       "        vertical-align: top;\n",
       "    }\n",
       "\n",
       "    .dataframe thead th {\n",
       "        text-align: right;\n",
       "    }\n",
       "</style>\n",
       "<table border=\"1\" class=\"dataframe\">\n",
       "  <thead>\n",
       "    <tr style=\"text-align: right;\">\n",
       "      <th></th>\n",
       "      <th>asin</th>\n",
       "      <th>author_id</th>\n",
       "      <th>average_rating</th>\n",
       "      <th>book_id</th>\n",
       "      <th>country_code</th>\n",
       "      <th>description</th>\n",
       "      <th>edition_information</th>\n",
       "      <th>format</th>\n",
       "      <th>image_url</th>\n",
       "      <th>is_ebook</th>\n",
       "      <th>...</th>\n",
       "      <th>publication_year</th>\n",
       "      <th>publisher</th>\n",
       "      <th>ratings_count</th>\n",
       "      <th>series</th>\n",
       "      <th>similar_books</th>\n",
       "      <th>text_reviews_count</th>\n",
       "      <th>title</th>\n",
       "      <th>title_without_series</th>\n",
       "      <th>url</th>\n",
       "      <th>work_id</th>\n",
       "    </tr>\n",
       "  </thead>\n",
       "  <tbody>\n",
       "    <tr>\n",
       "      <th>0</th>\n",
       "      <td>NaN</td>\n",
       "      <td>37778</td>\n",
       "      <td>3.93</td>\n",
       "      <td>6066814</td>\n",
       "      <td>US</td>\n",
       "      <td>London, 1196. At the command of Richard the Li...</td>\n",
       "      <td>NaN</td>\n",
       "      <td>Hardcover</td>\n",
       "      <td>https://images.gr-assets.com/books/1328724803m...</td>\n",
       "      <td>False</td>\n",
       "      <td>...</td>\n",
       "      <td>2009.0</td>\n",
       "      <td>Simon &amp; Schuster UK</td>\n",
       "      <td>186</td>\n",
       "      <td>['169353']</td>\n",
       "      <td>'439108', '522621', '116770', '1275927', '6202...</td>\n",
       "      <td>15</td>\n",
       "      <td>Crowner Royal (Crowner John Mystery, #13)</td>\n",
       "      <td>Crowner Royal (Crowner John Mystery, #13)</td>\n",
       "      <td>https://www.goodreads.com/book/show/6066814-cr...</td>\n",
       "      <td>6243149</td>\n",
       "    </tr>\n",
       "    <tr>\n",
       "      <th>1</th>\n",
       "      <td>B01NCIKAQX</td>\n",
       "      <td>242185</td>\n",
       "      <td>4.33</td>\n",
       "      <td>33394837</td>\n",
       "      <td>US</td>\n",
       "      <td>NaN</td>\n",
       "      <td>NaN</td>\n",
       "      <td>NaN</td>\n",
       "      <td>https://images.gr-assets.com/books/1493114742m...</td>\n",
       "      <td>True</td>\n",
       "      <td>...</td>\n",
       "      <td>NaN</td>\n",
       "      <td>NaN</td>\n",
       "      <td>269</td>\n",
       "      <td>['1052227']</td>\n",
       "      <td></td>\n",
       "      <td>60</td>\n",
       "      <td>The House of Memory (Pluto's Snitch #2)</td>\n",
       "      <td>The House of Memory (Pluto's Snitch #2)</td>\n",
       "      <td>https://www.goodreads.com/book/show/33394837-t...</td>\n",
       "      <td>54143148</td>\n",
       "    </tr>\n",
       "    <tr>\n",
       "      <th>2</th>\n",
       "      <td>B01ALOWJN0</td>\n",
       "      <td>15104629</td>\n",
       "      <td>3.49</td>\n",
       "      <td>29074697</td>\n",
       "      <td>US</td>\n",
       "      <td>BATHS, BANKS AND ROMAN INSURRECTION\\nDetective...</td>\n",
       "      <td>NaN</td>\n",
       "      <td>NaN</td>\n",
       "      <td>https://s.gr-assets.com/assets/nophoto/book/11...</td>\n",
       "      <td>True</td>\n",
       "      <td>...</td>\n",
       "      <td>NaN</td>\n",
       "      <td>Amazon Digital Services</td>\n",
       "      <td>192</td>\n",
       "      <td>['953679']</td>\n",
       "      <td></td>\n",
       "      <td>23</td>\n",
       "      <td>The Slaughtered Virgin of Zenopolis (Inspector...</td>\n",
       "      <td>The Slaughtered Virgin of Zenopolis (Inspector...</td>\n",
       "      <td>https://www.goodreads.com/book/show/29074697-t...</td>\n",
       "      <td>49305010</td>\n",
       "    </tr>\n",
       "  </tbody>\n",
       "</table>\n",
       "<p>3 rows × 29 columns</p>\n",
       "</div>"
      ],
      "text/plain": [
       "         asin author_id  average_rating   book_id country_code  \\\n",
       "0         NaN     37778            3.93   6066814           US   \n",
       "1  B01NCIKAQX    242185            4.33  33394837           US   \n",
       "2  B01ALOWJN0  15104629            3.49  29074697           US   \n",
       "\n",
       "                                         description edition_information  \\\n",
       "0  London, 1196. At the command of Richard the Li...                 NaN   \n",
       "1                                                NaN                 NaN   \n",
       "2  BATHS, BANKS AND ROMAN INSURRECTION\\nDetective...                 NaN   \n",
       "\n",
       "      format                                          image_url  is_ebook  \\\n",
       "0  Hardcover  https://images.gr-assets.com/books/1328724803m...     False   \n",
       "1        NaN  https://images.gr-assets.com/books/1493114742m...      True   \n",
       "2        NaN  https://s.gr-assets.com/assets/nophoto/book/11...      True   \n",
       "\n",
       "   ... publication_year                publisher ratings_count       series  \\\n",
       "0  ...           2009.0      Simon & Schuster UK           186   ['169353']   \n",
       "1  ...              NaN                      NaN           269  ['1052227']   \n",
       "2  ...              NaN  Amazon Digital Services           192   ['953679']   \n",
       "\n",
       "                                       similar_books  text_reviews_count  \\\n",
       "0  '439108', '522621', '116770', '1275927', '6202...                  15   \n",
       "1                                                                     60   \n",
       "2                                                                     23   \n",
       "\n",
       "                                               title  \\\n",
       "0          Crowner Royal (Crowner John Mystery, #13)   \n",
       "1            The House of Memory (Pluto's Snitch #2)   \n",
       "2  The Slaughtered Virgin of Zenopolis (Inspector...   \n",
       "\n",
       "                                title_without_series  \\\n",
       "0          Crowner Royal (Crowner John Mystery, #13)   \n",
       "1            The House of Memory (Pluto's Snitch #2)   \n",
       "2  The Slaughtered Virgin of Zenopolis (Inspector...   \n",
       "\n",
       "                                                 url   work_id  \n",
       "0  https://www.goodreads.com/book/show/6066814-cr...   6243149  \n",
       "1  https://www.goodreads.com/book/show/33394837-t...  54143148  \n",
       "2  https://www.goodreads.com/book/show/29074697-t...  49305010  \n",
       "\n",
       "[3 rows x 29 columns]"
      ]
     },
     "execution_count": 96,
     "metadata": {},
     "output_type": "execute_result"
    }
   ],
   "source": [
    "books_df = pd.read_csv('goodreads_books_mystery_thriller_crime.csv')\n",
    "books_df.authors = books_df.authors.str.split(pat = \",\").str[0].str.split(pat=\":\").str[1].str.split(pat=\"'\").str[1]\n",
    "books_df = books_df.rename(columns={'authors': 'author_id'})\n",
    "books_df.similar_books = books_df.similar_books.str.replace(\"^\\[|\\]$\",\"\")\n",
    "print(books_df.shape)\n",
    "books_df.head(3)"
   ]
  },
  {
   "cell_type": "code",
   "execution_count": 46,
   "metadata": {},
   "outputs": [
    {
     "name": "stdout",
     "output_type": "stream",
     "text": [
      "(24799896, 10)\n"
     ]
    },
    {
     "data": {
      "text/html": [
       "<div>\n",
       "<style scoped>\n",
       "    .dataframe tbody tr th:only-of-type {\n",
       "        vertical-align: middle;\n",
       "    }\n",
       "\n",
       "    .dataframe tbody tr th {\n",
       "        vertical-align: top;\n",
       "    }\n",
       "\n",
       "    .dataframe thead th {\n",
       "        text-align: right;\n",
       "    }\n",
       "</style>\n",
       "<table border=\"1\" class=\"dataframe\">\n",
       "  <thead>\n",
       "    <tr style=\"text-align: right;\">\n",
       "      <th></th>\n",
       "      <th>book_id</th>\n",
       "      <th>date_added</th>\n",
       "      <th>date_updated</th>\n",
       "      <th>is_read</th>\n",
       "      <th>rating</th>\n",
       "      <th>read_at</th>\n",
       "      <th>review_id</th>\n",
       "      <th>review_text_incomplete</th>\n",
       "      <th>started_at</th>\n",
       "      <th>user_id</th>\n",
       "    </tr>\n",
       "  </thead>\n",
       "  <tbody>\n",
       "    <tr>\n",
       "      <th>0</th>\n",
       "      <td>6392944</td>\n",
       "      <td>Mon Jul 24 02:48:17 -0700 2017</td>\n",
       "      <td>Sun Jul 30 09:28:03 -0700 2017</td>\n",
       "      <td>True</td>\n",
       "      <td>3</td>\n",
       "      <td>Tue Jul 25 00:00:00 -0700 2017</td>\n",
       "      <td>5e212a62bced17b4dbe41150e5bb9037</td>\n",
       "      <td>I haven't read a fun mystery book in a while a...</td>\n",
       "      <td>Mon Jul 24 00:00:00 -0700 2017</td>\n",
       "      <td>8842281e1d1347389f2ab93d60773d4d</td>\n",
       "    </tr>\n",
       "    <tr>\n",
       "      <th>1</th>\n",
       "      <td>2279538</td>\n",
       "      <td>Wed Mar 29 00:27:14 -0700 2017</td>\n",
       "      <td>Wed Mar 29 00:27:14 -0700 2017</td>\n",
       "      <td>False</td>\n",
       "      <td>0</td>\n",
       "      <td>NaN</td>\n",
       "      <td>556e9e3f00fb5b7e4eaa116764b771b0</td>\n",
       "      <td>NaN</td>\n",
       "      <td>NaN</td>\n",
       "      <td>8842281e1d1347389f2ab93d60773d4d</td>\n",
       "    </tr>\n",
       "    <tr>\n",
       "      <th>2</th>\n",
       "      <td>20821043</td>\n",
       "      <td>Mon Mar 27 22:52:11 -0700 2017</td>\n",
       "      <td>Mon Mar 27 22:52:12 -0700 2017</td>\n",
       "      <td>False</td>\n",
       "      <td>0</td>\n",
       "      <td>NaN</td>\n",
       "      <td>4b15f8a08f04a17f9a47f2b76fec21e5</td>\n",
       "      <td>NaN</td>\n",
       "      <td>NaN</td>\n",
       "      <td>8842281e1d1347389f2ab93d60773d4d</td>\n",
       "    </tr>\n",
       "  </tbody>\n",
       "</table>\n",
       "</div>"
      ],
      "text/plain": [
       "    book_id                      date_added                    date_updated  \\\n",
       "0   6392944  Mon Jul 24 02:48:17 -0700 2017  Sun Jul 30 09:28:03 -0700 2017   \n",
       "1   2279538  Wed Mar 29 00:27:14 -0700 2017  Wed Mar 29 00:27:14 -0700 2017   \n",
       "2  20821043  Mon Mar 27 22:52:11 -0700 2017  Mon Mar 27 22:52:12 -0700 2017   \n",
       "\n",
       "   is_read  rating                         read_at  \\\n",
       "0     True       3  Tue Jul 25 00:00:00 -0700 2017   \n",
       "1    False       0                             NaN   \n",
       "2    False       0                             NaN   \n",
       "\n",
       "                          review_id  \\\n",
       "0  5e212a62bced17b4dbe41150e5bb9037   \n",
       "1  556e9e3f00fb5b7e4eaa116764b771b0   \n",
       "2  4b15f8a08f04a17f9a47f2b76fec21e5   \n",
       "\n",
       "                              review_text_incomplete  \\\n",
       "0  I haven't read a fun mystery book in a while a...   \n",
       "1                                                NaN   \n",
       "2                                                NaN   \n",
       "\n",
       "                       started_at                           user_id  \n",
       "0  Mon Jul 24 00:00:00 -0700 2017  8842281e1d1347389f2ab93d60773d4d  \n",
       "1                             NaN  8842281e1d1347389f2ab93d60773d4d  \n",
       "2                             NaN  8842281e1d1347389f2ab93d60773d4d  "
      ]
     },
     "execution_count": 46,
     "metadata": {},
     "output_type": "execute_result"
    }
   ],
   "source": [
    "interactions_df = pd.read_csv('goodreads_interactions_mystery_thriller_crime.csv')\n",
    "print(interactions_df.shape)\n",
    "interactions_df.head(3)"
   ]
  },
  {
   "cell_type": "code",
   "execution_count": 8,
   "metadata": {},
   "outputs": [
    {
     "name": "stdout",
     "output_type": "stream",
     "text": [
      "(1849236, 11)\n"
     ]
    },
    {
     "data": {
      "text/html": [
       "<div>\n",
       "<style scoped>\n",
       "    .dataframe tbody tr th:only-of-type {\n",
       "        vertical-align: middle;\n",
       "    }\n",
       "\n",
       "    .dataframe tbody tr th {\n",
       "        vertical-align: top;\n",
       "    }\n",
       "\n",
       "    .dataframe thead th {\n",
       "        text-align: right;\n",
       "    }\n",
       "</style>\n",
       "<table border=\"1\" class=\"dataframe\">\n",
       "  <thead>\n",
       "    <tr style=\"text-align: right;\">\n",
       "      <th></th>\n",
       "      <th>book_id</th>\n",
       "      <th>date_added</th>\n",
       "      <th>date_updated</th>\n",
       "      <th>n_comments</th>\n",
       "      <th>n_votes</th>\n",
       "      <th>rating</th>\n",
       "      <th>read_at</th>\n",
       "      <th>review_id</th>\n",
       "      <th>review_text</th>\n",
       "      <th>started_at</th>\n",
       "      <th>user_id</th>\n",
       "    </tr>\n",
       "  </thead>\n",
       "  <tbody>\n",
       "    <tr>\n",
       "      <th>0</th>\n",
       "      <td>6392944</td>\n",
       "      <td>Mon Jul 24 02:48:17 -0700 2017</td>\n",
       "      <td>Sun Jul 30 09:28:03 -0700 2017</td>\n",
       "      <td>0</td>\n",
       "      <td>6</td>\n",
       "      <td>3</td>\n",
       "      <td>Tue Jul 25 00:00:00 -0700 2017</td>\n",
       "      <td>5e212a62bced17b4dbe41150e5bb9037</td>\n",
       "      <td>I haven't read a fun mystery book in a while a...</td>\n",
       "      <td>Mon Jul 24 00:00:00 -0700 2017</td>\n",
       "      <td>8842281e1d1347389f2ab93d60773d4d</td>\n",
       "    </tr>\n",
       "    <tr>\n",
       "      <th>1</th>\n",
       "      <td>28684704</td>\n",
       "      <td>Tue Nov 15 11:29:22 -0800 2016</td>\n",
       "      <td>Mon Mar 20 23:40:27 -0700 2017</td>\n",
       "      <td>0</td>\n",
       "      <td>22</td>\n",
       "      <td>3</td>\n",
       "      <td>Sat Mar 18 23:22:42 -0700 2017</td>\n",
       "      <td>2ede853b14dc4583f96cf5d120af636f</td>\n",
       "      <td>A fun, fast paced science fiction thriller. I ...</td>\n",
       "      <td>Fri Mar 17 23:45:40 -0700 2017</td>\n",
       "      <td>8842281e1d1347389f2ab93d60773d4d</td>\n",
       "    </tr>\n",
       "    <tr>\n",
       "      <th>2</th>\n",
       "      <td>32283133</td>\n",
       "      <td>Tue Nov 01 11:09:18 -0700 2016</td>\n",
       "      <td>Tue Nov 01 11:09:44 -0700 2016</td>\n",
       "      <td>0</td>\n",
       "      <td>9</td>\n",
       "      <td>0</td>\n",
       "      <td>NaN</td>\n",
       "      <td>8e4d61801907e591018bdc3442a9cf2b</td>\n",
       "      <td>http://www.telegraph.co.uk/culture/10...</td>\n",
       "      <td>NaN</td>\n",
       "      <td>8842281e1d1347389f2ab93d60773d4d</td>\n",
       "    </tr>\n",
       "  </tbody>\n",
       "</table>\n",
       "</div>"
      ],
      "text/plain": [
       "    book_id                      date_added                    date_updated  \\\n",
       "0   6392944  Mon Jul 24 02:48:17 -0700 2017  Sun Jul 30 09:28:03 -0700 2017   \n",
       "1  28684704  Tue Nov 15 11:29:22 -0800 2016  Mon Mar 20 23:40:27 -0700 2017   \n",
       "2  32283133  Tue Nov 01 11:09:18 -0700 2016  Tue Nov 01 11:09:44 -0700 2016   \n",
       "\n",
       "   n_comments  n_votes  rating                         read_at  \\\n",
       "0           0        6       3  Tue Jul 25 00:00:00 -0700 2017   \n",
       "1           0       22       3  Sat Mar 18 23:22:42 -0700 2017   \n",
       "2           0        9       0                             NaN   \n",
       "\n",
       "                          review_id  \\\n",
       "0  5e212a62bced17b4dbe41150e5bb9037   \n",
       "1  2ede853b14dc4583f96cf5d120af636f   \n",
       "2  8e4d61801907e591018bdc3442a9cf2b   \n",
       "\n",
       "                                         review_text  \\\n",
       "0  I haven't read a fun mystery book in a while a...   \n",
       "1  A fun, fast paced science fiction thriller. I ...   \n",
       "2           http://www.telegraph.co.uk/culture/10...   \n",
       "\n",
       "                       started_at                           user_id  \n",
       "0  Mon Jul 24 00:00:00 -0700 2017  8842281e1d1347389f2ab93d60773d4d  \n",
       "1  Fri Mar 17 23:45:40 -0700 2017  8842281e1d1347389f2ab93d60773d4d  \n",
       "2                             NaN  8842281e1d1347389f2ab93d60773d4d  "
      ]
     },
     "execution_count": 8,
     "metadata": {},
     "output_type": "execute_result"
    }
   ],
   "source": [
    "reviews_df = pd.read_csv('goodreads_reviews_mystery_thriller_crime.csv')\n",
    "print(reviews_df.shape)\n",
    "reviews_df.head(3)"
   ]
  },
  {
   "cell_type": "markdown",
   "metadata": {},
   "source": [
    "### Data Exploration"
   ]
  },
  {
   "cell_type": "code",
   "execution_count": 9,
   "metadata": {},
   "outputs": [
    {
     "data": {
      "text/html": [
       "<div>\n",
       "<style scoped>\n",
       "    .dataframe tbody tr th:only-of-type {\n",
       "        vertical-align: middle;\n",
       "    }\n",
       "\n",
       "    .dataframe tbody tr th {\n",
       "        vertical-align: top;\n",
       "    }\n",
       "\n",
       "    .dataframe thead th {\n",
       "        text-align: right;\n",
       "    }\n",
       "</style>\n",
       "<table border=\"1\" class=\"dataframe\">\n",
       "  <thead>\n",
       "    <tr style=\"text-align: right;\">\n",
       "      <th></th>\n",
       "      <th>book_id</th>\n",
       "      <th>author_id</th>\n",
       "      <th>average_rating</th>\n",
       "      <th>num_pages</th>\n",
       "      <th>description</th>\n",
       "      <th>similar_books</th>\n",
       "      <th>title</th>\n",
       "    </tr>\n",
       "  </thead>\n",
       "  <tbody>\n",
       "    <tr>\n",
       "      <th>67177</th>\n",
       "      <td>12961994</td>\n",
       "      <td>33031</td>\n",
       "      <td>3.97</td>\n",
       "      <td>372.0</td>\n",
       "      <td>A major inquiry into a neighboring police forc...</td>\n",
       "      <td>'8216274', '6353455', '11156902', '7593288', '...</td>\n",
       "      <td>The Impossible Dead</td>\n",
       "    </tr>\n",
       "    <tr>\n",
       "      <th>4156</th>\n",
       "      <td>2199212</td>\n",
       "      <td>3324</td>\n",
       "      <td>2.61</td>\n",
       "      <td>213.0</td>\n",
       "      <td>NaN</td>\n",
       "      <td></td>\n",
       "      <td>Ciudadano Max...</td>\n",
       "    </tr>\n",
       "    <tr>\n",
       "      <th>198435</th>\n",
       "      <td>24123354</td>\n",
       "      <td>4624490</td>\n",
       "      <td>3.76</td>\n",
       "      <td>NaN</td>\n",
       "      <td>Suspense, fear and the supernatural provide th...</td>\n",
       "      <td>'8579173', '1872567', '6397619', '6597221', '1...</td>\n",
       "      <td>The Facts In The Case Of M. Valdemar: Short Story</td>\n",
       "    </tr>\n",
       "    <tr>\n",
       "      <th>41922</th>\n",
       "      <td>17331773</td>\n",
       "      <td>604905</td>\n",
       "      <td>4.23</td>\n",
       "      <td>332.0</td>\n",
       "      <td>Joe and Kabe must lay the ghosts of the past a...</td>\n",
       "      <td>'15706627', '5958281', '18333332', '17569268',...</td>\n",
       "      <td>Laying Ghosts (Deputy Joe, #3)</td>\n",
       "    </tr>\n",
       "    <tr>\n",
       "      <th>4062</th>\n",
       "      <td>17794984</td>\n",
       "      <td>328707</td>\n",
       "      <td>3.82</td>\n",
       "      <td>464.0</td>\n",
       "      <td>From the author of the breakthrough crime debu...</td>\n",
       "      <td>'15799052', '16087137', '13643038', '17447624'...</td>\n",
       "      <td>Original Skin (Aector McAvoy, #2)</td>\n",
       "    </tr>\n",
       "  </tbody>\n",
       "</table>\n",
       "</div>"
      ],
      "text/plain": [
       "         book_id author_id  average_rating  num_pages  \\\n",
       "67177   12961994     33031            3.97      372.0   \n",
       "4156     2199212      3324            2.61      213.0   \n",
       "198435  24123354   4624490            3.76        NaN   \n",
       "41922   17331773    604905            4.23      332.0   \n",
       "4062    17794984    328707            3.82      464.0   \n",
       "\n",
       "                                              description  \\\n",
       "67177   A major inquiry into a neighboring police forc...   \n",
       "4156                                                  NaN   \n",
       "198435  Suspense, fear and the supernatural provide th...   \n",
       "41922   Joe and Kabe must lay the ghosts of the past a...   \n",
       "4062    From the author of the breakthrough crime debu...   \n",
       "\n",
       "                                            similar_books  \\\n",
       "67177   '8216274', '6353455', '11156902', '7593288', '...   \n",
       "4156                                                        \n",
       "198435  '8579173', '1872567', '6397619', '6597221', '1...   \n",
       "41922   '15706627', '5958281', '18333332', '17569268',...   \n",
       "4062    '15799052', '16087137', '13643038', '17447624'...   \n",
       "\n",
       "                                                    title  \n",
       "67177                                 The Impossible Dead  \n",
       "4156                                     Ciudadano Max...  \n",
       "198435  The Facts In The Case Of M. Valdemar: Short Story  \n",
       "41922                      Laying Ghosts (Deputy Joe, #3)  \n",
       "4062                    Original Skin (Aector McAvoy, #2)  "
      ]
     },
     "execution_count": 9,
     "metadata": {},
     "output_type": "execute_result"
    }
   ],
   "source": [
    "books = books_df[['book_id', 'author_id', 'average_rating', 'num_pages', 'description', 'similar_books', 'title']]\n",
    "books.sample(5)"
   ]
  },
  {
   "cell_type": "code",
   "execution_count": 10,
   "metadata": {},
   "outputs": [
    {
     "data": {
      "text/html": [
       "<div>\n",
       "<style scoped>\n",
       "    .dataframe tbody tr th:only-of-type {\n",
       "        vertical-align: middle;\n",
       "    }\n",
       "\n",
       "    .dataframe tbody tr th {\n",
       "        vertical-align: top;\n",
       "    }\n",
       "\n",
       "    .dataframe thead th {\n",
       "        text-align: right;\n",
       "    }\n",
       "</style>\n",
       "<table border=\"1\" class=\"dataframe\">\n",
       "  <thead>\n",
       "    <tr style=\"text-align: right;\">\n",
       "      <th></th>\n",
       "      <th>book_id</th>\n",
       "      <th>average_rating</th>\n",
       "      <th>num_pages</th>\n",
       "    </tr>\n",
       "  </thead>\n",
       "  <tbody>\n",
       "    <tr>\n",
       "      <th>count</th>\n",
       "      <td>2.192350e+05</td>\n",
       "      <td>219235.000000</td>\n",
       "      <td>149407.000000</td>\n",
       "    </tr>\n",
       "    <tr>\n",
       "      <th>mean</th>\n",
       "      <td>1.517214e+07</td>\n",
       "      <td>3.831517</td>\n",
       "      <td>317.769984</td>\n",
       "    </tr>\n",
       "    <tr>\n",
       "      <th>std</th>\n",
       "      <td>1.057262e+07</td>\n",
       "      <td>0.332023</td>\n",
       "      <td>224.919711</td>\n",
       "    </tr>\n",
       "    <tr>\n",
       "      <th>min</th>\n",
       "      <td>1.640000e+02</td>\n",
       "      <td>0.000000</td>\n",
       "      <td>0.000000</td>\n",
       "    </tr>\n",
       "    <tr>\n",
       "      <th>25%</th>\n",
       "      <td>6.339338e+06</td>\n",
       "      <td>3.650000</td>\n",
       "      <td>236.000000</td>\n",
       "    </tr>\n",
       "    <tr>\n",
       "      <th>50%</th>\n",
       "      <td>1.573438e+07</td>\n",
       "      <td>3.850000</td>\n",
       "      <td>313.000000</td>\n",
       "    </tr>\n",
       "    <tr>\n",
       "      <th>75%</th>\n",
       "      <td>2.360379e+07</td>\n",
       "      <td>4.040000</td>\n",
       "      <td>391.000000</td>\n",
       "    </tr>\n",
       "    <tr>\n",
       "      <th>max</th>\n",
       "      <td>3.651716e+07</td>\n",
       "      <td>5.000000</td>\n",
       "      <td>52015.000000</td>\n",
       "    </tr>\n",
       "  </tbody>\n",
       "</table>\n",
       "</div>"
      ],
      "text/plain": [
       "            book_id  average_rating      num_pages\n",
       "count  2.192350e+05   219235.000000  149407.000000\n",
       "mean   1.517214e+07        3.831517     317.769984\n",
       "std    1.057262e+07        0.332023     224.919711\n",
       "min    1.640000e+02        0.000000       0.000000\n",
       "25%    6.339338e+06        3.650000     236.000000\n",
       "50%    1.573438e+07        3.850000     313.000000\n",
       "75%    2.360379e+07        4.040000     391.000000\n",
       "max    3.651716e+07        5.000000   52015.000000"
      ]
     },
     "execution_count": 10,
     "metadata": {},
     "output_type": "execute_result"
    }
   ],
   "source": [
    "books.describe()"
   ]
  },
  {
   "cell_type": "code",
   "execution_count": 11,
   "metadata": {},
   "outputs": [
    {
     "name": "stdout",
     "output_type": "stream",
     "text": [
      "<class 'pandas.core.frame.DataFrame'>\n",
      "RangeIndex: 219235 entries, 0 to 219234\n",
      "Data columns (total 7 columns):\n",
      " #   Column          Non-Null Count   Dtype  \n",
      "---  ------          --------------   -----  \n",
      " 0   book_id         219235 non-null  int64  \n",
      " 1   author_id       219235 non-null  object \n",
      " 2   average_rating  219235 non-null  float64\n",
      " 3   num_pages       149407 non-null  float64\n",
      " 4   description     198488 non-null  object \n",
      " 5   similar_books   219235 non-null  object \n",
      " 6   title           219235 non-null  object \n",
      "dtypes: float64(2), int64(1), object(4)\n",
      "memory usage: 11.7+ MB\n"
     ]
    }
   ],
   "source": [
    "books.info()"
   ]
  },
  {
   "cell_type": "code",
   "execution_count": 12,
   "metadata": {},
   "outputs": [
    {
     "data": {
      "text/plain": [
       "book_id               0\n",
       "author_id             0\n",
       "average_rating        0\n",
       "num_pages         69828\n",
       "description       20747\n",
       "similar_books         0\n",
       "title                 0\n",
       "dtype: int64"
      ]
     },
     "execution_count": 12,
     "metadata": {},
     "output_type": "execute_result"
    }
   ],
   "source": [
    "books.isnull().sum(axis=0)"
   ]
  },
  {
   "cell_type": "code",
   "execution_count": 13,
   "metadata": {},
   "outputs": [
    {
     "name": "stdout",
     "output_type": "stream",
     "text": [
      "Number of books:  219235\n",
      "Number of authors:  31761\n"
     ]
    }
   ],
   "source": [
    "print(\"Number of books: \", books.book_id.nunique())\n",
    "print(\"Number of authors: \", books.author_id.nunique())"
   ]
  },
  {
   "cell_type": "code",
   "execution_count": 14,
   "metadata": {},
   "outputs": [
    {
     "data": {
      "text/html": [
       "<div>\n",
       "<style scoped>\n",
       "    .dataframe tbody tr th:only-of-type {\n",
       "        vertical-align: middle;\n",
       "    }\n",
       "\n",
       "    .dataframe tbody tr th {\n",
       "        vertical-align: top;\n",
       "    }\n",
       "\n",
       "    .dataframe thead th {\n",
       "        text-align: right;\n",
       "    }\n",
       "</style>\n",
       "<table border=\"1\" class=\"dataframe\">\n",
       "  <thead>\n",
       "    <tr style=\"text-align: right;\">\n",
       "      <th></th>\n",
       "      <th>book_id</th>\n",
       "      <th>user_id</th>\n",
       "      <th>rating</th>\n",
       "      <th>is_read</th>\n",
       "      <th>read_at</th>\n",
       "    </tr>\n",
       "  </thead>\n",
       "  <tbody>\n",
       "    <tr>\n",
       "      <th>22478984</th>\n",
       "      <td>13158512</td>\n",
       "      <td>e988954248ff709d7738df7cd9d5b101</td>\n",
       "      <td>0</td>\n",
       "      <td>False</td>\n",
       "      <td>NaN</td>\n",
       "    </tr>\n",
       "    <tr>\n",
       "      <th>7728586</th>\n",
       "      <td>17857787</td>\n",
       "      <td>8684cc5b9aa70a53538e3d50a7b9188d</td>\n",
       "      <td>0</td>\n",
       "      <td>False</td>\n",
       "      <td>NaN</td>\n",
       "    </tr>\n",
       "    <tr>\n",
       "      <th>10510478</th>\n",
       "      <td>12617919</td>\n",
       "      <td>2730b44ffa3ba287337765f61685c201</td>\n",
       "      <td>2</td>\n",
       "      <td>True</td>\n",
       "      <td>NaN</td>\n",
       "    </tr>\n",
       "    <tr>\n",
       "      <th>14004239</th>\n",
       "      <td>16071701</td>\n",
       "      <td>74c6ed6ff0591046fdc0349c70c51d86</td>\n",
       "      <td>0</td>\n",
       "      <td>False</td>\n",
       "      <td>NaN</td>\n",
       "    </tr>\n",
       "    <tr>\n",
       "      <th>22894982</th>\n",
       "      <td>278797</td>\n",
       "      <td>cf446069728321b3ac00ad45676f5698</td>\n",
       "      <td>2</td>\n",
       "      <td>True</td>\n",
       "      <td>Mon Feb 17 04:38:34 -0800 2014</td>\n",
       "    </tr>\n",
       "  </tbody>\n",
       "</table>\n",
       "</div>"
      ],
      "text/plain": [
       "           book_id                           user_id  rating  is_read  \\\n",
       "22478984  13158512  e988954248ff709d7738df7cd9d5b101       0    False   \n",
       "7728586   17857787  8684cc5b9aa70a53538e3d50a7b9188d       0    False   \n",
       "10510478  12617919  2730b44ffa3ba287337765f61685c201       2     True   \n",
       "14004239  16071701  74c6ed6ff0591046fdc0349c70c51d86       0    False   \n",
       "22894982    278797  cf446069728321b3ac00ad45676f5698       2     True   \n",
       "\n",
       "                                 read_at  \n",
       "22478984                             NaN  \n",
       "7728586                              NaN  \n",
       "10510478                             NaN  \n",
       "14004239                             NaN  \n",
       "22894982  Mon Feb 17 04:38:34 -0800 2014  "
      ]
     },
     "execution_count": 14,
     "metadata": {},
     "output_type": "execute_result"
    }
   ],
   "source": [
    "interactions = interactions_df[['book_id', 'user_id', 'rating', 'is_read', 'read_at']]\n",
    "interactions.sample(5)"
   ]
  },
  {
   "cell_type": "code",
   "execution_count": 15,
   "metadata": {},
   "outputs": [
    {
     "data": {
      "text/html": [
       "<div>\n",
       "<style scoped>\n",
       "    .dataframe tbody tr th:only-of-type {\n",
       "        vertical-align: middle;\n",
       "    }\n",
       "\n",
       "    .dataframe tbody tr th {\n",
       "        vertical-align: top;\n",
       "    }\n",
       "\n",
       "    .dataframe thead th {\n",
       "        text-align: right;\n",
       "    }\n",
       "</style>\n",
       "<table border=\"1\" class=\"dataframe\">\n",
       "  <thead>\n",
       "    <tr style=\"text-align: right;\">\n",
       "      <th></th>\n",
       "      <th>book_id</th>\n",
       "      <th>rating</th>\n",
       "    </tr>\n",
       "  </thead>\n",
       "  <tbody>\n",
       "    <tr>\n",
       "      <th>count</th>\n",
       "      <td>2.479990e+07</td>\n",
       "      <td>2.479990e+07</td>\n",
       "    </tr>\n",
       "    <tr>\n",
       "      <th>mean</th>\n",
       "      <td>1.075371e+07</td>\n",
       "      <td>1.819287e+00</td>\n",
       "    </tr>\n",
       "    <tr>\n",
       "      <th>std</th>\n",
       "      <td>1.081314e+07</td>\n",
       "      <td>2.029919e+00</td>\n",
       "    </tr>\n",
       "    <tr>\n",
       "      <th>min</th>\n",
       "      <td>1.640000e+02</td>\n",
       "      <td>0.000000e+00</td>\n",
       "    </tr>\n",
       "    <tr>\n",
       "      <th>25%</th>\n",
       "      <td>2.245200e+05</td>\n",
       "      <td>0.000000e+00</td>\n",
       "    </tr>\n",
       "    <tr>\n",
       "      <th>50%</th>\n",
       "      <td>7.738919e+06</td>\n",
       "      <td>0.000000e+00</td>\n",
       "    </tr>\n",
       "    <tr>\n",
       "      <th>75%</th>\n",
       "      <td>1.915523e+07</td>\n",
       "      <td>4.000000e+00</td>\n",
       "    </tr>\n",
       "    <tr>\n",
       "      <th>max</th>\n",
       "      <td>3.649690e+07</td>\n",
       "      <td>5.000000e+00</td>\n",
       "    </tr>\n",
       "  </tbody>\n",
       "</table>\n",
       "</div>"
      ],
      "text/plain": [
       "            book_id        rating\n",
       "count  2.479990e+07  2.479990e+07\n",
       "mean   1.075371e+07  1.819287e+00\n",
       "std    1.081314e+07  2.029919e+00\n",
       "min    1.640000e+02  0.000000e+00\n",
       "25%    2.245200e+05  0.000000e+00\n",
       "50%    7.738919e+06  0.000000e+00\n",
       "75%    1.915523e+07  4.000000e+00\n",
       "max    3.649690e+07  5.000000e+00"
      ]
     },
     "execution_count": 15,
     "metadata": {},
     "output_type": "execute_result"
    }
   ],
   "source": [
    "interactions.describe()"
   ]
  },
  {
   "cell_type": "code",
   "execution_count": 16,
   "metadata": {},
   "outputs": [
    {
     "name": "stdout",
     "output_type": "stream",
     "text": [
      "<class 'pandas.core.frame.DataFrame'>\n",
      "RangeIndex: 24799896 entries, 0 to 24799895\n",
      "Data columns (total 5 columns):\n",
      " #   Column   Dtype \n",
      "---  ------   ----- \n",
      " 0   book_id  int64 \n",
      " 1   user_id  object\n",
      " 2   rating   int64 \n",
      " 3   is_read  bool  \n",
      " 4   read_at  object\n",
      "dtypes: bool(1), int64(2), object(2)\n",
      "memory usage: 780.5+ MB\n"
     ]
    }
   ],
   "source": [
    "interactions.info()"
   ]
  },
  {
   "cell_type": "code",
   "execution_count": 17,
   "metadata": {},
   "outputs": [
    {
     "data": {
      "text/plain": [
       "book_id           0\n",
       "user_id           0\n",
       "rating            0\n",
       "is_read           0\n",
       "read_at    19230769\n",
       "dtype: int64"
      ]
     },
     "execution_count": 17,
     "metadata": {},
     "output_type": "execute_result"
    }
   ],
   "source": [
    "interactions.isnull().sum(axis=0)"
   ]
  },
  {
   "cell_type": "code",
   "execution_count": 18,
   "metadata": {},
   "outputs": [
    {
     "name": "stdout",
     "output_type": "stream",
     "text": [
      "Number of books:  219234\n",
      "Number of users:  676075\n"
     ]
    }
   ],
   "source": [
    "print(\"Number of books: \", interactions.book_id.nunique())\n",
    "print(\"Number of users: \", interactions.user_id.nunique())"
   ]
  },
  {
   "cell_type": "code",
   "execution_count": 19,
   "metadata": {},
   "outputs": [
    {
     "data": {
      "text/html": [
       "<div>\n",
       "<style scoped>\n",
       "    .dataframe tbody tr th:only-of-type {\n",
       "        vertical-align: middle;\n",
       "    }\n",
       "\n",
       "    .dataframe tbody tr th {\n",
       "        vertical-align: top;\n",
       "    }\n",
       "\n",
       "    .dataframe thead th {\n",
       "        text-align: right;\n",
       "    }\n",
       "</style>\n",
       "<table border=\"1\" class=\"dataframe\">\n",
       "  <thead>\n",
       "    <tr style=\"text-align: right;\">\n",
       "      <th></th>\n",
       "      <th>book_id</th>\n",
       "      <th>user_id</th>\n",
       "      <th>rating</th>\n",
       "      <th>read_at</th>\n",
       "      <th>review_text</th>\n",
       "    </tr>\n",
       "  </thead>\n",
       "  <tbody>\n",
       "    <tr>\n",
       "      <th>895693</th>\n",
       "      <td>23341578</td>\n",
       "      <td>de174d106b15f55a971d15d7a868079c</td>\n",
       "      <td>1</td>\n",
       "      <td>NaN</td>\n",
       "      <td>WORST BOOK EVER \\n I tried to read this book a...</td>\n",
       "    </tr>\n",
       "    <tr>\n",
       "      <th>1581944</th>\n",
       "      <td>26109394</td>\n",
       "      <td>a144a0f846ea427df454278c29dd4559</td>\n",
       "      <td>3</td>\n",
       "      <td>Mon May 09 00:00:00 -0700 2016</td>\n",
       "      <td>2.5 stars. \\n i love coben's shocking twists. ...</td>\n",
       "    </tr>\n",
       "    <tr>\n",
       "      <th>1413040</th>\n",
       "      <td>28815474</td>\n",
       "      <td>5aaf176f1255693bddebe40dd10150d6</td>\n",
       "      <td>2</td>\n",
       "      <td>Mon Jan 09 00:00:00 -0800 2017</td>\n",
       "      <td>Oh, the writing. When an author uses the main ...</td>\n",
       "    </tr>\n",
       "    <tr>\n",
       "      <th>234806</th>\n",
       "      <td>29405838</td>\n",
       "      <td>6e48e90b27a0b444115db789af09c899</td>\n",
       "      <td>3</td>\n",
       "      <td>Sun Mar 27 20:45:11 -0700 2016</td>\n",
       "      <td>A fair read \\n A little new,a lot old as far a...</td>\n",
       "    </tr>\n",
       "    <tr>\n",
       "      <th>47844</th>\n",
       "      <td>22171558</td>\n",
       "      <td>49a744b185c182d4840c7feeaefbea6f</td>\n",
       "      <td>2</td>\n",
       "      <td>NaN</td>\n",
       "      <td>Got a little irritated with the characters/pac...</td>\n",
       "    </tr>\n",
       "  </tbody>\n",
       "</table>\n",
       "</div>"
      ],
      "text/plain": [
       "          book_id                           user_id  rating  \\\n",
       "895693   23341578  de174d106b15f55a971d15d7a868079c       1   \n",
       "1581944  26109394  a144a0f846ea427df454278c29dd4559       3   \n",
       "1413040  28815474  5aaf176f1255693bddebe40dd10150d6       2   \n",
       "234806   29405838  6e48e90b27a0b444115db789af09c899       3   \n",
       "47844    22171558  49a744b185c182d4840c7feeaefbea6f       2   \n",
       "\n",
       "                                read_at  \\\n",
       "895693                              NaN   \n",
       "1581944  Mon May 09 00:00:00 -0700 2016   \n",
       "1413040  Mon Jan 09 00:00:00 -0800 2017   \n",
       "234806   Sun Mar 27 20:45:11 -0700 2016   \n",
       "47844                               NaN   \n",
       "\n",
       "                                               review_text  \n",
       "895693   WORST BOOK EVER \\n I tried to read this book a...  \n",
       "1581944  2.5 stars. \\n i love coben's shocking twists. ...  \n",
       "1413040  Oh, the writing. When an author uses the main ...  \n",
       "234806   A fair read \\n A little new,a lot old as far a...  \n",
       "47844    Got a little irritated with the characters/pac...  "
      ]
     },
     "execution_count": 19,
     "metadata": {},
     "output_type": "execute_result"
    }
   ],
   "source": [
    "reviews = reviews_df[['book_id', 'user_id', 'rating', 'read_at', 'review_text']]\n",
    "reviews.sample(5)"
   ]
  },
  {
   "cell_type": "code",
   "execution_count": 20,
   "metadata": {},
   "outputs": [
    {
     "data": {
      "text/html": [
       "<div>\n",
       "<style scoped>\n",
       "    .dataframe tbody tr th:only-of-type {\n",
       "        vertical-align: middle;\n",
       "    }\n",
       "\n",
       "    .dataframe tbody tr th {\n",
       "        vertical-align: top;\n",
       "    }\n",
       "\n",
       "    .dataframe thead th {\n",
       "        text-align: right;\n",
       "    }\n",
       "</style>\n",
       "<table border=\"1\" class=\"dataframe\">\n",
       "  <thead>\n",
       "    <tr style=\"text-align: right;\">\n",
       "      <th></th>\n",
       "      <th>book_id</th>\n",
       "      <th>rating</th>\n",
       "    </tr>\n",
       "  </thead>\n",
       "  <tbody>\n",
       "    <tr>\n",
       "      <th>count</th>\n",
       "      <td>1.849236e+06</td>\n",
       "      <td>1.849236e+06</td>\n",
       "    </tr>\n",
       "    <tr>\n",
       "      <th>mean</th>\n",
       "      <td>1.335371e+07</td>\n",
       "      <td>3.683981e+00</td>\n",
       "    </tr>\n",
       "    <tr>\n",
       "      <th>std</th>\n",
       "      <td>1.063012e+07</td>\n",
       "      <td>1.208838e+00</td>\n",
       "    </tr>\n",
       "    <tr>\n",
       "      <th>min</th>\n",
       "      <td>1.640000e+02</td>\n",
       "      <td>0.000000e+00</td>\n",
       "    </tr>\n",
       "    <tr>\n",
       "      <th>25%</th>\n",
       "      <td>1.914973e+06</td>\n",
       "      <td>3.000000e+00</td>\n",
       "    </tr>\n",
       "    <tr>\n",
       "      <th>50%</th>\n",
       "      <td>1.309420e+07</td>\n",
       "      <td>4.000000e+00</td>\n",
       "    </tr>\n",
       "    <tr>\n",
       "      <th>75%</th>\n",
       "      <td>2.255727e+07</td>\n",
       "      <td>5.000000e+00</td>\n",
       "    </tr>\n",
       "    <tr>\n",
       "      <th>max</th>\n",
       "      <td>3.649690e+07</td>\n",
       "      <td>5.000000e+00</td>\n",
       "    </tr>\n",
       "  </tbody>\n",
       "</table>\n",
       "</div>"
      ],
      "text/plain": [
       "            book_id        rating\n",
       "count  1.849236e+06  1.849236e+06\n",
       "mean   1.335371e+07  3.683981e+00\n",
       "std    1.063012e+07  1.208838e+00\n",
       "min    1.640000e+02  0.000000e+00\n",
       "25%    1.914973e+06  3.000000e+00\n",
       "50%    1.309420e+07  4.000000e+00\n",
       "75%    2.255727e+07  5.000000e+00\n",
       "max    3.649690e+07  5.000000e+00"
      ]
     },
     "execution_count": 20,
     "metadata": {},
     "output_type": "execute_result"
    }
   ],
   "source": [
    "reviews.describe()"
   ]
  },
  {
   "cell_type": "code",
   "execution_count": 21,
   "metadata": {},
   "outputs": [
    {
     "name": "stdout",
     "output_type": "stream",
     "text": [
      "<class 'pandas.core.frame.DataFrame'>\n",
      "RangeIndex: 1849236 entries, 0 to 1849235\n",
      "Data columns (total 5 columns):\n",
      " #   Column       Dtype \n",
      "---  ------       ----- \n",
      " 0   book_id      int64 \n",
      " 1   user_id      object\n",
      " 2   rating       int64 \n",
      " 3   read_at      object\n",
      " 4   review_text  object\n",
      "dtypes: int64(2), object(3)\n",
      "memory usage: 70.5+ MB\n"
     ]
    }
   ],
   "source": [
    "reviews.info()"
   ]
  },
  {
   "cell_type": "code",
   "execution_count": 22,
   "metadata": {},
   "outputs": [
    {
     "data": {
      "text/plain": [
       "book_id             0\n",
       "user_id             0\n",
       "rating              0\n",
       "read_at        281802\n",
       "review_text       426\n",
       "dtype: int64"
      ]
     },
     "execution_count": 22,
     "metadata": {},
     "output_type": "execute_result"
    }
   ],
   "source": [
    "reviews.isnull().sum(axis=0)"
   ]
  },
  {
   "cell_type": "code",
   "execution_count": 23,
   "metadata": {},
   "outputs": [
    {
     "name": "stdout",
     "output_type": "stream",
     "text": [
      "Number of books:  218987\n",
      "Number of users:  203655\n"
     ]
    }
   ],
   "source": [
    "print(\"Number of books: \", reviews.book_id.nunique())\n",
    "print(\"Number of users: \", reviews.user_id.nunique())"
   ]
  },
  {
   "cell_type": "markdown",
   "metadata": {},
   "source": [
    "### Data Visualization"
   ]
  },
  {
   "cell_type": "code",
   "execution_count": 40,
   "metadata": {},
   "outputs": [],
   "source": [
    "import matplotlib as mpl\n",
    "import matplotlib.pyplot as plt\n",
    "%matplotlib inline\n",
    "\n",
    "import seaborn as sns"
   ]
  },
  {
   "cell_type": "code",
   "execution_count": 61,
   "metadata": {},
   "outputs": [
    {
     "data": {
      "image/png": "[encoded data removed]",
      "text/plain": [
       "<Figure size 1440x1080 with 1 Axes>"
      ]
     },
     "metadata": {
      "needs_background": "light"
     },
     "output_type": "display_data"
    }
   ],
   "source": [
    "#Plotting Most Occuring Books\n",
    "sns.set_context('poster')\n",
    "plt.figure(figsize=(20,15))\n",
    "top_books = books_df['title'].value_counts()[:20]\n",
    "sns.barplot(x = top_books, y = top_books.index, palette='deep')\n",
    "plt.title(\"Most Occurring Books\")\n",
    "plt.xlabel(\"Number of occurences\")\n",
    "plt.ylabel(\"Books\")\n",
    "plt.show()"
   ]
  },
  {
   "cell_type": "code",
   "execution_count": 62,
   "metadata": {},
   "outputs": [
    {
     "data": {
      "image/png": "[encoded data removed]",
      "text/plain": [
       "<Figure size 1080x720 with 1 Axes>"
      ]
     },
     "metadata": {
      "needs_background": "light"
     },
     "output_type": "display_data"
    }
   ],
   "source": [
    "#Plotting Most Occuring Languages\n",
    "sns.set_context('poster')\n",
    "plt.figure(figsize=(15,10))\n",
    "top_lang = books_df['language_code'].value_counts()[:20]\n",
    "sns.barplot(x = top_lang, y = top_lang.index, palette='deep')\n",
    "plt.title(\"Most Occuring Language\")\n",
    "plt.xlabel(\"Number of occurences\")\n",
    "plt.ylabel(\"Books\")\n",
    "plt.show()"
   ]
  },
  {
   "cell_type": "code",
   "execution_count": 92,
   "metadata": {},
   "outputs": [],
   "source": [
    "sorted_books = books_df.sort_values(by='ratings_count', ascending=False).reset_index()"
   ]
  },
  {
   "cell_type": "code",
   "execution_count": 94,
   "metadata": {},
   "outputs": [
    {
     "data": {
      "image/png": "[encoded data removed]",
      "text/plain": [
       "<Figure size 1080x720 with 1 Axes>"
      ]
     },
     "metadata": {
      "needs_background": "light"
     },
     "output_type": "display_data"
    }
   ],
   "source": [
    "#Plotting Most Rated Books\n",
    "sns.set_context('poster')\n",
    "plt.figure(figsize=(15,10))\n",
    "sns.barplot(x = list(sorted_books['ratings_count'][:20]), y = list(sorted_books['title'][:20]), palette='deep')\n",
    "plt.title(\"Most Rated Books\")\n",
    "plt.ylabel(\"Books\")\n",
    "plt.xlabel(\"No. of Ratings\")\n",
    "plt.show()"
   ]
  },
  {
   "cell_type": "code",
   "execution_count": null,
   "metadata": {},
   "outputs": [],
   "source": []
  }
 ],
 "metadata": {
  "kernelspec": {
   "display_name": "Python 3",
   "language": "python",
   "name": "python3"
  },
  "language_info": {
   "codemirror_mode": {
    "name": "ipython",
    "version": 3
   },
   "file_extension": ".py",
   "mimetype": "text/x-python",
   "name": "python",
   "nbconvert_exporter": "python",
   "pygments_lexer": "ipython3",
   "version": "3.7.0"
  }
 },
 "nbformat": 4,
 "nbformat_minor": 2
}
