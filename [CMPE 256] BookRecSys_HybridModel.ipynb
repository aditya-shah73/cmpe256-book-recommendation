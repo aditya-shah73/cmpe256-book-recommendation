{
 "cells": [
  {
   "cell_type": "markdown",
   "metadata": {},
   "source": [
    "# Hybrid Recommender system\n",
    "## Books for mystery, thriller, and crime\n",
    "https://sites.google.com/eng.ucsd.edu/ucsdbookgraph/home"
   ]
  },
  {
   "cell_type": "code",
   "execution_count": 1,
   "metadata": {},
   "outputs": [],
   "source": [
    "import sys\n",
    "import warnings\n",
    "\n",
    "if not sys.warnoptions:\n",
    "    warnings.simplefilter(\"ignore\")\n",
    "\n",
    "import pandas as pd\n",
    "import numpy as np"
   ]
  },
  {
   "cell_type": "code",
   "execution_count": 2,
   "metadata": {},
   "outputs": [],
   "source": [
    "import matplotlib as mpl\n",
    "import matplotlib.pyplot as plt\n",
    "%matplotlib inline\n",
    "\n",
    "import seaborn as sns"
   ]
  },
  {
   "cell_type": "code",
   "execution_count": 3,
   "metadata": {},
   "outputs": [
    {
     "data": {
      "text/html": [
       "<div>\n",
       "<style scoped>\n",
       "    .dataframe tbody tr th:only-of-type {\n",
       "        vertical-align: middle;\n",
       "    }\n",
       "\n",
       "    .dataframe tbody tr th {\n",
       "        vertical-align: top;\n",
       "    }\n",
       "\n",
       "    .dataframe thead th {\n",
       "        text-align: right;\n",
       "    }\n",
       "</style>\n",
       "<table border=\"1\" class=\"dataframe\">\n",
       "  <thead>\n",
       "    <tr style=\"text-align: right;\">\n",
       "      <th></th>\n",
       "      <th>Unnamed: 0</th>\n",
       "      <th>user_id</th>\n",
       "      <th>book_id</th>\n",
       "      <th>rating</th>\n",
       "    </tr>\n",
       "  </thead>\n",
       "  <tbody>\n",
       "    <tr>\n",
       "      <th>0</th>\n",
       "      <td>1360809</td>\n",
       "      <td>ed6f2fb87ff0c0765f222ed6420880a8</td>\n",
       "      <td>14781501</td>\n",
       "      <td>4</td>\n",
       "    </tr>\n",
       "    <tr>\n",
       "      <th>1</th>\n",
       "      <td>345979</td>\n",
       "      <td>3ee7b230aa769fa9117dfdfd30ea7d3c</td>\n",
       "      <td>32073180</td>\n",
       "      <td>4</td>\n",
       "    </tr>\n",
       "    <tr>\n",
       "      <th>2</th>\n",
       "      <td>886733</td>\n",
       "      <td>b4003ff80c6ef3d78fe1235fe6699909</td>\n",
       "      <td>438247</td>\n",
       "      <td>3</td>\n",
       "    </tr>\n",
       "    <tr>\n",
       "      <th>3</th>\n",
       "      <td>210164</td>\n",
       "      <td>ea2448eccbd13518d3e059c651a38f47</td>\n",
       "      <td>162085</td>\n",
       "      <td>4</td>\n",
       "    </tr>\n",
       "    <tr>\n",
       "      <th>4</th>\n",
       "      <td>1521747</td>\n",
       "      <td>39e98f8a7c65c21749895a6bbfc7680f</td>\n",
       "      <td>32682</td>\n",
       "      <td>5</td>\n",
       "    </tr>\n",
       "  </tbody>\n",
       "</table>\n",
       "</div>"
      ],
      "text/plain": [
       "   Unnamed: 0                           user_id   book_id  rating\n",
       "0     1360809  ed6f2fb87ff0c0765f222ed6420880a8  14781501       4\n",
       "1      345979  3ee7b230aa769fa9117dfdfd30ea7d3c  32073180       4\n",
       "2      886733  b4003ff80c6ef3d78fe1235fe6699909    438247       3\n",
       "3      210164  ea2448eccbd13518d3e059c651a38f47    162085       4\n",
       "4     1521747  39e98f8a7c65c21749895a6bbfc7680f     32682       5"
      ]
     },
     "execution_count": 3,
     "metadata": {},
     "output_type": "execute_result"
    }
   ],
   "source": [
    "test_df = pd.read_csv(\"final_test.csv\")\n",
    "test_df.head()"
   ]
  },
  {
   "cell_type": "code",
   "execution_count": 4,
   "metadata": {},
   "outputs": [
    {
     "data": {
      "text/html": [
       "<div>\n",
       "<style scoped>\n",
       "    .dataframe tbody tr th:only-of-type {\n",
       "        vertical-align: middle;\n",
       "    }\n",
       "\n",
       "    .dataframe tbody tr th {\n",
       "        vertical-align: top;\n",
       "    }\n",
       "\n",
       "    .dataframe thead th {\n",
       "        text-align: right;\n",
       "    }\n",
       "</style>\n",
       "<table border=\"1\" class=\"dataframe\">\n",
       "  <thead>\n",
       "    <tr style=\"text-align: right;\">\n",
       "      <th></th>\n",
       "      <th>user_id</th>\n",
       "      <th>book_id</th>\n",
       "      <th>rating</th>\n",
       "      <th>predicted_rating</th>\n",
       "    </tr>\n",
       "  </thead>\n",
       "  <tbody>\n",
       "    <tr>\n",
       "      <th>0</th>\n",
       "      <td>ed6f2fb87ff0c0765f222ed6420880a8</td>\n",
       "      <td>14781501</td>\n",
       "      <td>4</td>\n",
       "      <td>3.430397</td>\n",
       "    </tr>\n",
       "    <tr>\n",
       "      <th>1</th>\n",
       "      <td>cb58cc382caf92051a367b65384e0dde</td>\n",
       "      <td>14781501</td>\n",
       "      <td>4</td>\n",
       "      <td>3.430397</td>\n",
       "    </tr>\n",
       "    <tr>\n",
       "      <th>2</th>\n",
       "      <td>de4bb51ba7805900233e9c1c3f0a6930</td>\n",
       "      <td>14781501</td>\n",
       "      <td>5</td>\n",
       "      <td>3.430397</td>\n",
       "    </tr>\n",
       "    <tr>\n",
       "      <th>3</th>\n",
       "      <td>3ee7b230aa769fa9117dfdfd30ea7d3c</td>\n",
       "      <td>32073180</td>\n",
       "      <td>4</td>\n",
       "      <td>3.119048</td>\n",
       "    </tr>\n",
       "    <tr>\n",
       "      <th>4</th>\n",
       "      <td>b4003ff80c6ef3d78fe1235fe6699909</td>\n",
       "      <td>438247</td>\n",
       "      <td>3</td>\n",
       "      <td>3.601594</td>\n",
       "    </tr>\n",
       "  </tbody>\n",
       "</table>\n",
       "</div>"
      ],
      "text/plain": [
       "                            user_id   book_id  rating  predicted_rating\n",
       "0  ed6f2fb87ff0c0765f222ed6420880a8  14781501       4          3.430397\n",
       "1  cb58cc382caf92051a367b65384e0dde  14781501       4          3.430397\n",
       "2  de4bb51ba7805900233e9c1c3f0a6930  14781501       5          3.430397\n",
       "3  3ee7b230aa769fa9117dfdfd30ea7d3c  32073180       4          3.119048\n",
       "4  b4003ff80c6ef3d78fe1235fe6699909    438247       3          3.601594"
      ]
     },
     "execution_count": 4,
     "metadata": {},
     "output_type": "execute_result"
    }
   ],
   "source": [
    "# Read the results of NLP with KMeans Model\n",
    "knn_result = pd.read_csv(\"knn_result.csv\")[['user_id', 'book_id', 'rating', 'predicted_rating']]\n",
    "knn_result['predicted_rating'] = pd.to_numeric(knn_result['predicted_rating'], errors=\"coerce\")\n",
    "knn_result.head()"
   ]
  },
  {
   "cell_type": "code",
   "execution_count": 5,
   "metadata": {},
   "outputs": [
    {
     "data": {
      "text/html": [
       "<div>\n",
       "<style scoped>\n",
       "    .dataframe tbody tr th:only-of-type {\n",
       "        vertical-align: middle;\n",
       "    }\n",
       "\n",
       "    .dataframe tbody tr th {\n",
       "        vertical-align: top;\n",
       "    }\n",
       "\n",
       "    .dataframe thead th {\n",
       "        text-align: right;\n",
       "    }\n",
       "</style>\n",
       "<table border=\"1\" class=\"dataframe\">\n",
       "  <thead>\n",
       "    <tr style=\"text-align: right;\">\n",
       "      <th></th>\n",
       "      <th>book_id</th>\n",
       "      <th>rating</th>\n",
       "      <th>predicted_rating</th>\n",
       "    </tr>\n",
       "  </thead>\n",
       "  <tbody>\n",
       "    <tr>\n",
       "      <th>count</th>\n",
       "      <td>5.000000e+04</td>\n",
       "      <td>50000.000000</td>\n",
       "      <td>49674.000000</td>\n",
       "    </tr>\n",
       "    <tr>\n",
       "      <th>mean</th>\n",
       "      <td>8.375332e+06</td>\n",
       "      <td>3.611440</td>\n",
       "      <td>3.607970</td>\n",
       "    </tr>\n",
       "    <tr>\n",
       "      <th>std</th>\n",
       "      <td>9.923950e+06</td>\n",
       "      <td>1.310822</td>\n",
       "      <td>0.390416</td>\n",
       "    </tr>\n",
       "    <tr>\n",
       "      <th>min</th>\n",
       "      <td>2.160000e+02</td>\n",
       "      <td>0.000000</td>\n",
       "      <td>0.000000</td>\n",
       "    </tr>\n",
       "    <tr>\n",
       "      <th>25%</th>\n",
       "      <td>9.964100e+04</td>\n",
       "      <td>3.000000</td>\n",
       "      <td>3.440724</td>\n",
       "    </tr>\n",
       "    <tr>\n",
       "      <th>50%</th>\n",
       "      <td>2.747602e+06</td>\n",
       "      <td>4.000000</td>\n",
       "      <td>3.658350</td>\n",
       "    </tr>\n",
       "    <tr>\n",
       "      <th>75%</th>\n",
       "      <td>1.613046e+07</td>\n",
       "      <td>5.000000</td>\n",
       "      <td>3.842105</td>\n",
       "    </tr>\n",
       "    <tr>\n",
       "      <th>max</th>\n",
       "      <td>3.644172e+07</td>\n",
       "      <td>5.000000</td>\n",
       "      <td>5.000000</td>\n",
       "    </tr>\n",
       "  </tbody>\n",
       "</table>\n",
       "</div>"
      ],
      "text/plain": [
       "            book_id        rating  predicted_rating\n",
       "count  5.000000e+04  50000.000000      49674.000000\n",
       "mean   8.375332e+06      3.611440          3.607970\n",
       "std    9.923950e+06      1.310822          0.390416\n",
       "min    2.160000e+02      0.000000          0.000000\n",
       "25%    9.964100e+04      3.000000          3.440724\n",
       "50%    2.747602e+06      4.000000          3.658350\n",
       "75%    1.613046e+07      5.000000          3.842105\n",
       "max    3.644172e+07      5.000000          5.000000"
      ]
     },
     "execution_count": 5,
     "metadata": {},
     "output_type": "execute_result"
    }
   ],
   "source": [
    "knn_result.describe()"
   ]
  },
  {
   "cell_type": "code",
   "execution_count": 6,
   "metadata": {},
   "outputs": [
    {
     "data": {
      "text/plain": [
       "326"
      ]
     },
     "execution_count": 6,
     "metadata": {},
     "output_type": "execute_result"
    }
   ],
   "source": [
    "#Calculating number of null predictions\n",
    "knn_result['predicted_rating'].isnull().sum()"
   ]
  },
  {
   "cell_type": "code",
   "execution_count": 7,
   "metadata": {},
   "outputs": [],
   "source": [
    "#Impute missing values with mean strategy\n",
    "knn_result_meanfill = knn_result.copy(deep=True)"
   ]
  },
  {
   "cell_type": "code",
   "execution_count": 8,
   "metadata": {},
   "outputs": [],
   "source": [
    "knn_result_meanfill['predicted_rating'] = knn_result_meanfill['predicted_rating'].fillna(knn_result_meanfill['predicted_rating'].mean())\n",
    "knn_result['predicted_rating'] = knn_result['predicted_rating'].fillna(-1)"
   ]
  },
  {
   "cell_type": "code",
   "execution_count": 9,
   "metadata": {},
   "outputs": [
    {
     "data": {
      "text/html": [
       "<div>\n",
       "<style scoped>\n",
       "    .dataframe tbody tr th:only-of-type {\n",
       "        vertical-align: middle;\n",
       "    }\n",
       "\n",
       "    .dataframe tbody tr th {\n",
       "        vertical-align: top;\n",
       "    }\n",
       "\n",
       "    .dataframe thead th {\n",
       "        text-align: right;\n",
       "    }\n",
       "</style>\n",
       "<table border=\"1\" class=\"dataframe\">\n",
       "  <thead>\n",
       "    <tr style=\"text-align: right;\">\n",
       "      <th></th>\n",
       "      <th>book_id</th>\n",
       "      <th>rating</th>\n",
       "      <th>predicted_rating</th>\n",
       "    </tr>\n",
       "  </thead>\n",
       "  <tbody>\n",
       "    <tr>\n",
       "      <th>count</th>\n",
       "      <td>5.000000e+04</td>\n",
       "      <td>50000.000000</td>\n",
       "      <td>50000.000000</td>\n",
       "    </tr>\n",
       "    <tr>\n",
       "      <th>mean</th>\n",
       "      <td>8.375332e+06</td>\n",
       "      <td>3.611440</td>\n",
       "      <td>3.577926</td>\n",
       "    </tr>\n",
       "    <tr>\n",
       "      <th>std</th>\n",
       "      <td>9.923950e+06</td>\n",
       "      <td>1.310822</td>\n",
       "      <td>0.537562</td>\n",
       "    </tr>\n",
       "    <tr>\n",
       "      <th>min</th>\n",
       "      <td>2.160000e+02</td>\n",
       "      <td>0.000000</td>\n",
       "      <td>-1.000000</td>\n",
       "    </tr>\n",
       "    <tr>\n",
       "      <th>25%</th>\n",
       "      <td>9.964100e+04</td>\n",
       "      <td>3.000000</td>\n",
       "      <td>3.433948</td>\n",
       "    </tr>\n",
       "    <tr>\n",
       "      <th>50%</th>\n",
       "      <td>2.747602e+06</td>\n",
       "      <td>4.000000</td>\n",
       "      <td>3.656845</td>\n",
       "    </tr>\n",
       "    <tr>\n",
       "      <th>75%</th>\n",
       "      <td>1.613046e+07</td>\n",
       "      <td>5.000000</td>\n",
       "      <td>3.841309</td>\n",
       "    </tr>\n",
       "    <tr>\n",
       "      <th>max</th>\n",
       "      <td>3.644172e+07</td>\n",
       "      <td>5.000000</td>\n",
       "      <td>5.000000</td>\n",
       "    </tr>\n",
       "  </tbody>\n",
       "</table>\n",
       "</div>"
      ],
      "text/plain": [
       "            book_id        rating  predicted_rating\n",
       "count  5.000000e+04  50000.000000      50000.000000\n",
       "mean   8.375332e+06      3.611440          3.577926\n",
       "std    9.923950e+06      1.310822          0.537562\n",
       "min    2.160000e+02      0.000000         -1.000000\n",
       "25%    9.964100e+04      3.000000          3.433948\n",
       "50%    2.747602e+06      4.000000          3.656845\n",
       "75%    1.613046e+07      5.000000          3.841309\n",
       "max    3.644172e+07      5.000000          5.000000"
      ]
     },
     "execution_count": 9,
     "metadata": {},
     "output_type": "execute_result"
    }
   ],
   "source": [
    "knn_result.describe()"
   ]
  },
  {
   "cell_type": "code",
   "execution_count": 10,
   "metadata": {},
   "outputs": [
    {
     "data": {
      "text/html": [
       "<div>\n",
       "<style scoped>\n",
       "    .dataframe tbody tr th:only-of-type {\n",
       "        vertical-align: middle;\n",
       "    }\n",
       "\n",
       "    .dataframe tbody tr th {\n",
       "        vertical-align: top;\n",
       "    }\n",
       "\n",
       "    .dataframe thead th {\n",
       "        text-align: right;\n",
       "    }\n",
       "</style>\n",
       "<table border=\"1\" class=\"dataframe\">\n",
       "  <thead>\n",
       "    <tr style=\"text-align: right;\">\n",
       "      <th></th>\n",
       "      <th>book_id</th>\n",
       "      <th>rating</th>\n",
       "      <th>predicted_rating</th>\n",
       "    </tr>\n",
       "  </thead>\n",
       "  <tbody>\n",
       "    <tr>\n",
       "      <th>count</th>\n",
       "      <td>5.000000e+04</td>\n",
       "      <td>50000.000000</td>\n",
       "      <td>50000.000000</td>\n",
       "    </tr>\n",
       "    <tr>\n",
       "      <th>mean</th>\n",
       "      <td>8.375332e+06</td>\n",
       "      <td>3.611440</td>\n",
       "      <td>3.607970</td>\n",
       "    </tr>\n",
       "    <tr>\n",
       "      <th>std</th>\n",
       "      <td>9.923950e+06</td>\n",
       "      <td>1.310822</td>\n",
       "      <td>0.389142</td>\n",
       "    </tr>\n",
       "    <tr>\n",
       "      <th>min</th>\n",
       "      <td>2.160000e+02</td>\n",
       "      <td>0.000000</td>\n",
       "      <td>0.000000</td>\n",
       "    </tr>\n",
       "    <tr>\n",
       "      <th>25%</th>\n",
       "      <td>9.964100e+04</td>\n",
       "      <td>3.000000</td>\n",
       "      <td>3.443311</td>\n",
       "    </tr>\n",
       "    <tr>\n",
       "      <th>50%</th>\n",
       "      <td>2.747602e+06</td>\n",
       "      <td>4.000000</td>\n",
       "      <td>3.656845</td>\n",
       "    </tr>\n",
       "    <tr>\n",
       "      <th>75%</th>\n",
       "      <td>1.613046e+07</td>\n",
       "      <td>5.000000</td>\n",
       "      <td>3.841309</td>\n",
       "    </tr>\n",
       "    <tr>\n",
       "      <th>max</th>\n",
       "      <td>3.644172e+07</td>\n",
       "      <td>5.000000</td>\n",
       "      <td>5.000000</td>\n",
       "    </tr>\n",
       "  </tbody>\n",
       "</table>\n",
       "</div>"
      ],
      "text/plain": [
       "            book_id        rating  predicted_rating\n",
       "count  5.000000e+04  50000.000000      50000.000000\n",
       "mean   8.375332e+06      3.611440          3.607970\n",
       "std    9.923950e+06      1.310822          0.389142\n",
       "min    2.160000e+02      0.000000          0.000000\n",
       "25%    9.964100e+04      3.000000          3.443311\n",
       "50%    2.747602e+06      4.000000          3.656845\n",
       "75%    1.613046e+07      5.000000          3.841309\n",
       "max    3.644172e+07      5.000000          5.000000"
      ]
     },
     "execution_count": 10,
     "metadata": {},
     "output_type": "execute_result"
    }
   ],
   "source": [
    "knn_result_meanfill.describe()"
   ]
  },
  {
   "cell_type": "code",
   "execution_count": 11,
   "metadata": {},
   "outputs": [
    {
     "data": {
      "text/html": [
       "<div>\n",
       "<style scoped>\n",
       "    .dataframe tbody tr th:only-of-type {\n",
       "        vertical-align: middle;\n",
       "    }\n",
       "\n",
       "    .dataframe tbody tr th {\n",
       "        vertical-align: top;\n",
       "    }\n",
       "\n",
       "    .dataframe thead th {\n",
       "        text-align: right;\n",
       "    }\n",
       "</style>\n",
       "<table border=\"1\" class=\"dataframe\">\n",
       "  <thead>\n",
       "    <tr style=\"text-align: right;\">\n",
       "      <th></th>\n",
       "      <th>user_id</th>\n",
       "      <th>book_id</th>\n",
       "      <th>rating</th>\n",
       "      <th>pred_rating</th>\n",
       "    </tr>\n",
       "  </thead>\n",
       "  <tbody>\n",
       "    <tr>\n",
       "      <th>0</th>\n",
       "      <td>ed6f2fb87ff0c0765f222ed6420880a8</td>\n",
       "      <td>14781501</td>\n",
       "      <td>4</td>\n",
       "      <td>3.423078</td>\n",
       "    </tr>\n",
       "    <tr>\n",
       "      <th>1</th>\n",
       "      <td>3ee7b230aa769fa9117dfdfd30ea7d3c</td>\n",
       "      <td>32073180</td>\n",
       "      <td>4</td>\n",
       "      <td>3.504261</td>\n",
       "    </tr>\n",
       "    <tr>\n",
       "      <th>2</th>\n",
       "      <td>b4003ff80c6ef3d78fe1235fe6699909</td>\n",
       "      <td>438247</td>\n",
       "      <td>3</td>\n",
       "      <td>3.504261</td>\n",
       "    </tr>\n",
       "    <tr>\n",
       "      <th>3</th>\n",
       "      <td>ea2448eccbd13518d3e059c651a38f47</td>\n",
       "      <td>162085</td>\n",
       "      <td>4</td>\n",
       "      <td>3.360014</td>\n",
       "    </tr>\n",
       "    <tr>\n",
       "      <th>4</th>\n",
       "      <td>39e98f8a7c65c21749895a6bbfc7680f</td>\n",
       "      <td>32682</td>\n",
       "      <td>5</td>\n",
       "      <td>4.776507</td>\n",
       "    </tr>\n",
       "  </tbody>\n",
       "</table>\n",
       "</div>"
      ],
      "text/plain": [
       "                            user_id   book_id  rating  pred_rating\n",
       "0  ed6f2fb87ff0c0765f222ed6420880a8  14781501       4     3.423078\n",
       "1  3ee7b230aa769fa9117dfdfd30ea7d3c  32073180       4     3.504261\n",
       "2  b4003ff80c6ef3d78fe1235fe6699909    438247       3     3.504261\n",
       "3  ea2448eccbd13518d3e059c651a38f47    162085       4     3.360014\n",
       "4  39e98f8a7c65c21749895a6bbfc7680f     32682       5     4.776507"
      ]
     },
     "execution_count": 11,
     "metadata": {},
     "output_type": "execute_result"
    }
   ],
   "source": [
    "#Read results of Neural Network model\n",
    "nnmodel_result = pd.read_csv(\"nnmodel_result.csv\")[['user_id', 'book_id', 'rating', 'pred_rating']]\n",
    "nnmodel_result.head()"
   ]
  },
  {
   "cell_type": "code",
   "execution_count": 12,
   "metadata": {},
   "outputs": [
    {
     "data": {
      "text/html": [
       "<div>\n",
       "<style scoped>\n",
       "    .dataframe tbody tr th:only-of-type {\n",
       "        vertical-align: middle;\n",
       "    }\n",
       "\n",
       "    .dataframe tbody tr th {\n",
       "        vertical-align: top;\n",
       "    }\n",
       "\n",
       "    .dataframe thead th {\n",
       "        text-align: right;\n",
       "    }\n",
       "</style>\n",
       "<table border=\"1\" class=\"dataframe\">\n",
       "  <thead>\n",
       "    <tr style=\"text-align: right;\">\n",
       "      <th></th>\n",
       "      <th>book_id</th>\n",
       "      <th>rating</th>\n",
       "      <th>pred_rating</th>\n",
       "    </tr>\n",
       "  </thead>\n",
       "  <tbody>\n",
       "    <tr>\n",
       "      <th>count</th>\n",
       "      <td>5.000000e+04</td>\n",
       "      <td>50000.000000</td>\n",
       "      <td>50000.000000</td>\n",
       "    </tr>\n",
       "    <tr>\n",
       "      <th>mean</th>\n",
       "      <td>8.375332e+06</td>\n",
       "      <td>3.611440</td>\n",
       "      <td>3.625862</td>\n",
       "    </tr>\n",
       "    <tr>\n",
       "      <th>std</th>\n",
       "      <td>9.923950e+06</td>\n",
       "      <td>1.310822</td>\n",
       "      <td>0.708066</td>\n",
       "    </tr>\n",
       "    <tr>\n",
       "      <th>min</th>\n",
       "      <td>2.160000e+02</td>\n",
       "      <td>0.000000</td>\n",
       "      <td>0.000000</td>\n",
       "    </tr>\n",
       "    <tr>\n",
       "      <th>25%</th>\n",
       "      <td>9.964100e+04</td>\n",
       "      <td>3.000000</td>\n",
       "      <td>3.428154</td>\n",
       "    </tr>\n",
       "    <tr>\n",
       "      <th>50%</th>\n",
       "      <td>2.747602e+06</td>\n",
       "      <td>4.000000</td>\n",
       "      <td>3.672430</td>\n",
       "    </tr>\n",
       "    <tr>\n",
       "      <th>75%</th>\n",
       "      <td>1.613046e+07</td>\n",
       "      <td>5.000000</td>\n",
       "      <td>3.934114</td>\n",
       "    </tr>\n",
       "    <tr>\n",
       "      <th>max</th>\n",
       "      <td>3.644172e+07</td>\n",
       "      <td>5.000000</td>\n",
       "      <td>5.350930</td>\n",
       "    </tr>\n",
       "  </tbody>\n",
       "</table>\n",
       "</div>"
      ],
      "text/plain": [
       "            book_id        rating   pred_rating\n",
       "count  5.000000e+04  50000.000000  50000.000000\n",
       "mean   8.375332e+06      3.611440      3.625862\n",
       "std    9.923950e+06      1.310822      0.708066\n",
       "min    2.160000e+02      0.000000      0.000000\n",
       "25%    9.964100e+04      3.000000      3.428154\n",
       "50%    2.747602e+06      4.000000      3.672430\n",
       "75%    1.613046e+07      5.000000      3.934114\n",
       "max    3.644172e+07      5.000000      5.350930"
      ]
     },
     "execution_count": 12,
     "metadata": {},
     "output_type": "execute_result"
    }
   ],
   "source": [
    "nnmodel_result.describe()"
   ]
  },
  {
   "cell_type": "code",
   "execution_count": 13,
   "metadata": {},
   "outputs": [],
   "source": [
    "#Function to calculate RMSE\n",
    "def rmse(predictions, targets):\n",
    "    return np.sqrt(((predictions - targets) ** 2).mean())\n"
   ]
  },
  {
   "cell_type": "code",
   "execution_count": 14,
   "metadata": {},
   "outputs": [
    {
     "data": {
      "text/plain": [
       "1.3400596884497615"
      ]
     },
     "execution_count": 14,
     "metadata": {},
     "output_type": "execute_result"
    }
   ],
   "source": [
    "#RMSE of NLP model with missing values\n",
    "rmse_knn = rmse(np.array(knn_result['predicted_rating']), np.array(knn_result['rating']))\n",
    "rmse_knn"
   ]
  },
  {
   "cell_type": "code",
   "execution_count": 15,
   "metadata": {},
   "outputs": [
    {
     "data": {
      "text/plain": [
       "1.292241655757734"
      ]
     },
     "execution_count": 15,
     "metadata": {},
     "output_type": "execute_result"
    }
   ],
   "source": [
    "#RMSE of NLP model with imputed values\n",
    "rmse_knn_meanfill = rmse(np.array(knn_result_meanfill['predicted_rating']), np.array(knn_result_meanfill['rating']))\n",
    "rmse_knn_meanfill"
   ]
  },
  {
   "cell_type": "code",
   "execution_count": 16,
   "metadata": {},
   "outputs": [
    {
     "data": {
      "text/plain": [
       "1.4878087495419903"
      ]
     },
     "execution_count": 16,
     "metadata": {},
     "output_type": "execute_result"
    }
   ],
   "source": [
    "#RMSE of Neural Network model\n",
    "rmse_nnmodel = rmse(np.array(nnmodel_result['pred_rating']), np.array(nnmodel_result['rating']))\n",
    "rmse_nnmodel"
   ]
  },
  {
   "cell_type": "code",
   "execution_count": 17,
   "metadata": {},
   "outputs": [],
   "source": [
    "#Merging results of component models\n",
    "merged_results = knn_result.merge(nnmodel_result, 'inner', on = ['user_id', 'book_id', 'rating'])\n",
    "merged_results.columns = ['user_id', 'book_id', 'rating', 'knn_pred_rating', 'nnmodel_pred_rating']"
   ]
  },
  {
   "cell_type": "code",
   "execution_count": 18,
   "metadata": {},
   "outputs": [],
   "source": [
    "merged_results_meanfill = knn_result_meanfill.merge(nnmodel_result, 'inner', on = ['user_id', 'book_id', 'rating'])\n",
    "merged_results_meanfill.columns = ['user_id', 'book_id', 'rating', 'knn_pred_rating', 'nnmodel_pred_rating']"
   ]
  },
  {
   "cell_type": "code",
   "execution_count": 19,
   "metadata": {},
   "outputs": [
    {
     "data": {
      "text/html": [
       "<div>\n",
       "<style scoped>\n",
       "    .dataframe tbody tr th:only-of-type {\n",
       "        vertical-align: middle;\n",
       "    }\n",
       "\n",
       "    .dataframe tbody tr th {\n",
       "        vertical-align: top;\n",
       "    }\n",
       "\n",
       "    .dataframe thead th {\n",
       "        text-align: right;\n",
       "    }\n",
       "</style>\n",
       "<table border=\"1\" class=\"dataframe\">\n",
       "  <thead>\n",
       "    <tr style=\"text-align: right;\">\n",
       "      <th></th>\n",
       "      <th>user_id</th>\n",
       "      <th>book_id</th>\n",
       "      <th>rating</th>\n",
       "      <th>knn_pred_rating</th>\n",
       "      <th>nnmodel_pred_rating</th>\n",
       "    </tr>\n",
       "  </thead>\n",
       "  <tbody>\n",
       "    <tr>\n",
       "      <th>0</th>\n",
       "      <td>ed6f2fb87ff0c0765f222ed6420880a8</td>\n",
       "      <td>14781501</td>\n",
       "      <td>4</td>\n",
       "      <td>3.430397</td>\n",
       "      <td>3.423078</td>\n",
       "    </tr>\n",
       "    <tr>\n",
       "      <th>1</th>\n",
       "      <td>cb58cc382caf92051a367b65384e0dde</td>\n",
       "      <td>14781501</td>\n",
       "      <td>4</td>\n",
       "      <td>3.430397</td>\n",
       "      <td>3.025937</td>\n",
       "    </tr>\n",
       "    <tr>\n",
       "      <th>2</th>\n",
       "      <td>de4bb51ba7805900233e9c1c3f0a6930</td>\n",
       "      <td>14781501</td>\n",
       "      <td>5</td>\n",
       "      <td>3.430397</td>\n",
       "      <td>3.493814</td>\n",
       "    </tr>\n",
       "    <tr>\n",
       "      <th>3</th>\n",
       "      <td>3ee7b230aa769fa9117dfdfd30ea7d3c</td>\n",
       "      <td>32073180</td>\n",
       "      <td>4</td>\n",
       "      <td>3.119048</td>\n",
       "      <td>3.504261</td>\n",
       "    </tr>\n",
       "    <tr>\n",
       "      <th>4</th>\n",
       "      <td>b4003ff80c6ef3d78fe1235fe6699909</td>\n",
       "      <td>438247</td>\n",
       "      <td>3</td>\n",
       "      <td>3.601594</td>\n",
       "      <td>3.504261</td>\n",
       "    </tr>\n",
       "  </tbody>\n",
       "</table>\n",
       "</div>"
      ],
      "text/plain": [
       "                            user_id   book_id  rating  knn_pred_rating  \\\n",
       "0  ed6f2fb87ff0c0765f222ed6420880a8  14781501       4         3.430397   \n",
       "1  cb58cc382caf92051a367b65384e0dde  14781501       4         3.430397   \n",
       "2  de4bb51ba7805900233e9c1c3f0a6930  14781501       5         3.430397   \n",
       "3  3ee7b230aa769fa9117dfdfd30ea7d3c  32073180       4         3.119048   \n",
       "4  b4003ff80c6ef3d78fe1235fe6699909    438247       3         3.601594   \n",
       "\n",
       "   nnmodel_pred_rating  \n",
       "0             3.423078  \n",
       "1             3.025937  \n",
       "2             3.493814  \n",
       "3             3.504261  \n",
       "4             3.504261  "
      ]
     },
     "execution_count": 19,
     "metadata": {},
     "output_type": "execute_result"
    }
   ],
   "source": [
    "merged_results.head()"
   ]
  },
  {
   "cell_type": "code",
   "execution_count": 20,
   "metadata": {},
   "outputs": [],
   "source": [
    "#Function for switching and combining\n",
    "def combiner(knn_pred, nnmodel_pred):\n",
    "    if knn_pred == -1:\n",
    "        comb_rating = nnmodel_pred\n",
    "    else:\n",
    "        comb_rating = 0.92 * knn_pred + 0.08 * nnmodel_pred\n",
    "    return comb_rating\n",
    "merged_results['combined_rating'] = merged_results.apply(lambda x: combiner(x['knn_pred_rating'], x['nnmodel_pred_rating']), axis = 1)\n"
   ]
  },
  {
   "cell_type": "code",
   "execution_count": 21,
   "metadata": {},
   "outputs": [
    {
     "data": {
      "text/plain": [
       "1.2919824346996855"
      ]
     },
     "execution_count": 21,
     "metadata": {},
     "output_type": "execute_result"
    }
   ],
   "source": [
    "#RMSE of hybrid model with switching and weighted average\n",
    "rmse_combined = rmse(np.array(merged_results['combined_rating']), np.array(merged_results['rating']))\n",
    "rmse_combined"
   ]
  },
  {
   "cell_type": "code",
   "execution_count": 22,
   "metadata": {},
   "outputs": [
    {
     "data": {
      "text/plain": [
       "1.333819447054821"
      ]
     },
     "execution_count": 22,
     "metadata": {},
     "output_type": "execute_result"
    }
   ],
   "source": [
    "#RMSE of hybrid model with weights 0.5 & 0.5\n",
    "merged_results_meanfill['combined_rating'] = 0.5*merged_results_meanfill['knn_pred_rating'] + 0.5*merged_results_meanfill['nnmodel_pred_rating']\n",
    "rmse_combined_1 = rmse(np.array(merged_results_meanfill['combined_rating']), np.array(merged_results_meanfill['rating']))\n",
    "rmse_combined_1"
   ]
  },
  {
   "cell_type": "code",
   "execution_count": 23,
   "metadata": {},
   "outputs": [
    {
     "data": {
      "text/plain": [
       "1.302444709255046"
      ]
     },
     "execution_count": 23,
     "metadata": {},
     "output_type": "execute_result"
    }
   ],
   "source": [
    "#RMSE of hybrid model with weights 0.7 & 0.3\n",
    "merged_results_meanfill['combined_rating'] = 0.7*merged_results_meanfill['knn_pred_rating'] + 0.3*merged_results_meanfill['nnmodel_pred_rating']\n",
    "rmse_combined_2 = rmse(np.array(merged_results_meanfill['combined_rating']), np.array(merged_results_meanfill['rating']))\n",
    "rmse_combined_2"
   ]
  },
  {
   "cell_type": "code",
   "execution_count": 24,
   "metadata": {},
   "outputs": [
    {
     "data": {
      "text/plain": [
       "1.2940344108922428"
      ]
     },
     "execution_count": 24,
     "metadata": {},
     "output_type": "execute_result"
    }
   ],
   "source": [
    "#RMSE of hybrid model with weights 0.8 & 0.2\n",
    "merged_results_meanfill['combined_rating'] = 0.8*merged_results_meanfill['knn_pred_rating'] + 0.2*merged_results_meanfill['nnmodel_pred_rating']\n",
    "rmse_combined_3 = rmse(np.array(merged_results_meanfill['combined_rating']), np.array(merged_results_meanfill['rating']))\n",
    "rmse_combined_3"
   ]
  },
  {
   "cell_type": "code",
   "execution_count": 25,
   "metadata": {},
   "outputs": [],
   "source": [
    "merged_results_meanfill['combined_rating'] = 0.92*merged_results_meanfill['knn_pred_rating'] + 0.08*merged_results_meanfill['nnmodel_pred_rating']"
   ]
  },
  {
   "cell_type": "code",
   "execution_count": 26,
   "metadata": {},
   "outputs": [
    {
     "data": {
      "text/plain": [
       "1.2905413894162379"
      ]
     },
     "execution_count": 26,
     "metadata": {},
     "output_type": "execute_result"
    }
   ],
   "source": [
    "#RMSE of hybrid model with imputation and weighted average with weights 0.92 and 0.08\n",
    "rmse_combined_meanfill = rmse(np.array(merged_results_meanfill['combined_rating']), np.array(merged_results_meanfill['rating']))\n",
    "rmse_combined_meanfill"
   ]
  },
  {
   "cell_type": "code",
   "execution_count": 27,
   "metadata": {},
   "outputs": [
    {
     "data": {
      "text/plain": [
       "<Figure size 432x288 with 0 Axes>"
      ]
     },
     "metadata": {},
     "output_type": "display_data"
    },
    {
     "data": {
      "image/png": "[encoded data removed]",
      "text/plain": [
       "<Figure size 1440x720 with 1 Axes>"
      ]
     },
     "metadata": {
      "needs_background": "light"
     },
     "output_type": "display_data"
    }
   ],
   "source": [
    "#Comparison of RMSE scores of different models\n",
    "fig = plt.figure()\n",
    "sns.set_context('paper')\n",
    "plt.figure(figsize=(20,10))\n",
    "algos = ['NLP w/ K-Means', 'NLP w/ K-Means & Imputation', 'Neural Network', 'Hybrid Model', 'Hybrid Model w/ Imputation']\n",
    "rmses = [rmse_knn, rmse_knn_meanfill, rmse_nnmodel, rmse_combined, rmse_combined_meanfill]\n",
    "sns.barplot(x = algos, y = rmses, palette='deep').set_ylim(1, 1.5)\n",
    "plt.ylabel(\"RMSE\", fontsize=15)\n",
    "plt.xlabel(\"Model\", fontsize=15)\n",
    "plt.xticks(fontsize = 15)\n",
    "plt.yticks(fontsize = 15)\n",
    "plt.show()"
   ]
  },
  {
   "cell_type": "code",
   "execution_count": 28,
   "metadata": {},
   "outputs": [
    {
     "data": {
      "image/png": "[encoded data removed]",
      "text/plain": [
       "<Figure size 720x360 with 1 Axes>"
      ]
     },
     "metadata": {
      "needs_background": "light"
     },
     "output_type": "display_data"
    }
   ],
   "source": [
    "#RMSE vs Weights\n",
    "sns.set_context('paper')\n",
    "plt.figure(figsize=(10,5))\n",
    "algos = ['0.5 & 0.5', '0.7 & 0.3', '0.8 & 0.2', '0.92 & 0.08']\n",
    "# algos = ['NLP w/ K-Means', 'NLP w/ K-Means & Imputation', 'Neural Network', 'Hybrid Model']\n",
    "rmses = [rmse_combined_1, rmse_combined_2, rmse_combined_3, rmse_combined_meanfill]\n",
    "sns.lineplot(x = algos, y = rmses, marker=\"o\").set_ylim(1.2, 1.35)\n",
    "plt.ylabel(\"RMSE\", fontsize=15)\n",
    "plt.xlabel(\"Weights\", fontsize=15)\n",
    "plt.xticks(fontsize = 15)\n",
    "plt.yticks(fontsize = 15)\n",
    "plt.show()"
   ]
  }
 ],
 "metadata": {
  "kernelspec": {
   "display_name": "Python 3",
   "language": "python",
   "name": "python3"
  },
  "language_info": {
   "codemirror_mode": {
    "name": "ipython",
    "version": 3
   },
   "file_extension": ".py",
   "mimetype": "text/x-python",
   "name": "python",
   "nbconvert_exporter": "python",
   "pygments_lexer": "ipython3",
   "version": "3.7.0"
  }
 },
 "nbformat": 4,
 "nbformat_minor": 2
}
