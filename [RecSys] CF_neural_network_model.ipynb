{
 "cells": [
  {
   "cell_type": "markdown",
   "metadata": {},
   "source": [
    "# CF based recommender system using neural networks\n",
    "## Books for mystery, thriller, and crime\n",
    "https://sites.google.com/eng.ucsd.edu/ucsdbookgraph/home"
   ]
  },
  {
   "cell_type": "code",
   "execution_count": 1,
   "metadata": {},
   "outputs": [],
   "source": [
    "import sys\n",
    "sys.path.append('/home/014521052/venv-3.6.6-gpu/lib/python3.6/site-packages')\n",
    "\n",
    "import warnings\n",
    "if not sys.warnoptions:\n",
    "    warnings.simplefilter(\"ignore\")\n",
    "\n",
    "import pandas as pd\n",
    "import numpy as np\n",
    "\n",
    "import matplotlib as mpl\n",
    "import matplotlib.pyplot as plt"
   ]
  },
  {
   "cell_type": "markdown",
   "metadata": {},
   "source": [
    "### Load Data"
   ]
  },
  {
   "cell_type": "code",
   "execution_count": 2,
   "metadata": {},
   "outputs": [
    {
     "name": "stdout",
     "output_type": "stream",
     "text": [
      "(876145, 2)\n"
     ]
    },
    {
     "data": {
      "text/html": [
       "<div>\n",
       "<style scoped>\n",
       "    .dataframe tbody tr th:only-of-type {\n",
       "        vertical-align: middle;\n",
       "    }\n",
       "\n",
       "    .dataframe tbody tr th {\n",
       "        vertical-align: top;\n",
       "    }\n",
       "\n",
       "    .dataframe thead th {\n",
       "        text-align: right;\n",
       "    }\n",
       "</style>\n",
       "<table border=\"1\" class=\"dataframe\">\n",
       "  <thead>\n",
       "    <tr style=\"text-align: right;\">\n",
       "      <th></th>\n",
       "      <th>user_id_csv</th>\n",
       "      <th>user_id</th>\n",
       "    </tr>\n",
       "  </thead>\n",
       "  <tbody>\n",
       "    <tr>\n",
       "      <th>0</th>\n",
       "      <td>0</td>\n",
       "      <td>8842281e1d1347389f2ab93d60773d4d</td>\n",
       "    </tr>\n",
       "    <tr>\n",
       "      <th>1</th>\n",
       "      <td>1</td>\n",
       "      <td>72fb0d0087d28c832f15776b0d936598</td>\n",
       "    </tr>\n",
       "    <tr>\n",
       "      <th>2</th>\n",
       "      <td>2</td>\n",
       "      <td>ab2923b738ea3082f5f3efcbbfacb218</td>\n",
       "    </tr>\n",
       "  </tbody>\n",
       "</table>\n",
       "</div>"
      ],
      "text/plain": [
       "   user_id_csv                           user_id\n",
       "0            0  8842281e1d1347389f2ab93d60773d4d\n",
       "1            1  72fb0d0087d28c832f15776b0d936598\n",
       "2            2  ab2923b738ea3082f5f3efcbbfacb218"
      ]
     },
     "execution_count": 2,
     "metadata": {},
     "output_type": "execute_result"
    }
   ],
   "source": [
    "user_id_df = pd.read_csv('user_id_map.csv')\n",
    "print(user_id_df.shape)\n",
    "user_id_df.head(3)"
   ]
  },
  {
   "cell_type": "code",
   "execution_count": 3,
   "metadata": {},
   "outputs": [
    {
     "name": "stdout",
     "output_type": "stream",
     "text": [
      "(2360650, 2)\n"
     ]
    },
    {
     "data": {
      "text/html": [
       "<div>\n",
       "<style scoped>\n",
       "    .dataframe tbody tr th:only-of-type {\n",
       "        vertical-align: middle;\n",
       "    }\n",
       "\n",
       "    .dataframe tbody tr th {\n",
       "        vertical-align: top;\n",
       "    }\n",
       "\n",
       "    .dataframe thead th {\n",
       "        text-align: right;\n",
       "    }\n",
       "</style>\n",
       "<table border=\"1\" class=\"dataframe\">\n",
       "  <thead>\n",
       "    <tr style=\"text-align: right;\">\n",
       "      <th></th>\n",
       "      <th>book_id_csv</th>\n",
       "      <th>book_id</th>\n",
       "    </tr>\n",
       "  </thead>\n",
       "  <tbody>\n",
       "    <tr>\n",
       "      <th>0</th>\n",
       "      <td>0</td>\n",
       "      <td>34684622</td>\n",
       "    </tr>\n",
       "    <tr>\n",
       "      <th>1</th>\n",
       "      <td>1</td>\n",
       "      <td>34536488</td>\n",
       "    </tr>\n",
       "    <tr>\n",
       "      <th>2</th>\n",
       "      <td>2</td>\n",
       "      <td>34017076</td>\n",
       "    </tr>\n",
       "  </tbody>\n",
       "</table>\n",
       "</div>"
      ],
      "text/plain": [
       "   book_id_csv   book_id\n",
       "0            0  34684622\n",
       "1            1  34536488\n",
       "2            2  34017076"
      ]
     },
     "execution_count": 3,
     "metadata": {},
     "output_type": "execute_result"
    }
   ],
   "source": [
    "book_id_df = pd.read_csv('book_id_map.csv')\n",
    "print(book_id_df.shape)\n",
    "book_id_df.head(3)"
   ]
  },
  {
   "cell_type": "code",
   "execution_count": 4,
   "metadata": {},
   "outputs": [
    {
     "name": "stdout",
     "output_type": "stream",
     "text": [
      "(9876021, 3)\n"
     ]
    },
    {
     "data": {
      "text/html": [
       "<div>\n",
       "<style scoped>\n",
       "    .dataframe tbody tr th:only-of-type {\n",
       "        vertical-align: middle;\n",
       "    }\n",
       "\n",
       "    .dataframe tbody tr th {\n",
       "        vertical-align: top;\n",
       "    }\n",
       "\n",
       "    .dataframe thead th {\n",
       "        text-align: right;\n",
       "    }\n",
       "</style>\n",
       "<table border=\"1\" class=\"dataframe\">\n",
       "  <thead>\n",
       "    <tr style=\"text-align: right;\">\n",
       "      <th></th>\n",
       "      <th>user_id</th>\n",
       "      <th>book_id</th>\n",
       "      <th>rating</th>\n",
       "    </tr>\n",
       "  </thead>\n",
       "  <tbody>\n",
       "    <tr>\n",
       "      <th>0</th>\n",
       "      <td>eabd6e8c6dc181d8fb5bd65573e9b51b</td>\n",
       "      <td>25365</td>\n",
       "      <td>3</td>\n",
       "    </tr>\n",
       "    <tr>\n",
       "      <th>1</th>\n",
       "      <td>f6bf54164ddeba9eb812c024aff1902c</td>\n",
       "      <td>8467921</td>\n",
       "      <td>3</td>\n",
       "    </tr>\n",
       "    <tr>\n",
       "      <th>2</th>\n",
       "      <td>7322c5cb2d2dc8a289374e8ae5c4903a</td>\n",
       "      <td>29960804</td>\n",
       "      <td>2</td>\n",
       "    </tr>\n",
       "  </tbody>\n",
       "</table>\n",
       "</div>"
      ],
      "text/plain": [
       "                            user_id   book_id  rating\n",
       "0  eabd6e8c6dc181d8fb5bd65573e9b51b     25365       3\n",
       "1  f6bf54164ddeba9eb812c024aff1902c   8467921       3\n",
       "2  7322c5cb2d2dc8a289374e8ae5c4903a  29960804       2"
      ]
     },
     "execution_count": 4,
     "metadata": {},
     "output_type": "execute_result"
    }
   ],
   "source": [
    "train_df = pd.read_csv('data/train.csv')\n",
    "print(train_df.shape)\n",
    "train_df.head(3)"
   ]
  },
  {
   "cell_type": "code",
   "execution_count": 5,
   "metadata": {},
   "outputs": [
    {
     "name": "stdout",
     "output_type": "stream",
     "text": [
      "(2549129, 3)\n"
     ]
    },
    {
     "data": {
      "text/html": [
       "<div>\n",
       "<style scoped>\n",
       "    .dataframe tbody tr th:only-of-type {\n",
       "        vertical-align: middle;\n",
       "    }\n",
       "\n",
       "    .dataframe tbody tr th {\n",
       "        vertical-align: top;\n",
       "    }\n",
       "\n",
       "    .dataframe thead th {\n",
       "        text-align: right;\n",
       "    }\n",
       "</style>\n",
       "<table border=\"1\" class=\"dataframe\">\n",
       "  <thead>\n",
       "    <tr style=\"text-align: right;\">\n",
       "      <th></th>\n",
       "      <th>user_id</th>\n",
       "      <th>book_id</th>\n",
       "      <th>rating</th>\n",
       "    </tr>\n",
       "  </thead>\n",
       "  <tbody>\n",
       "    <tr>\n",
       "      <th>0</th>\n",
       "      <td>4374ea549de7ab51ce7ef59311babfee</td>\n",
       "      <td>17185496</td>\n",
       "      <td>4</td>\n",
       "    </tr>\n",
       "    <tr>\n",
       "      <th>1</th>\n",
       "      <td>f2fd8750f9b4b167e2eea57def6b0657</td>\n",
       "      <td>5349974</td>\n",
       "      <td>0</td>\n",
       "    </tr>\n",
       "    <tr>\n",
       "      <th>2</th>\n",
       "      <td>0e836dfd49f285f2e564145cd7ab245e</td>\n",
       "      <td>105992</td>\n",
       "      <td>5</td>\n",
       "    </tr>\n",
       "  </tbody>\n",
       "</table>\n",
       "</div>"
      ],
      "text/plain": [
       "                            user_id   book_id  rating\n",
       "0  4374ea549de7ab51ce7ef59311babfee  17185496       4\n",
       "1  f2fd8750f9b4b167e2eea57def6b0657   5349974       0\n",
       "2  0e836dfd49f285f2e564145cd7ab245e    105992       5"
      ]
     },
     "execution_count": 5,
     "metadata": {},
     "output_type": "execute_result"
    }
   ],
   "source": [
    "test_df = pd.read_csv('data/test.csv')\n",
    "print(test_df.shape)\n",
    "test_df.head(3)"
   ]
  },
  {
   "cell_type": "markdown",
   "metadata": {},
   "source": [
    "### Data merge with user_id and book_id map"
   ]
  },
  {
   "cell_type": "code",
   "execution_count": 6,
   "metadata": {},
   "outputs": [
    {
     "name": "stdout",
     "output_type": "stream",
     "text": [
      "(9876021, 5)\n"
     ]
    },
    {
     "data": {
      "text/html": [
       "<div>\n",
       "<style scoped>\n",
       "    .dataframe tbody tr th:only-of-type {\n",
       "        vertical-align: middle;\n",
       "    }\n",
       "\n",
       "    .dataframe tbody tr th {\n",
       "        vertical-align: top;\n",
       "    }\n",
       "\n",
       "    .dataframe thead th {\n",
       "        text-align: right;\n",
       "    }\n",
       "</style>\n",
       "<table border=\"1\" class=\"dataframe\">\n",
       "  <thead>\n",
       "    <tr style=\"text-align: right;\">\n",
       "      <th></th>\n",
       "      <th>user_id</th>\n",
       "      <th>book_id</th>\n",
       "      <th>rating</th>\n",
       "      <th>user_id_csv</th>\n",
       "      <th>book_id_csv</th>\n",
       "    </tr>\n",
       "  </thead>\n",
       "  <tbody>\n",
       "    <tr>\n",
       "      <th>3653502</th>\n",
       "      <td>d4620877b85d883c77d4d2e0af488c8f</td>\n",
       "      <td>6854</td>\n",
       "      <td>4</td>\n",
       "      <td>74379</td>\n",
       "      <td>42703</td>\n",
       "    </tr>\n",
       "    <tr>\n",
       "      <th>4682740</th>\n",
       "      <td>2d2b2be03791bb8b0123a0c7d80e53b3</td>\n",
       "      <td>85321</td>\n",
       "      <td>5</td>\n",
       "      <td>70576</td>\n",
       "      <td>27954</td>\n",
       "    </tr>\n",
       "    <tr>\n",
       "      <th>5018032</th>\n",
       "      <td>a2d53c1c4d46ba947380a81d63a4d760</td>\n",
       "      <td>13518651</td>\n",
       "      <td>3</td>\n",
       "      <td>36197</td>\n",
       "      <td>213872</td>\n",
       "    </tr>\n",
       "  </tbody>\n",
       "</table>\n",
       "</div>"
      ],
      "text/plain": [
       "                                  user_id   book_id  rating  user_id_csv  \\\n",
       "3653502  d4620877b85d883c77d4d2e0af488c8f      6854       4        74379   \n",
       "4682740  2d2b2be03791bb8b0123a0c7d80e53b3     85321       5        70576   \n",
       "5018032  a2d53c1c4d46ba947380a81d63a4d760  13518651       3        36197   \n",
       "\n",
       "         book_id_csv  \n",
       "3653502        42703  \n",
       "4682740        27954  \n",
       "5018032       213872  "
      ]
     },
     "execution_count": 6,
     "metadata": {},
     "output_type": "execute_result"
    }
   ],
   "source": [
    "temp = pd.merge(train_df[['user_id', 'book_id', 'rating']], user_id_df[['user_id','user_id_csv']], on='user_id' )\n",
    "trainSet = pd.merge(temp[['user_id', 'book_id', 'rating', 'user_id_csv']], book_id_df[['book_id','book_id_csv']], on='book_id' )\n",
    "print(trainSet.shape)\n",
    "trainSet.sample(3)"
   ]
  },
  {
   "cell_type": "code",
   "execution_count": 7,
   "metadata": {},
   "outputs": [
    {
     "name": "stdout",
     "output_type": "stream",
     "text": [
      "(2549129, 5)\n"
     ]
    },
    {
     "data": {
      "text/html": [
       "<div>\n",
       "<style scoped>\n",
       "    .dataframe tbody tr th:only-of-type {\n",
       "        vertical-align: middle;\n",
       "    }\n",
       "\n",
       "    .dataframe tbody tr th {\n",
       "        vertical-align: top;\n",
       "    }\n",
       "\n",
       "    .dataframe thead th {\n",
       "        text-align: right;\n",
       "    }\n",
       "</style>\n",
       "<table border=\"1\" class=\"dataframe\">\n",
       "  <thead>\n",
       "    <tr style=\"text-align: right;\">\n",
       "      <th></th>\n",
       "      <th>user_id</th>\n",
       "      <th>book_id</th>\n",
       "      <th>rating</th>\n",
       "      <th>user_id_csv</th>\n",
       "      <th>book_id_csv</th>\n",
       "    </tr>\n",
       "  </thead>\n",
       "  <tbody>\n",
       "    <tr>\n",
       "      <th>2066666</th>\n",
       "      <td>491bed2878d77b63d5c70403eb1f86ff</td>\n",
       "      <td>23312692</td>\n",
       "      <td>5</td>\n",
       "      <td>593165</td>\n",
       "      <td>10140</td>\n",
       "    </tr>\n",
       "    <tr>\n",
       "      <th>1991895</th>\n",
       "      <td>aac9e85f2ebeb84578c6d9457bcbf7aa</td>\n",
       "      <td>7941693</td>\n",
       "      <td>4</td>\n",
       "      <td>320881</td>\n",
       "      <td>562905</td>\n",
       "    </tr>\n",
       "    <tr>\n",
       "      <th>1987790</th>\n",
       "      <td>a824ee0836b073758f2e6397ab5ab408</td>\n",
       "      <td>28146828</td>\n",
       "      <td>4</td>\n",
       "      <td>2595</td>\n",
       "      <td>359194</td>\n",
       "    </tr>\n",
       "  </tbody>\n",
       "</table>\n",
       "</div>"
      ],
      "text/plain": [
       "                                  user_id   book_id  rating  user_id_csv  \\\n",
       "2066666  491bed2878d77b63d5c70403eb1f86ff  23312692       5       593165   \n",
       "1991895  aac9e85f2ebeb84578c6d9457bcbf7aa   7941693       4       320881   \n",
       "1987790  a824ee0836b073758f2e6397ab5ab408  28146828       4         2595   \n",
       "\n",
       "         book_id_csv  \n",
       "2066666        10140  \n",
       "1991895       562905  \n",
       "1987790       359194  "
      ]
     },
     "execution_count": 7,
     "metadata": {},
     "output_type": "execute_result"
    }
   ],
   "source": [
    "temp = pd.merge(test_df[['user_id', 'book_id', 'rating']], user_id_df[['user_id','user_id_csv']], on='user_id' )\n",
    "testSet = pd.merge(temp[['user_id', 'book_id', 'rating', 'user_id_csv']], book_id_df[['book_id','book_id_csv']], on='book_id' )\n",
    "print(testSet.shape)\n",
    "testSet.sample(3)"
   ]
  },
  {
   "cell_type": "markdown",
   "metadata": {},
   "source": [
    "### Data Exploration"
   ]
  },
  {
   "cell_type": "code",
   "execution_count": 8,
   "metadata": {},
   "outputs": [
    {
     "data": {
      "text/html": [
       "<div>\n",
       "<style scoped>\n",
       "    .dataframe tbody tr th:only-of-type {\n",
       "        vertical-align: middle;\n",
       "    }\n",
       "\n",
       "    .dataframe tbody tr th {\n",
       "        vertical-align: top;\n",
       "    }\n",
       "\n",
       "    .dataframe thead th {\n",
       "        text-align: right;\n",
       "    }\n",
       "</style>\n",
       "<table border=\"1\" class=\"dataframe\">\n",
       "  <thead>\n",
       "    <tr style=\"text-align: right;\">\n",
       "      <th></th>\n",
       "      <th>book_id</th>\n",
       "      <th>rating</th>\n",
       "    </tr>\n",
       "  </thead>\n",
       "  <tbody>\n",
       "    <tr>\n",
       "      <th>count</th>\n",
       "      <td>9.876021e+06</td>\n",
       "      <td>9.876021e+06</td>\n",
       "    </tr>\n",
       "    <tr>\n",
       "      <th>mean</th>\n",
       "      <td>8.298135e+06</td>\n",
       "      <td>3.605505e+00</td>\n",
       "    </tr>\n",
       "    <tr>\n",
       "      <th>std</th>\n",
       "      <td>9.922950e+06</td>\n",
       "      <td>1.311846e+00</td>\n",
       "    </tr>\n",
       "    <tr>\n",
       "      <th>min</th>\n",
       "      <td>1.640000e+02</td>\n",
       "      <td>0.000000e+00</td>\n",
       "    </tr>\n",
       "    <tr>\n",
       "      <th>25%</th>\n",
       "      <td>9.829300e+04</td>\n",
       "      <td>3.000000e+00</td>\n",
       "    </tr>\n",
       "    <tr>\n",
       "      <th>50%</th>\n",
       "      <td>2.429135e+06</td>\n",
       "      <td>4.000000e+00</td>\n",
       "    </tr>\n",
       "    <tr>\n",
       "      <th>75%</th>\n",
       "      <td>1.608548e+07</td>\n",
       "      <td>5.000000e+00</td>\n",
       "    </tr>\n",
       "    <tr>\n",
       "      <th>max</th>\n",
       "      <td>3.649449e+07</td>\n",
       "      <td>5.000000e+00</td>\n",
       "    </tr>\n",
       "  </tbody>\n",
       "</table>\n",
       "</div>"
      ],
      "text/plain": [
       "            book_id        rating\n",
       "count  9.876021e+06  9.876021e+06\n",
       "mean   8.298135e+06  3.605505e+00\n",
       "std    9.922950e+06  1.311846e+00\n",
       "min    1.640000e+02  0.000000e+00\n",
       "25%    9.829300e+04  3.000000e+00\n",
       "50%    2.429135e+06  4.000000e+00\n",
       "75%    1.608548e+07  5.000000e+00\n",
       "max    3.649449e+07  5.000000e+00"
      ]
     },
     "execution_count": 8,
     "metadata": {},
     "output_type": "execute_result"
    }
   ],
   "source": [
    "train_df.describe()"
   ]
  },
  {
   "cell_type": "code",
   "execution_count": 9,
   "metadata": {},
   "outputs": [
    {
     "name": "stdout",
     "output_type": "stream",
     "text": [
      "<class 'pandas.core.frame.DataFrame'>\n",
      "RangeIndex: 9876021 entries, 0 to 9876020\n",
      "Data columns (total 3 columns):\n",
      "user_id    object\n",
      "book_id    int64\n",
      "rating     int64\n",
      "dtypes: int64(2), object(1)\n",
      "memory usage: 226.0+ MB\n"
     ]
    }
   ],
   "source": [
    "train_df.info()"
   ]
  },
  {
   "cell_type": "code",
   "execution_count": 10,
   "metadata": {},
   "outputs": [
    {
     "data": {
      "text/plain": [
       "user_id    0\n",
       "book_id    0\n",
       "rating     0\n",
       "dtype: int64"
      ]
     },
     "execution_count": 10,
     "metadata": {},
     "output_type": "execute_result"
    }
   ],
   "source": [
    "train_df.isnull().sum(axis=0)"
   ]
  },
  {
   "cell_type": "code",
   "execution_count": 11,
   "metadata": {},
   "outputs": [
    {
     "name": "stdout",
     "output_type": "stream",
     "text": [
      "Number of users:  211013\n",
      "Number of books:  497178\n"
     ]
    }
   ],
   "source": [
    "num_users = train_df.book_id.nunique()\n",
    "num_books = train_df.user_id.nunique()\n",
    "\n",
    "print(\"Number of users: \", num_users)\n",
    "print(\"Number of books: \", num_books)"
   ]
  },
  {
   "cell_type": "code",
   "execution_count": 12,
   "metadata": {},
   "outputs": [
    {
     "name": "stdout",
     "output_type": "stream",
     "text": [
      "rating=0, n=627848 (6.357%)\n",
      "rating=1, n=153336 (1.553%)\n",
      "rating=2, n=549580 (5.565%)\n",
      "rating=3, n=2367284 (23.970%)\n",
      "rating=4, n=3636165 (36.818%)\n",
      "rating=5, n=2541808 (25.737%)\n"
     ]
    },
    {
     "data": {
      "image/png": "[encoded data removed]",
      "text/plain": [
       "<Figure size 720x360 with 1 Axes>"
      ]
     },
     "metadata": {
      "needs_background": "light"
     },
     "output_type": "display_data"
    }
   ],
   "source": [
    "from collections import Counter\n",
    "\n",
    "counter = Counter(sorted(train_df.rating))\n",
    "\n",
    "for k,v in counter.items():\n",
    "    per = v/len(train_df.rating)*100\n",
    "    print('rating=%d, n=%d (%.3f%%)'%(k, v, per))\n",
    "\n",
    "#plot class distribution\n",
    "plt.figure(figsize=(10, 5))\n",
    "plt.title('Distribution of ratings')\n",
    "plt.bar(counter.keys(), counter.values())\n",
    "plt.xlabel('rating')\n",
    "plt.ylabel('number of ratings')\n",
    "plt.show()"
   ]
  },
  {
   "cell_type": "code",
   "execution_count": 13,
   "metadata": {},
   "outputs": [
    {
     "data": {
      "text/plain": [
       "((7900816, 5), (1975205, 5))"
      ]
     },
     "execution_count": 13,
     "metadata": {},
     "output_type": "execute_result"
    }
   ],
   "source": [
    "# split dataset into train and test dataset\n",
    "from sklearn.model_selection import train_test_split\n",
    "X_train, X_test = train_test_split(trainSet, test_size=0.2, random_state=42)\n",
    "X_train.shape, X_test.shape"
   ]
  },
  {
   "cell_type": "markdown",
   "metadata": {},
   "source": [
    "### Model Creation"
   ]
  },
  {
   "cell_type": "code",
   "execution_count": 14,
   "metadata": {},
   "outputs": [
    {
     "name": "stdout",
     "output_type": "stream",
     "text": [
      "Tensorflow Version:  1.14.0\n",
      "Keras Version:  2.2.4-tf\n"
     ]
    }
   ],
   "source": [
    "import tensorflow as tf\n",
    "print(\"Tensorflow Version: \", tf.__version__)\n",
    "print(\"Keras Version: \", tf.keras.__version__)"
   ]
  },
  {
   "cell_type": "code",
   "execution_count": 15,
   "metadata": {},
   "outputs": [],
   "source": [
    "from tensorflow.keras.models import Sequential, Model\n",
    "from tensorflow.keras.layers import Input, Embedding, Concatenate\n",
    "from tensorflow.keras.layers import Activation, Dropout, Flatten, Dense\n",
    "from tensorflow.keras.layers import BatchNormalization\n",
    "from tensorflow.keras.regularizers import l2\n",
    "from tensorflow.keras.optimizers import Adam\n",
    "from tensorflow.keras.layers import Dot\n",
    "from tensorflow.keras.layers import dot"
   ]
  },
  {
   "cell_type": "code",
   "execution_count": 16,
   "metadata": {},
   "outputs": [],
   "source": [
    "#https://medium.com/@victorkohler/collaborative-filtering-using-deep-neural-networks-in-tensorflow-96e5d41a39a1\n",
    "\n",
    "def gen_NN_model(n_factors, lr):\n",
    "    #user input network\n",
    "    input_users = Input(shape=[1])\n",
    "    embed_users = Embedding(num_users + 1, \n",
    "                            n_factors,\n",
    "                            embeddings_initializer='glorot_uniform',\n",
    "                            embeddings_regularizer=l2(0.0001))(input_users)\n",
    "    users_out = Flatten()(embed_users)\n",
    "    \n",
    "    #book input network\n",
    "    input_books = Input(shape=[1])\n",
    "    embed_books = Embedding(num_books + 1, \n",
    "                            n_factors,\n",
    "                            embeddings_initializer='glorot_uniform',\n",
    "                            embeddings_regularizer=l2(0.0001))(input_books)\n",
    "    books_out = Flatten()(embed_books)\n",
    "\n",
    "    conc_layer = Concatenate()([users_out, books_out])\n",
    "    x = Dropout(0.2)(conc_layer)\n",
    "    \n",
    "    x = Dense(64, activation='relu')(x)\n",
    "    x = BatchNormalization()(x) \n",
    "    x = Dropout(0.2)(x) \n",
    "    \n",
    "    x = Dense(32, activation='relu')(x)\n",
    "    x = BatchNormalization()(x) \n",
    "    x = Dropout(0.2)(x) \n",
    "    \n",
    "    x = Dense(16, activation='relu')(x)\n",
    "    x = Dense(8, activation='relu')(x)\n",
    "    #x = Dropout(0.5)(x) \n",
    "    #x = BatchNormalization()(x) \n",
    "    x_out = x = Dense(1, activation='relu')(x)\n",
    "    model = Model([input_users, input_books], x_out)\n",
    "    \n",
    "    model.compile(\n",
    "        optimizer=Adam(learning_rate=lr),\n",
    "        loss='mean_squared_error',\n",
    "        metrics = [tf.keras.metrics.RootMeanSquaredError(name='RMSE')]\n",
    "    )\n",
    "      \n",
    "    return model"
   ]
  },
  {
   "cell_type": "code",
   "execution_count": 17,
   "metadata": {},
   "outputs": [],
   "source": [
    "early_stopping = tf.keras.callbacks.EarlyStopping(\n",
    "    monitor='val_loss',\n",
    "    verbose=1,\n",
    "    patience=10,\n",
    "    mode='auto',\n",
    "    restore_best_weights=True\n",
    "    )"
   ]
  },
  {
   "cell_type": "markdown",
   "metadata": {},
   "source": [
    "### Model Training and Validation"
   ]
  },
  {
   "cell_type": "code",
   "execution_count": 18,
   "metadata": {},
   "outputs": [],
   "source": [
    "#set parameters\n",
    "EmbedSize = 32 \n",
    "Op_lr = 0.001 "
   ]
  },
  {
   "cell_type": "code",
   "execution_count": 19,
   "metadata": {},
   "outputs": [
    {
     "name": "stdout",
     "output_type": "stream",
     "text": [
      "WARNING:tensorflow:From /home/014521052/.local/lib/python3.6/site-packages/tensorflow/python/ops/init_ops.py:97: calling GlorotUniform.__init__ (from tensorflow.python.ops.init_ops) with dtype is deprecated and will be removed in a future version.\n",
      "Instructions for updating:\n",
      "Call initializer instance with the dtype argument instead of passing it to the constructor\n",
      "WARNING:tensorflow:From /home/014521052/.local/lib/python3.6/site-packages/tensorflow/python/ops/init_ops.py:1251: calling VarianceScaling.__init__ (from tensorflow.python.ops.init_ops) with dtype is deprecated and will be removed in a future version.\n",
      "Instructions for updating:\n",
      "Call initializer instance with the dtype argument instead of passing it to the constructor\n",
      "WARNING:tensorflow:From /home/014521052/.local/lib/python3.6/site-packages/tensorflow/python/ops/init_ops.py:97: calling Zeros.__init__ (from tensorflow.python.ops.init_ops) with dtype is deprecated and will be removed in a future version.\n",
      "Instructions for updating:\n",
      "Call initializer instance with the dtype argument instead of passing it to the constructor\n",
      "WARNING:tensorflow:From /home/014521052/.local/lib/python3.6/site-packages/tensorflow/python/ops/init_ops.py:97: calling Ones.__init__ (from tensorflow.python.ops.init_ops) with dtype is deprecated and will be removed in a future version.\n",
      "Instructions for updating:\n",
      "Call initializer instance with the dtype argument instead of passing it to the constructor\n"
     ]
    }
   ],
   "source": [
    "#model = gen_NN_model(n_factors=EmbedSize, lr=Op_lr)\n",
    "#model.summary()\n",
    "\n",
    "model = tf.keras.models.load_model('tf_NN_model(n_epoch3).h5')"
   ]
  },
  {
   "cell_type": "code",
   "execution_count": null,
   "metadata": {},
   "outputs": [
    {
     "name": "stdout",
     "output_type": "stream",
     "text": [
      "Train on 7900816 samples, validate on 1975205 samples\n",
      "2240512/7900816 [=======>......................] - ETA: 15:05 - loss: 1.6747 - RMSE: 1.2463"
     ]
    }
   ],
   "source": [
    "n_iter = 25\n",
    "\n",
    "for i in range(4, n_iter):\n",
    "    history = model.fit(\n",
    "        [X_train.user_id_csv, X_train.book_id_csv], X_train.rating,\n",
    "        batch_size=512,\n",
    "        epochs=1,\n",
    "        validation_data=([X_test.user_id_csv, X_test.book_id_csv], X_test.rating)\n",
    "    ) \n",
    "    \n",
    "    model_name = 'tf_NN_model(n_epoch%s)'%(i) + '.h5'\n",
    "    print(model_name)\n",
    "    model.save(model_name)"
   ]
  },
  {
   "cell_type": "markdown",
   "metadata": {},
   "source": [
    "### Model Evaluation using test dataset"
   ]
  },
  {
   "cell_type": "code",
   "execution_count": null,
   "metadata": {},
   "outputs": [],
   "source": [
    "plt.figure(figsize=(5, 5))\n",
    "plt.plot(history.history['loss'], label='Training Loss')\n",
    "plt.plot(history.history['val_loss'], label='Validation Loss')\n",
    "plt.legend(loc='upper right')\n",
    "plt.ylabel('MSE')\n",
    "plt.ylim([min(plt.ylim()), 2])\n",
    "plt.title('Training and Validation Loss')\n",
    "plt.xlabel('epoch')\n",
    "plt.show()"
   ]
  },
  {
   "cell_type": "code",
   "execution_count": null,
   "metadata": {},
   "outputs": [],
   "source": [
    "#new_model = tf.keras.models.load_model('my_model.h5')"
   ]
  }
 ],
 "metadata": {
  "kernelspec": {
   "display_name": "Python 3",
   "language": "python",
   "name": "python3"
  },
  "language_info": {
   "codemirror_mode": {
    "name": "ipython",
    "version": 3
   },
   "file_extension": ".py",
   "mimetype": "text/x-python",
   "name": "python",
   "nbconvert_exporter": "python",
   "pygments_lexer": "ipython3",
   "version": "3.6.6"
  }
 },
 "nbformat": 4,
 "nbformat_minor": 2
}
