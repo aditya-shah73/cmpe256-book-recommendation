{
 "cells": [
  {
   "cell_type": "markdown",
   "metadata": {},
   "source": [
    "This notebook generates a prediction for a user for a new book by averaging the ratings given by similar users for that book"
   ]
  },
  {
   "cell_type": "code",
   "execution_count": 1,
   "metadata": {},
   "outputs": [],
   "source": [
    "import pandas as pd\n",
    "test=pd.read_csv('test.csv')\n",
    "user_cluster=pd.read_csv('user_cluster_final.csv')\n",
    "train=pd.read_csv('latest_data/train.csv')"
   ]
  },
  {
   "cell_type": "code",
   "execution_count": 2,
   "metadata": {},
   "outputs": [],
   "source": [
    "user_cluster.set_index('user_id',inplace=True)"
   ]
  },
  {
   "cell_type": "code",
   "execution_count": 3,
   "metadata": {},
   "outputs": [],
   "source": [
    "user_cluster_test=test.merge(user_cluster,how='left',on='user_id')"
   ]
  },
  {
   "cell_type": "code",
   "execution_count": 16,
   "metadata": {},
   "outputs": [],
   "source": [
    "book_cluster=user_cluster_test[['book_id','cluster']].drop_duplicates()"
   ]
  },
  {
   "cell_type": "code",
   "execution_count": 17,
   "metadata": {},
   "outputs": [],
   "source": [
    "book_cluster=book_cluster.reset_index()"
   ]
  },
  {
   "cell_type": "code",
   "execution_count": 13,
   "metadata": {},
   "outputs": [],
   "source": [
    "#since this is very computation heavy, we use swifter to make run the \"apply\" method more efficiently on pandas\n",
    "import swifter "
   ]
  },
  {
   "cell_type": "code",
   "execution_count": 18,
   "metadata": {},
   "outputs": [],
   "source": [
    "def rating_for_book(book_id,cluster_number,index_):\n",
    "    print(index_)\n",
    "    similar_users=user_cluster[user_cluster['cluster']==cluster_number].index.to_list()\n",
    "    \n",
    "    train_temp=train[train['user_id'].isin(similar_users)]\n",
    "    train_temp=train_temp[train_temp['book_id']==book_id]\n",
    "\n",
    "    if len(train_temp)!=0:\n",
    "        return train_temp['rating'].mean()\n",
    "    else:\n",
    "        return \"Could not find\""
   ]
  },
  {
   "cell_type": "code",
   "execution_count": 19,
   "metadata": {},
   "outputs": [
    {
     "data": {
      "application/json": {
       "ascii": false,
       "bar_format": null,
       "colour": null,
       "elapsed": 0.1711888313293457,
       "initial": 0,
       "n": 0,
       "ncols": null,
       "nrows": null,
       "postfix": null,
       "prefix": "Dask Apply",
       "rate": null,
       "total": 16,
       "unit": "it",
       "unit_divisor": 1000,
       "unit_scale": false
      },
      "application/vnd.jupyter.widget-view+json": {
       "model_id": "6f6e78a640524c1e99040245414a0d4d",
       "version_major": 2,
       "version_minor": 0
      },
      "text/plain": [
       "Dask Apply:   0%|          | 0/16 [00:00<?, ?it/s]"
      ]
     },
     "metadata": {},
     "output_type": "display_data"
    }
   ],
   "source": [
    "book_cluster['predicted_rating']=book_cluster.swifter.apply(lambda x:rating_for_book(x['book_id'],x['cluster'],x['index']),axis=1)"
   ]
  },
  {
   "cell_type": "code",
   "execution_count": 20,
   "metadata": {},
   "outputs": [],
   "source": [
    "book_cluster.to_csv('book_cluster.csv')"
   ]
  },
  {
   "cell_type": "code",
   "execution_count": 21,
   "metadata": {},
   "outputs": [
    {
     "data": {
      "text/html": [
       "<div>\n",
       "<style scoped>\n",
       "    .dataframe tbody tr th:only-of-type {\n",
       "        vertical-align: middle;\n",
       "    }\n",
       "\n",
       "    .dataframe tbody tr th {\n",
       "        vertical-align: top;\n",
       "    }\n",
       "\n",
       "    .dataframe thead th {\n",
       "        text-align: right;\n",
       "    }\n",
       "</style>\n",
       "<table border=\"1\" class=\"dataframe\">\n",
       "  <thead>\n",
       "    <tr style=\"text-align: right;\">\n",
       "      <th></th>\n",
       "      <th>index</th>\n",
       "      <th>book_id</th>\n",
       "      <th>cluster</th>\n",
       "      <th>predicted_rating</th>\n",
       "    </tr>\n",
       "  </thead>\n",
       "  <tbody>\n",
       "    <tr>\n",
       "      <th>0</th>\n",
       "      <td>0</td>\n",
       "      <td>14781501</td>\n",
       "      <td>2</td>\n",
       "      <td>3.430397</td>\n",
       "    </tr>\n",
       "    <tr>\n",
       "      <th>1</th>\n",
       "      <td>1</td>\n",
       "      <td>32073180</td>\n",
       "      <td>2</td>\n",
       "      <td>3.119048</td>\n",
       "    </tr>\n",
       "    <tr>\n",
       "      <th>2</th>\n",
       "      <td>2</td>\n",
       "      <td>438247</td>\n",
       "      <td>2</td>\n",
       "      <td>3.601594</td>\n",
       "    </tr>\n",
       "    <tr>\n",
       "      <th>3</th>\n",
       "      <td>3</td>\n",
       "      <td>162085</td>\n",
       "      <td>2</td>\n",
       "      <td>3.511613</td>\n",
       "    </tr>\n",
       "    <tr>\n",
       "      <th>4</th>\n",
       "      <td>4</td>\n",
       "      <td>32682</td>\n",
       "      <td>2</td>\n",
       "      <td>3.954136</td>\n",
       "    </tr>\n",
       "    <tr>\n",
       "      <th>...</th>\n",
       "      <td>...</td>\n",
       "      <td>...</td>\n",
       "      <td>...</td>\n",
       "      <td>...</td>\n",
       "    </tr>\n",
       "    <tr>\n",
       "      <th>20373</th>\n",
       "      <td>49985</td>\n",
       "      <td>13420212</td>\n",
       "      <td>2</td>\n",
       "      <td>3.625</td>\n",
       "    </tr>\n",
       "    <tr>\n",
       "      <th>20374</th>\n",
       "      <td>49989</td>\n",
       "      <td>6498354</td>\n",
       "      <td>2</td>\n",
       "      <td>3.857143</td>\n",
       "    </tr>\n",
       "    <tr>\n",
       "      <th>20375</th>\n",
       "      <td>49992</td>\n",
       "      <td>1154163</td>\n",
       "      <td>2</td>\n",
       "      <td>3.222222</td>\n",
       "    </tr>\n",
       "    <tr>\n",
       "      <th>20376</th>\n",
       "      <td>49995</td>\n",
       "      <td>700953</td>\n",
       "      <td>2</td>\n",
       "      <td>2.857143</td>\n",
       "    </tr>\n",
       "    <tr>\n",
       "      <th>20377</th>\n",
       "      <td>49998</td>\n",
       "      <td>25893975</td>\n",
       "      <td>2</td>\n",
       "      <td>3.759259</td>\n",
       "    </tr>\n",
       "  </tbody>\n",
       "</table>\n",
       "<p>20378 rows × 4 columns</p>\n",
       "</div>"
      ],
      "text/plain": [
       "       index   book_id  cluster predicted_rating\n",
       "0          0  14781501        2         3.430397\n",
       "1          1  32073180        2         3.119048\n",
       "2          2    438247        2         3.601594\n",
       "3          3    162085        2         3.511613\n",
       "4          4     32682        2         3.954136\n",
       "...      ...       ...      ...              ...\n",
       "20373  49985  13420212        2            3.625\n",
       "20374  49989   6498354        2         3.857143\n",
       "20375  49992   1154163        2         3.222222\n",
       "20376  49995    700953        2         2.857143\n",
       "20377  49998  25893975        2         3.759259\n",
       "\n",
       "[20378 rows x 4 columns]"
      ]
     },
     "execution_count": 21,
     "metadata": {},
     "output_type": "execute_result"
    }
   ],
   "source": [
    "book_cluster"
   ]
  },
  {
   "cell_type": "code",
   "execution_count": 24,
   "metadata": {},
   "outputs": [],
   "source": [
    "final_output=user_cluster_test.merge(book_cluster,how='inner',on=['cluster','book_id'])"
   ]
  },
  {
   "cell_type": "code",
   "execution_count": 34,
   "metadata": {},
   "outputs": [],
   "source": [
    "knn_result=final_output[['user_id','book_id','rating','predicted_rating']].drop_duplicates()"
   ]
  },
  {
   "cell_type": "code",
   "execution_count": null,
   "metadata": {},
   "outputs": [],
   "source": [
    "knn_result.to_csv('kmeans_prediction.csv')"
   ]
  },
  {
   "cell_type": "code",
   "execution_count": 35,
   "metadata": {},
   "outputs": [],
   "source": [
    "#It is possible that for some users, their cluster members may also have not read a book. These users have \"Could not find\" rating for that book.\n",
    "filtered=knn_result[knn_result['predicted_rating']!='Could not find']\n",
    "y_actual=filtered['rating']\n",
    "y_predicted=filtered['predicted_rating']"
   ]
  },
  {
   "cell_type": "code",
   "execution_count": null,
   "metadata": {},
   "outputs": [],
   "source": [
    "from sklearn.metrics import mean_squared_error\n",
    "\n",
    "from math import sqrt\n",
    "\n",
    "rmse = sqrt(mean_squared_error(y_actual, y_predicted))\n",
    "\n",
    "print(rmse)"
   ]
  }
 ],
 "metadata": {
  "kernelspec": {
   "display_name": "Python 3",
   "language": "python",
   "name": "python3"
  },
  "language_info": {
   "codemirror_mode": {
    "name": "ipython",
    "version": 3
   },
   "file_extension": ".py",
   "mimetype": "text/x-python",
   "name": "python",
   "nbconvert_exporter": "python",
   "pygments_lexer": "ipython3",
   "version": "3.8.6"
  }
 },
 "nbformat": 4,
 "nbformat_minor": 4
}
